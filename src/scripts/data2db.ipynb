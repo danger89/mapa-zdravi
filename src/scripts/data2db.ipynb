{
 "cells": [
  {
   "cell_type": "code",
   "execution_count": 2,
   "metadata": {},
   "outputs": [],
   "source": [
    "import os\n",
    "import pandas as pd\n",
    "import psycopg2\n",
    "PATH_FINAL = '../../data/final/'"
   ]
  },
  {
   "cell_type": "code",
   "execution_count": null,
   "metadata": {},
   "outputs": [],
   "source": [
    "df = pd.read_csv(PATH_FINAL+'nrpzs.csv', index_col=0)\n",
    "df.columns = [x.lower() for x in df.columns]\n",
    "df.info()"
   ]
  },
  {
   "cell_type": "code",
   "execution_count": 89,
   "metadata": {},
   "outputs": [
    {
     "name": "stdout",
     "output_type": "stream",
     "text": [
      "39534\n"
     ]
    }
   ],
   "source": [
    "conn = psycopg2.connect(\n",
    "    host=\"__DB_HOST__\",\n",
    "    database=\"__DB_NAME__\",\n",
    "    user=\"__DB_USER__\",\n",
    "    password='__DB_PWD__')\n",
    "\n",
    "cur = conn.cursor()\n",
    "\n",
    "table_name = 'NRPZS'\n",
    "# cur.execute(f'DROP TABLE IF EXISTS {table_name};')\n",
    "\n",
    "cur.execute(\n",
    "    f'CREATE TABLE {table_name} ('\n",
    "    '__TABLE_COLUMNS__);'\n",
    ")\n",
    "\n",
    "ss = ('%s, '*len(df.columns))[:-2]\n",
    "columns_str = ','.join(df.columns)\n",
    "\n",
    "# Insert data into the table\n",
    "for i, row in df.iterrows():\n",
    "    # print(row.values)\n",
    "    cur.execute(f'INSERT INTO {table_name} ({columns_str})'\n",
    "                f'VALUES ({ss})',\n",
    "                tuple(row.values)\n",
    "                )\n",
    "\n",
    "print(i)\n",
    "\n",
    "conn.commit()\n",
    "cur.close()\n",
    "conn.close()\n"
   ]
  },
  {
   "cell_type": "code",
   "execution_count": 61,
   "metadata": {},
   "outputs": [
    {
     "data": {
      "text/plain": [
       "(241959,\n",
       " 173196,\n",
       " 7580151000000,\n",
       " 'Bc. Vojtěch Ventura',\n",
       " 'Zařízení pro léčbu závislostí',\n",
       " 'Varnsdorf',\n",
       " 40747.0,\n",
       " 'Ševčíkova',\n",
       " '3056',\n",
       " 'Ústecký kraj',\n",
       " 'CZ042',\n",
       " 'Děčín',\n",
       " 'CZ0421',\n",
       " nan,\n",
       " '+420777989542',\n",
       " nan,\n",
       " 'ventur@seznam.cz',\n",
       " nan,\n",
       " 7580151,\n",
       " 1,\n",
       " nan,\n",
       " 'CZ042',\n",
       " 'CZ0421',\n",
       " 'Varnsdorf',\n",
       " 40747.0,\n",
       " 'Ševčíkova',\n",
       " '3056',\n",
       " 'Adiktolog',\n",
       " 'specializovaná ambulantní péče',\n",
       " nan,\n",
       " nan,\n",
       " 50.898005438157995,\n",
       " 14.622948261002)"
      ]
     },
     "execution_count": 61,
     "metadata": {},
     "output_type": "execute_result"
    }
   ],
   "source": [
    "tuple(row.values)"
   ]
  },
  {
   "cell_type": "code",
   "execution_count": null,
   "metadata": {},
   "outputs": [],
   "source": [
    "# from sqlalchemy import create_engine\n",
    "# engine = create_engine(SQLALCHEMY_DATABASE_URI)\n",
    "\n",
    "# x = df.to_sql(\"DentistsAgeEstimate\", engine, if_exists='replace')\n",
    "# x"
   ]
  }
 ],
 "metadata": {
  "kernelspec": {
   "display_name": "Python 3.7.4 64-bit ('vzd')",
   "language": "python",
   "name": "python3"
  },
  "language_info": {
   "codemirror_mode": {
    "name": "ipython",
    "version": 3
   },
   "file_extension": ".py",
   "mimetype": "text/x-python",
   "name": "python",
   "nbconvert_exporter": "python",
   "pygments_lexer": "ipython3",
   "version": "3.7.4"
  },
  "orig_nbformat": 4,
  "vscode": {
   "interpreter": {
    "hash": "f08ea57a3b14e8972cb95441d2d329063d79c5206768d2acc286d89f92e5e608"
   }
  }
 },
 "nbformat": 4,
 "nbformat_minor": 2
}
