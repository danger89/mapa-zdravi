{
 "cells": [
  {
   "cell_type": "code",
   "execution_count": 2,
   "metadata": {},
   "outputs": [],
   "source": [
    "import sys\n",
    "sys.path.append('../utils/')\n",
    "from parsing import *\n",
    "\n",
    "import warnings\n",
    "warnings.filterwarnings(\"ignore\")\n",
    "\n",
    "PATH_INTERMEDIATE = '../../data/intermediate/'\n",
    "PATH_RAW = '../../data/raw/'"
   ]
  },
  {
   "cell_type": "markdown",
   "metadata": {},
   "source": [
    "## OZP"
   ]
  },
  {
   "cell_type": "code",
   "execution_count": 43,
   "metadata": {},
   "outputs": [],
   "source": [
    "insurance_companies = pd.DataFrame()"
   ]
  },
  {
   "cell_type": "code",
   "execution_count": 3,
   "metadata": {},
   "outputs": [],
   "source": [
    "ozp = pd.read_excel(PATH_RAW+'ic/ozp.xlsx')"
   ]
  },
  {
   "cell_type": "code",
   "execution_count": 44,
   "metadata": {},
   "outputs": [
    {
     "name": "stdout",
     "output_type": "stream",
     "text": [
      "<class 'pandas.core.frame.DataFrame'>\n",
      "RangeIndex: 343327 entries, 0 to 343326\n",
      "Data columns (total 5 columns):\n",
      "year                 343327 non-null int64\n",
      "facilities_id        343327 non-null int64\n",
      "expertise            343325 non-null object\n",
      "count                343327 non-null int64\n",
      "insurance_company    343327 non-null object\n",
      "dtypes: int64(3), object(2)\n",
      "memory usage: 13.1+ MB\n"
     ]
    }
   ],
   "source": [
    "ozp.columns = ['year', 'facilities_id', 'expertise', 'count'] # rok, identifikacni cislo strediska, odbornost, pocet vykonu\n",
    "ozp['insurance_company'] = 'OZP'\n",
    "ozp.info()\n",
    "insurance_companies = insurance_companies.append(ozp)"
   ]
  },
  {
   "cell_type": "code",
   "execution_count": 10,
   "metadata": {},
   "outputs": [],
   "source": [
    "vzp = pd.read_excel(PATH_RAW+'ic/vzp.xlsx')"
   ]
  },
  {
   "cell_type": "code",
   "execution_count": 45,
   "metadata": {},
   "outputs": [
    {
     "name": "stdout",
     "output_type": "stream",
     "text": [
      "<class 'pandas.core.frame.DataFrame'>\n",
      "RangeIndex: 455390 entries, 0 to 455389\n",
      "Data columns (total 6 columns):\n",
      "year                 455390 non-null int64\n",
      "expertise            455390 non-null object\n",
      "procedure_code       455390 non-null int64\n",
      "region               455390 non-null object\n",
      "count                455390 non-null int64\n",
      "insurance_company    455390 non-null object\n",
      "dtypes: int64(3), object(3)\n",
      "memory usage: 20.8+ MB\n"
     ]
    }
   ],
   "source": [
    "vzp.columns = ['year', 'expertise', 'procedure_code', 'region', 'count'] # rok, odbornost, kod vykonu, region, pocet vykonu\n",
    "vzp['insurance_company'] = 'VZP'\n",
    "vzp.info()\n",
    "insurance_companies = insurance_companies.append(vzp)"
   ]
  },
  {
   "cell_type": "markdown",
   "metadata": {},
   "source": [
    "## SKODA"
   ]
  },
  {
   "cell_type": "code",
   "execution_count": 55,
   "metadata": {},
   "outputs": [],
   "source": [
    "skoda = pd.read_csv(PATH_RAW+'ic/skoda.csv', sep=';', usecols=['odb','sum_vykony','ico','rok'])"
   ]
  },
  {
   "cell_type": "code",
   "execution_count": 56,
   "metadata": {},
   "outputs": [
    {
     "name": "stdout",
     "output_type": "stream",
     "text": [
      "<class 'pandas.core.frame.DataFrame'>\n",
      "RangeIndex: 80502 entries, 0 to 80501\n",
      "Data columns (total 5 columns):\n",
      "expertise            80491 non-null object\n",
      "count                80502 non-null int64\n",
      "facilities_id        80435 non-null float64\n",
      "year                 80502 non-null int64\n",
      "insurance_company    80502 non-null object\n",
      "dtypes: float64(1), int64(2), object(2)\n",
      "memory usage: 3.1+ MB\n"
     ]
    }
   ],
   "source": [
    "skoda.columns = ['expertise', 'count', 'facilities_id', 'year'] # rok, odbornost, kod vykonu, region, pocet vykonu\n",
    "skoda['insurance_company'] = 'SKODA'\n",
    "skoda.info()\n",
    "insurance_companies = insurance_companies.append(skoda)"
   ]
  },
  {
   "cell_type": "code",
   "execution_count": 70,
   "metadata": {},
   "outputs": [
    {
     "name": "stdout",
     "output_type": "stream",
     "text": [
      "<class 'pandas.core.frame.DataFrame'>\n",
      "Int64Index: 879219 entries, 0 to 80501\n",
      "Data columns (total 7 columns):\n",
      "count                879219 non-null int64\n",
      "expertise            879206 non-null object\n",
      "facilities_id        423762 non-null float64\n",
      "insurance_company    879219 non-null object\n",
      "procedure_code       455390 non-null float64\n",
      "region               455390 non-null object\n",
      "year                 879219 non-null int64\n",
      "dtypes: float64(2), int64(2), object(3)\n",
      "memory usage: 53.7+ MB\n"
     ]
    }
   ],
   "source": [
    "insurance_companies.reset_index().to_feather(PATH_INTERMEDIATE+'insurance_companies.ftr')\n",
    "insurance_companies.info()\n",
    "\n",
    "# https://szv.mzcr.cz/Ciselnik/Odbornost?page=4"
   ]
  },
  {
   "cell_type": "markdown",
   "metadata": {},
   "source": [
    "## NRPZS"
   ]
  },
  {
   "cell_type": "code",
   "execution_count": 78,
   "metadata": {},
   "outputs": [
    {
     "data": {
      "text/plain": [
       "Index(['MistoPoskytovaniId', 'ZdravotnickeZarizeniId', 'Kod', 'NazevZarizeni',\n",
       "       'DruhZarizeni', 'Obec', 'Psc', 'Ulice', 'CisloDomovniOrientacni',\n",
       "       'Kraj', 'KrajCode', 'Okres', 'OkresCode', 'SpravniObvod',\n",
       "       'PoskytovatelTelefon', 'PoskytovatelFax', 'PoskytovatelEmail',\n",
       "       'PoskytovatelWeb', 'Ico', 'TypOsoby', 'PravniFormaKod', 'KrajCodeSidlo',\n",
       "       'OkresCodeSidlo', 'ObecSidlo', 'PscSidlo', 'UliceSidlo',\n",
       "       'CisloDomovniOrientacniSidlo', 'OborPece', 'FormaPece', 'DruhPece',\n",
       "       'OdbornyZastupce', 'Lat', 'Lng'],\n",
       "      dtype='object')"
      ]
     },
     "execution_count": 78,
     "metadata": {},
     "output_type": "execute_result"
    }
   ],
   "source": [
    "nrpzs = pd.read_csv(PATH_RAW+'nrpzs.csv')\n",
    "nrpzs.columns"
   ]
  },
  {
   "cell_type": "code",
   "execution_count": 118,
   "metadata": {},
   "outputs": [
    {
     "data": {
      "text/plain": [
       "Index(['MistoPoskytovaniId', 'ZdravotnickeZarizeniId', 'NazevZarizeni',\n",
       "       'DruhZarizeni', 'Obec', 'Psc', 'Ulice', 'CisloDomovniOrientacni',\n",
       "       'Kraj', 'Okres', 'SpravniObvod', 'Ico', 'TypOsoby', 'ObecSidlo',\n",
       "       'PscSidlo', 'UliceSidlo', 'CisloDomovniOrientacniSidlo', 'OborPece',\n",
       "       'FormaPece', 'DruhPece', 'OdbornyZastupce', 'Lat', 'Lng'],\n",
       "      dtype='object')"
      ]
     },
     "metadata": {},
     "output_type": "display_data"
    },
    {
     "data": {
      "text/html": [
       "<div>\n",
       "<style scoped>\n",
       "    .dataframe tbody tr th:only-of-type {\n",
       "        vertical-align: middle;\n",
       "    }\n",
       "\n",
       "    .dataframe tbody tr th {\n",
       "        vertical-align: top;\n",
       "    }\n",
       "\n",
       "    .dataframe thead th {\n",
       "        text-align: right;\n",
       "    }\n",
       "</style>\n",
       "<table border=\"1\" class=\"dataframe\">\n",
       "  <thead>\n",
       "    <tr style=\"text-align: right;\">\n",
       "      <th></th>\n",
       "      <th>MistoPoskytovaniId</th>\n",
       "      <th>ZdravotnickeZarizeniId</th>\n",
       "      <th>NazevZarizeni</th>\n",
       "      <th>DruhZarizeni</th>\n",
       "      <th>Obec</th>\n",
       "      <th>Psc</th>\n",
       "      <th>Ulice</th>\n",
       "      <th>CisloDomovniOrientacni</th>\n",
       "      <th>Kraj</th>\n",
       "      <th>Okres</th>\n",
       "      <th>...</th>\n",
       "      <th>ObecSidlo</th>\n",
       "      <th>PscSidlo</th>\n",
       "      <th>UliceSidlo</th>\n",
       "      <th>CisloDomovniOrientacniSidlo</th>\n",
       "      <th>OborPece</th>\n",
       "      <th>FormaPece</th>\n",
       "      <th>DruhPece</th>\n",
       "      <th>OdbornyZastupce</th>\n",
       "      <th>Lat</th>\n",
       "      <th>Lng</th>\n",
       "    </tr>\n",
       "  </thead>\n",
       "  <tbody>\n",
       "    <tr>\n",
       "      <td>0</td>\n",
       "      <td>240269</td>\n",
       "      <td>161751</td>\n",
       "      <td>Mgr. Kateřina Konečná</td>\n",
       "      <td>Samostatné zařízení fyzioterapeuta</td>\n",
       "      <td>Olomouc</td>\n",
       "      <td>77900.0</td>\n",
       "      <td>Březinova</td>\n",
       "      <td>136/7</td>\n",
       "      <td>Olomoucký kraj</td>\n",
       "      <td>Olomouc</td>\n",
       "      <td>...</td>\n",
       "      <td>NaN</td>\n",
       "      <td>NaN</td>\n",
       "      <td>NaN</td>\n",
       "      <td>NaN</td>\n",
       "      <td>Fyzioterapeut</td>\n",
       "      <td>zdrav. péče poskytovaná ve vlastním soc. prost...</td>\n",
       "      <td>léčebně rehabilitační péče</td>\n",
       "      <td>NaN</td>\n",
       "      <td>49.592352</td>\n",
       "      <td>17.273803</td>\n",
       "    </tr>\n",
       "    <tr>\n",
       "      <td>1</td>\n",
       "      <td>240267</td>\n",
       "      <td>161750</td>\n",
       "      <td>VAŠE ZUBNÍ CENTRUM s.r.o.</td>\n",
       "      <td>Samostatná ordinace PL - stomatologa</td>\n",
       "      <td>Louny</td>\n",
       "      <td>44001.0</td>\n",
       "      <td>Kosmonautů</td>\n",
       "      <td>2304</td>\n",
       "      <td>Ústecký kraj</td>\n",
       "      <td>Louny</td>\n",
       "      <td>...</td>\n",
       "      <td>Ústí nad Labem</td>\n",
       "      <td>40001.0</td>\n",
       "      <td>Masarykova</td>\n",
       "      <td>118/147</td>\n",
       "      <td>zubní lékařství</td>\n",
       "      <td>primární ambulantní péče</td>\n",
       "      <td>NaN</td>\n",
       "      <td>MUDr. VĚRA NOVÁČKOVÁ</td>\n",
       "      <td>50.358212</td>\n",
       "      <td>13.791025</td>\n",
       "    </tr>\n",
       "    <tr>\n",
       "      <td>2</td>\n",
       "      <td>240243</td>\n",
       "      <td>161747</td>\n",
       "      <td>Opti Medical s.r.o.</td>\n",
       "      <td>Oční optika</td>\n",
       "      <td>Vysoké Mýto</td>\n",
       "      <td>56601.0</td>\n",
       "      <td>nám. Přemysla Otakara II.</td>\n",
       "      <td>13</td>\n",
       "      <td>Pardubický kraj</td>\n",
       "      <td>Ústí nad Orlicí</td>\n",
       "      <td>...</td>\n",
       "      <td>Pardubice</td>\n",
       "      <td>53002.0</td>\n",
       "      <td>Havlíčkova</td>\n",
       "      <td>445</td>\n",
       "      <td>Optometrista</td>\n",
       "      <td>ambulantní péče</td>\n",
       "      <td>NaN</td>\n",
       "      <td>Adéla Schejbalová</td>\n",
       "      <td>49.954398</td>\n",
       "      <td>16.160298</td>\n",
       "    </tr>\n",
       "    <tr>\n",
       "      <td>3</td>\n",
       "      <td>240260</td>\n",
       "      <td>161746</td>\n",
       "      <td>K i S MAX s.r.o.</td>\n",
       "      <td>Samostatná ordinace PL - stomatologa</td>\n",
       "      <td>Chýnov</td>\n",
       "      <td>39155.0</td>\n",
       "      <td>Nádražní</td>\n",
       "      <td>400</td>\n",
       "      <td>Jihočeský kraj</td>\n",
       "      <td>Tábor</td>\n",
       "      <td>...</td>\n",
       "      <td>Chýnov</td>\n",
       "      <td>39155.0</td>\n",
       "      <td>Nádražní</td>\n",
       "      <td>400</td>\n",
       "      <td>zubní lékařství</td>\n",
       "      <td>ambulantní péče</td>\n",
       "      <td>NaN</td>\n",
       "      <td>Petr Chrášťanský</td>\n",
       "      <td>49.414237</td>\n",
       "      <td>14.811757</td>\n",
       "    </tr>\n",
       "    <tr>\n",
       "      <td>4</td>\n",
       "      <td>240254</td>\n",
       "      <td>161745</td>\n",
       "      <td>Magnolia Medical s.r.o.</td>\n",
       "      <td>Výdejna zdravotnických prostředků</td>\n",
       "      <td>Karlovy Vary</td>\n",
       "      <td>36005.0</td>\n",
       "      <td>Sokolovská</td>\n",
       "      <td>138/74</td>\n",
       "      <td>Karlovarský kraj</td>\n",
       "      <td>Karlovy Vary</td>\n",
       "      <td>...</td>\n",
       "      <td>Teplička</td>\n",
       "      <td>36464.0</td>\n",
       "      <td>NaN</td>\n",
       "      <td>6</td>\n",
       "      <td>NaN</td>\n",
       "      <td>NaN</td>\n",
       "      <td>lékárenská péče</td>\n",
       "      <td>MARTINA ŠTELLNEROVÁ</td>\n",
       "      <td>50.234089</td>\n",
       "      <td>12.857118</td>\n",
       "    </tr>\n",
       "  </tbody>\n",
       "</table>\n",
       "<p>5 rows × 23 columns</p>\n",
       "</div>"
      ],
      "text/plain": [
       "   MistoPoskytovaniId  ZdravotnickeZarizeniId              NazevZarizeni  \\\n",
       "0              240269                  161751      Mgr. Kateřina Konečná   \n",
       "1              240267                  161750  VAŠE ZUBNÍ CENTRUM s.r.o.   \n",
       "2              240243                  161747        Opti Medical s.r.o.   \n",
       "3              240260                  161746           K i S MAX s.r.o.   \n",
       "4              240254                  161745    Magnolia Medical s.r.o.   \n",
       "\n",
       "                           DruhZarizeni          Obec      Psc  \\\n",
       "0    Samostatné zařízení fyzioterapeuta       Olomouc  77900.0   \n",
       "1  Samostatná ordinace PL - stomatologa         Louny  44001.0   \n",
       "2                           Oční optika   Vysoké Mýto  56601.0   \n",
       "3  Samostatná ordinace PL - stomatologa        Chýnov  39155.0   \n",
       "4     Výdejna zdravotnických prostředků  Karlovy Vary  36005.0   \n",
       "\n",
       "                       Ulice CisloDomovniOrientacni              Kraj  \\\n",
       "0                  Březinova                  136/7    Olomoucký kraj   \n",
       "1                 Kosmonautů                   2304      Ústecký kraj   \n",
       "2  nám. Přemysla Otakara II.                     13   Pardubický kraj   \n",
       "3                   Nádražní                    400    Jihočeský kraj   \n",
       "4                 Sokolovská                 138/74  Karlovarský kraj   \n",
       "\n",
       "             Okres  ...       ObecSidlo  PscSidlo  UliceSidlo  \\\n",
       "0          Olomouc  ...             NaN       NaN         NaN   \n",
       "1            Louny  ...  Ústí nad Labem   40001.0  Masarykova   \n",
       "2  Ústí nad Orlicí  ...       Pardubice   53002.0  Havlíčkova   \n",
       "3            Tábor  ...          Chýnov   39155.0    Nádražní   \n",
       "4     Karlovy Vary  ...        Teplička   36464.0         NaN   \n",
       "\n",
       "  CisloDomovniOrientacniSidlo         OborPece  \\\n",
       "0                         NaN    Fyzioterapeut   \n",
       "1                     118/147  zubní lékařství   \n",
       "2                         445     Optometrista   \n",
       "3                         400  zubní lékařství   \n",
       "4                           6              NaN   \n",
       "\n",
       "                                           FormaPece  \\\n",
       "0  zdrav. péče poskytovaná ve vlastním soc. prost...   \n",
       "1                           primární ambulantní péče   \n",
       "2                                    ambulantní péče   \n",
       "3                                    ambulantní péče   \n",
       "4                                                NaN   \n",
       "\n",
       "                     DruhPece       OdbornyZastupce        Lat        Lng  \n",
       "0  léčebně rehabilitační péče                   NaN  49.592352  17.273803  \n",
       "1                         NaN  MUDr. VĚRA NOVÁČKOVÁ  50.358212  13.791025  \n",
       "2                         NaN     Adéla Schejbalová  49.954398  16.160298  \n",
       "3                         NaN      Petr Chrášťanský  49.414237  14.811757  \n",
       "4             lékárenská péče   MARTINA ŠTELLNEROVÁ  50.234089  12.857118  \n",
       "\n",
       "[5 rows x 23 columns]"
      ]
     },
     "execution_count": 118,
     "metadata": {},
     "output_type": "execute_result"
    }
   ],
   "source": [
    "nrpzs = nrpzs[[x for x in nrpzs.columns if not 'Poskytovatel' in x and not 'Code' in x and not 'Kod' in x]]\n",
    "display(nrpzs.columns)\n",
    "\n",
    "nrpzs.head()"
   ]
  },
  {
   "cell_type": "code",
   "execution_count": 135,
   "metadata": {},
   "outputs": [
    {
     "data": {
      "text/plain": [
       "Obec\n",
       "Praha 5     661\n",
       "Praha 4     766\n",
       "Plzeň       897\n",
       "Ostrava    1250\n",
       "Brno       2101\n",
       "Name: MistoPoskytovaniId, dtype: int64"
      ]
     },
     "metadata": {},
     "output_type": "display_data"
    },
    {
     "data": {
      "text/plain": [
       "Okres\n",
       "Ústí nad Orlicí        474\n",
       "Nový Jičín             494\n",
       "Hodonín                519\n",
       "Vsetín                 525\n",
       "Uherské Hradiště       554\n",
       "Liberec                571\n",
       "Opava                  572\n",
       "Brno-venkov            583\n",
       "Pardubice              601\n",
       "Karlovy Vary           647\n",
       "Hradec Králové         662\n",
       "Frýdek-Místek          705\n",
       "Karviná                747\n",
       "České Budějovice       747\n",
       "Zlín                   837\n",
       "Plzeň-město            928\n",
       "Olomouc               1067\n",
       "Ostrava-město         1335\n",
       "Brno-město            2101\n",
       "Hlavní město Praha    6216\n",
       "Name: MistoPoskytovaniId, dtype: int64"
      ]
     },
     "execution_count": 135,
     "metadata": {},
     "output_type": "execute_result"
    }
   ],
   "source": [
    "display(nrpzs.groupby('Obec').count()['MistoPoskytovaniId'].sort_values().tail(5))\n",
    "nrpzs.groupby('Okres').count()['MistoPoskytovaniId'].sort_values().tail(20)"
   ]
  },
  {
   "cell_type": "code",
   "execution_count": null,
   "metadata": {},
   "outputs": [],
   "source": []
  }
 ],
 "metadata": {
  "kernelspec": {
   "display_name": "Python [conda env:vzd] *",
   "language": "python",
   "name": "conda-env-vzd-py"
  },
  "language_info": {
   "codemirror_mode": {
    "name": "ipython",
    "version": 3
   },
   "file_extension": ".py",
   "mimetype": "text/x-python",
   "name": "python",
   "nbconvert_exporter": "python",
   "pygments_lexer": "ipython3",
   "version": "3.7.4"
  }
 },
 "nbformat": 4,
 "nbformat_minor": 4
}
