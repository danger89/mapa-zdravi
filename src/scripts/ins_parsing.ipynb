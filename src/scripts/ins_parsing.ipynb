{
 "cells": [
  {
   "cell_type": "code",
   "execution_count": 7,
   "metadata": {},
   "outputs": [],
   "source": [
    "import sys\n",
    "sys.path.append('../utils/')\n",
    "from parsing import *\n",
    "import pandas as pd\n",
    "import re\n",
    "\n",
    "import warnings\n",
    "warnings.filterwarnings(\"ignore\")\n",
    "\n",
    "PATH_INTERMEDIATE = '../../data/intermediate/'\n",
    "PATH_RAW = '../../data/raw/'\n",
    "PATH_FINAL = '../../data/final/'"
   ]
  },
  {
   "cell_type": "markdown",
   "metadata": {},
   "source": [
    "## OZP"
   ]
  },
  {
   "cell_type": "code",
   "execution_count": 41,
   "metadata": {},
   "outputs": [],
   "source": [
    "insurance_companies = pd.DataFrame()"
   ]
  },
  {
   "cell_type": "code",
   "execution_count": 42,
   "metadata": {},
   "outputs": [],
   "source": [
    "ozp = pd.read_excel(PATH_RAW+'ic/ozp.xlsx')"
   ]
  },
  {
   "cell_type": "code",
   "execution_count": 43,
   "metadata": {},
   "outputs": [
    {
     "name": "stdout",
     "output_type": "stream",
     "text": [
      "<class 'pandas.core.frame.DataFrame'>\n",
      "RangeIndex: 343327 entries, 0 to 343326\n",
      "Data columns (total 5 columns):\n",
      "year                 343327 non-null int64\n",
      "facility_id          343327 non-null int64\n",
      "expertise            343325 non-null object\n",
      "count                343327 non-null int64\n",
      "insurance_company    343327 non-null object\n",
      "dtypes: int64(3), object(2)\n",
      "memory usage: 13.1+ MB\n"
     ]
    }
   ],
   "source": [
    "ozp.columns = ['year', 'facility_id', 'expertise', 'count'] # rok, identifikacni cislo strediska, odbornost, pocet vykonu\n",
    "ozp['insurance_company'] = 'OZP'\n",
    "ozp.info()\n",
    "insurance_companies = insurance_companies.append(ozp)"
   ]
  },
  {
   "cell_type": "markdown",
   "metadata": {},
   "source": [
    "## VZP"
   ]
  },
  {
   "cell_type": "code",
   "execution_count": 44,
   "metadata": {},
   "outputs": [],
   "source": [
    "vzp = pd.read_excel(PATH_RAW+'ic/vzp.xlsx')"
   ]
  },
  {
   "cell_type": "code",
   "execution_count": 45,
   "metadata": {},
   "outputs": [
    {
     "name": "stdout",
     "output_type": "stream",
     "text": [
      "<class 'pandas.core.frame.DataFrame'>\n",
      "RangeIndex: 455390 entries, 0 to 455389\n",
      "Data columns (total 6 columns):\n",
      "year                 455390 non-null int64\n",
      "expertise            455390 non-null object\n",
      "procedure_code       455390 non-null int64\n",
      "region               455390 non-null object\n",
      "count                455390 non-null int64\n",
      "insurance_company    455390 non-null object\n",
      "dtypes: int64(3), object(3)\n",
      "memory usage: 20.8+ MB\n"
     ]
    }
   ],
   "source": [
    "vzp.columns = ['year', 'expertise', 'procedure_code', 'region', 'count'] # rok, odbornost, kod vykonu, region, pocet vykonu\n",
    "vzp['insurance_company'] = 'VZP'\n",
    "vzp.info()\n",
    "insurance_companies = insurance_companies.append(vzp)"
   ]
  },
  {
   "cell_type": "markdown",
   "metadata": {},
   "source": [
    "## SKODA"
   ]
  },
  {
   "cell_type": "code",
   "execution_count": 46,
   "metadata": {},
   "outputs": [],
   "source": [
    "skoda = pd.read_csv(PATH_RAW+'ic/skoda.csv', sep=';', usecols=['odb','sum_vykony','ico','rok'])"
   ]
  },
  {
   "cell_type": "code",
   "execution_count": 47,
   "metadata": {},
   "outputs": [
    {
     "name": "stdout",
     "output_type": "stream",
     "text": [
      "<class 'pandas.core.frame.DataFrame'>\n",
      "RangeIndex: 80502 entries, 0 to 80501\n",
      "Data columns (total 5 columns):\n",
      "expertise            80491 non-null object\n",
      "count                80502 non-null int64\n",
      "facility_id          80435 non-null float64\n",
      "year                 80502 non-null int64\n",
      "insurance_company    80502 non-null object\n",
      "dtypes: float64(1), int64(2), object(2)\n",
      "memory usage: 3.1+ MB\n"
     ]
    }
   ],
   "source": [
    "skoda.columns = ['expertise', 'count', 'facility_id', 'year'] # rok, odbornost, kod vykonu, region, pocet vykonu\n",
    "skoda['insurance_company'] = 'SKODA'\n",
    "skoda.info()\n",
    "insurance_companies = insurance_companies.append(skoda)"
   ]
  },
  {
   "cell_type": "code",
   "execution_count": 30,
   "metadata": {},
   "outputs": [
    {
     "data": {
      "text/html": [
       "<div>\n",
       "<style scoped>\n",
       "    .dataframe tbody tr th:only-of-type {\n",
       "        vertical-align: middle;\n",
       "    }\n",
       "\n",
       "    .dataframe tbody tr th {\n",
       "        vertical-align: top;\n",
       "    }\n",
       "\n",
       "    .dataframe thead th {\n",
       "        text-align: right;\n",
       "    }\n",
       "</style>\n",
       "<table border=\"1\" class=\"dataframe\">\n",
       "  <thead>\n",
       "    <tr style=\"text-align: right;\">\n",
       "      <th></th>\n",
       "      <th>count</th>\n",
       "      <th>expertise_code</th>\n",
       "      <th>facilities_id</th>\n",
       "      <th>insurance_company</th>\n",
       "      <th>procedure_code</th>\n",
       "      <th>region</th>\n",
       "      <th>year</th>\n",
       "    </tr>\n",
       "    <tr>\n",
       "      <th>index</th>\n",
       "      <th></th>\n",
       "      <th></th>\n",
       "      <th></th>\n",
       "      <th></th>\n",
       "      <th></th>\n",
       "      <th></th>\n",
       "      <th></th>\n",
       "    </tr>\n",
       "  </thead>\n",
       "  <tbody>\n",
       "    <tr>\n",
       "      <th>0</th>\n",
       "      <td>122</td>\n",
       "      <td>001</td>\n",
       "      <td>69909041.0</td>\n",
       "      <td>OZP</td>\n",
       "      <td>NaN</td>\n",
       "      <td>None</td>\n",
       "      <td>2012</td>\n",
       "    </tr>\n",
       "    <tr>\n",
       "      <th>1</th>\n",
       "      <td>13</td>\n",
       "      <td>002</td>\n",
       "      <td>844641.0</td>\n",
       "      <td>OZP</td>\n",
       "      <td>NaN</td>\n",
       "      <td>None</td>\n",
       "      <td>2017</td>\n",
       "    </tr>\n",
       "    <tr>\n",
       "      <th>2</th>\n",
       "      <td>74</td>\n",
       "      <td>201</td>\n",
       "      <td>225827.0</td>\n",
       "      <td>OZP</td>\n",
       "      <td>NaN</td>\n",
       "      <td>None</td>\n",
       "      <td>2012</td>\n",
       "    </tr>\n",
       "    <tr>\n",
       "      <th>3</th>\n",
       "      <td>526</td>\n",
       "      <td>902</td>\n",
       "      <td>87143241.0</td>\n",
       "      <td>OZP</td>\n",
       "      <td>NaN</td>\n",
       "      <td>None</td>\n",
       "      <td>2020</td>\n",
       "    </tr>\n",
       "    <tr>\n",
       "      <th>4</th>\n",
       "      <td>188</td>\n",
       "      <td>014</td>\n",
       "      <td>47767090.0</td>\n",
       "      <td>OZP</td>\n",
       "      <td>NaN</td>\n",
       "      <td>None</td>\n",
       "      <td>2015</td>\n",
       "    </tr>\n",
       "    <tr>\n",
       "      <th>...</th>\n",
       "      <td>...</td>\n",
       "      <td>...</td>\n",
       "      <td>...</td>\n",
       "      <td>...</td>\n",
       "      <td>...</td>\n",
       "      <td>...</td>\n",
       "      <td>...</td>\n",
       "    </tr>\n",
       "    <tr>\n",
       "      <th>80497</th>\n",
       "      <td>5</td>\n",
       "      <td>5R6</td>\n",
       "      <td>843989.0</td>\n",
       "      <td>SKODA</td>\n",
       "      <td>NaN</td>\n",
       "      <td>None</td>\n",
       "      <td>2021</td>\n",
       "    </tr>\n",
       "    <tr>\n",
       "      <th>80498</th>\n",
       "      <td>1</td>\n",
       "      <td>407</td>\n",
       "      <td>843989.0</td>\n",
       "      <td>SKODA</td>\n",
       "      <td>NaN</td>\n",
       "      <td>None</td>\n",
       "      <td>2021</td>\n",
       "    </tr>\n",
       "    <tr>\n",
       "      <th>80499</th>\n",
       "      <td>1</td>\n",
       "      <td>306</td>\n",
       "      <td>26095203.0</td>\n",
       "      <td>SKODA</td>\n",
       "      <td>NaN</td>\n",
       "      <td>None</td>\n",
       "      <td>2021</td>\n",
       "    </tr>\n",
       "    <tr>\n",
       "      <th>80500</th>\n",
       "      <td>3</td>\n",
       "      <td>107</td>\n",
       "      <td>2866251.0</td>\n",
       "      <td>SKODA</td>\n",
       "      <td>NaN</td>\n",
       "      <td>None</td>\n",
       "      <td>2021</td>\n",
       "    </tr>\n",
       "    <tr>\n",
       "      <th>80501</th>\n",
       "      <td>1</td>\n",
       "      <td>209</td>\n",
       "      <td>48678627.0</td>\n",
       "      <td>SKODA</td>\n",
       "      <td>NaN</td>\n",
       "      <td>None</td>\n",
       "      <td>2021</td>\n",
       "    </tr>\n",
       "  </tbody>\n",
       "</table>\n",
       "<p>879219 rows × 7 columns</p>\n",
       "</div>"
      ],
      "text/plain": [
       "       count expertise_code  facilities_id insurance_company  procedure_code  \\\n",
       "index                                                                          \n",
       "0        122            001     69909041.0               OZP             NaN   \n",
       "1         13            002       844641.0               OZP             NaN   \n",
       "2         74            201       225827.0               OZP             NaN   \n",
       "3        526            902     87143241.0               OZP             NaN   \n",
       "4        188            014     47767090.0               OZP             NaN   \n",
       "...      ...            ...            ...               ...             ...   \n",
       "80497      5            5R6       843989.0             SKODA             NaN   \n",
       "80498      1            407       843989.0             SKODA             NaN   \n",
       "80499      1            306     26095203.0             SKODA             NaN   \n",
       "80500      3            107      2866251.0             SKODA             NaN   \n",
       "80501      1            209     48678627.0             SKODA             NaN   \n",
       "\n",
       "      region  year  \n",
       "index               \n",
       "0       None  2012  \n",
       "1       None  2017  \n",
       "2       None  2012  \n",
       "3       None  2020  \n",
       "4       None  2015  \n",
       "...      ...   ...  \n",
       "80497   None  2021  \n",
       "80498   None  2021  \n",
       "80499   None  2021  \n",
       "80500   None  2021  \n",
       "80501   None  2021  \n",
       "\n",
       "[879219 rows x 7 columns]"
      ]
     },
     "execution_count": 30,
     "metadata": {},
     "output_type": "execute_result"
    }
   ],
   "source": [
    "insurance_companies.rename(columns={'expertise':'expertise_code'})"
   ]
  },
  {
   "cell_type": "code",
   "execution_count": 36,
   "metadata": {},
   "outputs": [
    {
     "name": "stdout",
     "output_type": "stream",
     "text": [
      "<class 'pandas.core.frame.DataFrame'>\n",
      "Int64Index: 879219 entries, 0 to 80501\n",
      "Data columns (total 7 columns):\n",
      " #   Column             Non-Null Count   Dtype  \n",
      "---  ------             --------------   -----  \n",
      " 0   count              879219 non-null  int64  \n",
      " 1   expertise_code     879206 non-null  object \n",
      " 2   facilities_id      423762 non-null  float64\n",
      " 3   insurance_company  879219 non-null  object \n",
      " 4   procedure_code     455390 non-null  float64\n",
      " 5   region             455390 non-null  object \n",
      " 6   year               879219 non-null  int64  \n",
      "dtypes: float64(2), int64(2), object(3)\n",
      "memory usage: 53.7+ MB\n"
     ]
    }
   ],
   "source": [
    "insurance_companies.reset_index().to_feather(PATH_INTERMEDIATE+'insurance_companies.ftr')\n",
    "insurance_companies.info()"
   ]
  },
  {
   "cell_type": "markdown",
   "metadata": {},
   "source": [
    "## Codes name"
   ]
  },
  {
   "cell_type": "code",
   "execution_count": 3,
   "metadata": {},
   "outputs": [],
   "source": [
    "ic = pd.read_feather(PATH_INTERMEDIATE+'insurance_companies.ftr').set_index('index')\n",
    "\n",
    "ic = ic.rename(columns={'expertise':'expertise_code',\n",
    "                        'facilities_id' : 'ico'})\n"
   ]
  },
  {
   "cell_type": "code",
   "execution_count": 18,
   "metadata": {},
   "outputs": [],
   "source": [
    "# codes = pd.read_excel(PATH_RAW+'ic/codes.xlsx')\n",
    "# codes"
   ]
  },
  {
   "cell_type": "code",
   "execution_count": 10,
   "metadata": {},
   "outputs": [],
   "source": [
    "with open(PATH_RAW+'ic/ODBORN', 'r', encoding=\"utf-8\") as f:\n",
    "    codes = pd.DataFrame([x.split(';') for x in f.read().splitlines()], columns=['expertise_code', 'expertise_name'])"
   ]
  },
  {
   "cell_type": "code",
   "execution_count": 50,
   "metadata": {},
   "outputs": [
    {
     "name": "stdout",
     "output_type": "stream",
     "text": [
      "Počet nepřiřazených záznamů: 53154/879219 (6.05 %)\n",
      "Počet výkonů z nepřiřazených záznamů: 347225075/4953258809 (7.01 %)\n"
     ]
    }
   ],
   "source": [
    "# set(codes.expertise_code_code.unique()).difference(set(ic.expertise_code.unique()))\n",
    "unknown_exp = set(ic.expertise_code.unique()).difference(set(codes.expertise_code.unique()))\n",
    "unknown_count = ic[ic.expertise_code.isin(unknown_exp)]['count'].sum()\n",
    "total_count = ic['count'].sum()\n",
    "\n",
    "print(f'Počet nepřiřazených záznamů: {ic[ic.expertise_code.isin(unknown_exp)].shape[0]}/{ic.shape[0]} ({round(100*ic[ic.expertise_code.isin(unknown_exp)].shape[0]/ic.shape[0],2)} %)')\n",
    "print(f'Počet výkonů z nepřiřazených záznamů: {unknown_count}/{total_count} ({round(100*unknown_count/total_count,2)} %)')"
   ]
  },
  {
   "cell_type": "code",
   "execution_count": 51,
   "metadata": {},
   "outputs": [],
   "source": [
    "ic = ic[~ic.expertise_code.isin(unknown_exp) & (ic['count'] > 100)]\n",
    "ic_total = pd.merge(ic,codes, on=['expertise_code'])"
   ]
  },
  {
   "cell_type": "code",
   "execution_count": 52,
   "metadata": {},
   "outputs": [
    {
     "data": {
      "text/html": [
       "<div>\n",
       "<style scoped>\n",
       "    .dataframe tbody tr th:only-of-type {\n",
       "        vertical-align: middle;\n",
       "    }\n",
       "\n",
       "    .dataframe tbody tr th {\n",
       "        vertical-align: top;\n",
       "    }\n",
       "\n",
       "    .dataframe thead th {\n",
       "        text-align: right;\n",
       "    }\n",
       "</style>\n",
       "<table border=\"1\" class=\"dataframe\">\n",
       "  <thead>\n",
       "    <tr style=\"text-align: right;\">\n",
       "      <th></th>\n",
       "      <th>count</th>\n",
       "      <th>expertise_code</th>\n",
       "      <th>ico</th>\n",
       "      <th>insurance_company</th>\n",
       "      <th>procedure_code</th>\n",
       "      <th>region</th>\n",
       "      <th>year</th>\n",
       "      <th>expertise_name</th>\n",
       "    </tr>\n",
       "  </thead>\n",
       "  <tbody>\n",
       "    <tr>\n",
       "      <th>0</th>\n",
       "      <td>122</td>\n",
       "      <td>001</td>\n",
       "      <td>69909041.0</td>\n",
       "      <td>OZP</td>\n",
       "      <td>NaN</td>\n",
       "      <td>None</td>\n",
       "      <td>2012</td>\n",
       "      <td>praktické lékařství pro dospělé</td>\n",
       "    </tr>\n",
       "    <tr>\n",
       "      <th>1</th>\n",
       "      <td>170</td>\n",
       "      <td>001</td>\n",
       "      <td>67011080.0</td>\n",
       "      <td>OZP</td>\n",
       "      <td>NaN</td>\n",
       "      <td>None</td>\n",
       "      <td>2015</td>\n",
       "      <td>praktické lékařství pro dospělé</td>\n",
       "    </tr>\n",
       "    <tr>\n",
       "      <th>2</th>\n",
       "      <td>198</td>\n",
       "      <td>001</td>\n",
       "      <td>24235164.0</td>\n",
       "      <td>OZP</td>\n",
       "      <td>NaN</td>\n",
       "      <td>None</td>\n",
       "      <td>2016</td>\n",
       "      <td>praktické lékařství pro dospělé</td>\n",
       "    </tr>\n",
       "    <tr>\n",
       "      <th>3</th>\n",
       "      <td>247</td>\n",
       "      <td>001</td>\n",
       "      <td>18231454.0</td>\n",
       "      <td>OZP</td>\n",
       "      <td>NaN</td>\n",
       "      <td>None</td>\n",
       "      <td>2016</td>\n",
       "      <td>praktické lékařství pro dospělé</td>\n",
       "    </tr>\n",
       "    <tr>\n",
       "      <th>4</th>\n",
       "      <td>952</td>\n",
       "      <td>001</td>\n",
       "      <td>60700904.0</td>\n",
       "      <td>OZP</td>\n",
       "      <td>NaN</td>\n",
       "      <td>None</td>\n",
       "      <td>2011</td>\n",
       "      <td>praktické lékařství pro dospělé</td>\n",
       "    </tr>\n",
       "    <tr>\n",
       "      <th>...</th>\n",
       "      <td>...</td>\n",
       "      <td>...</td>\n",
       "      <td>...</td>\n",
       "      <td>...</td>\n",
       "      <td>...</td>\n",
       "      <td>...</td>\n",
       "      <td>...</td>\n",
       "      <td>...</td>\n",
       "    </tr>\n",
       "    <tr>\n",
       "      <th>442375</th>\n",
       "      <td>592</td>\n",
       "      <td>7U5</td>\n",
       "      <td>195201.0</td>\n",
       "      <td>SKODA</td>\n",
       "      <td>NaN</td>\n",
       "      <td>None</td>\n",
       "      <td>2021</td>\n",
       "      <td>dlouhodobá (chronická) ústavní lůžková péče o...</td>\n",
       "    </tr>\n",
       "    <tr>\n",
       "      <th>442376</th>\n",
       "      <td>710</td>\n",
       "      <td>7U5</td>\n",
       "      <td>195201.0</td>\n",
       "      <td>SKODA</td>\n",
       "      <td>NaN</td>\n",
       "      <td>None</td>\n",
       "      <td>2017</td>\n",
       "      <td>dlouhodobá (chronická) ústavní lůžková péče o...</td>\n",
       "    </tr>\n",
       "    <tr>\n",
       "      <th>442377</th>\n",
       "      <td>1197</td>\n",
       "      <td>7U5</td>\n",
       "      <td>195201.0</td>\n",
       "      <td>SKODA</td>\n",
       "      <td>NaN</td>\n",
       "      <td>None</td>\n",
       "      <td>2019</td>\n",
       "      <td>dlouhodobá (chronická) ústavní lůžková péče o...</td>\n",
       "    </tr>\n",
       "    <tr>\n",
       "      <th>442378</th>\n",
       "      <td>984</td>\n",
       "      <td>7U5</td>\n",
       "      <td>195201.0</td>\n",
       "      <td>SKODA</td>\n",
       "      <td>NaN</td>\n",
       "      <td>None</td>\n",
       "      <td>2020</td>\n",
       "      <td>dlouhodobá (chronická) ústavní lůžková péče o...</td>\n",
       "    </tr>\n",
       "    <tr>\n",
       "      <th>442379</th>\n",
       "      <td>122</td>\n",
       "      <td>918</td>\n",
       "      <td>15009033.0</td>\n",
       "      <td>SKODA</td>\n",
       "      <td>NaN</td>\n",
       "      <td>None</td>\n",
       "      <td>2016</td>\n",
       "      <td>rehabilitace (střední zdravotní škola)</td>\n",
       "    </tr>\n",
       "  </tbody>\n",
       "</table>\n",
       "<p>442380 rows × 8 columns</p>\n",
       "</div>"
      ],
      "text/plain": [
       "        count expertise_code         ico insurance_company  procedure_code  \\\n",
       "0         122            001  69909041.0               OZP             NaN   \n",
       "1         170            001  67011080.0               OZP             NaN   \n",
       "2         198            001  24235164.0               OZP             NaN   \n",
       "3         247            001  18231454.0               OZP             NaN   \n",
       "4         952            001  60700904.0               OZP             NaN   \n",
       "...       ...            ...         ...               ...             ...   \n",
       "442375    592            7U5    195201.0             SKODA             NaN   \n",
       "442376    710            7U5    195201.0             SKODA             NaN   \n",
       "442377   1197            7U5    195201.0             SKODA             NaN   \n",
       "442378    984            7U5    195201.0             SKODA             NaN   \n",
       "442379    122            918  15009033.0             SKODA             NaN   \n",
       "\n",
       "       region  year                                     expertise_name  \n",
       "0        None  2012                    praktické lékařství pro dospělé  \n",
       "1        None  2015                    praktické lékařství pro dospělé  \n",
       "2        None  2016                    praktické lékařství pro dospělé  \n",
       "3        None  2016                    praktické lékařství pro dospělé  \n",
       "4        None  2011                    praktické lékařství pro dospělé  \n",
       "...       ...   ...                                                ...  \n",
       "442375   None  2021   dlouhodobá (chronická) ústavní lůžková péče o...  \n",
       "442376   None  2017   dlouhodobá (chronická) ústavní lůžková péče o...  \n",
       "442377   None  2019   dlouhodobá (chronická) ústavní lůžková péče o...  \n",
       "442378   None  2020   dlouhodobá (chronická) ústavní lůžková péče o...  \n",
       "442379   None  2016             rehabilitace (střední zdravotní škola)  \n",
       "\n",
       "[442380 rows x 8 columns]"
      ]
     },
     "execution_count": 52,
     "metadata": {},
     "output_type": "execute_result"
    }
   ],
   "source": [
    "# ic_total.expertise_name.value_counts()\n",
    "ic_total.to_csv(PATH_FINAL+'insurances.csv', index=True)\n",
    "ic_total"
   ]
  },
  {
   "cell_type": "markdown",
   "metadata": {},
   "source": [
    "## NRPZS"
   ]
  },
  {
   "cell_type": "code",
   "execution_count": 40,
   "metadata": {},
   "outputs": [],
   "source": [
    "# nrpzs = pd.read_csv('https://opendata.mzcr.cz/data/nrpzs/narodni-registr-poskytovatelu-zdravotnich-sluzeb.csv') # 25. 9. 2022\n",
    "nrpzs = pd.read_csv(PATH_RAW+'nrpzs.csv')\n",
    "\n",
    "nrpzs.columns = [re.sub(r\"(?<=[a-z])([A-Z])\", r\"_\\1\", x).lower() for x in nrpzs.columns]\n",
    "\n",
    "not_required = ['Lékárna',\n",
    "                'Samostatné zařízení fyzioterapeuta',\n",
    "                'Zdravotnická zachranná služba',\n",
    "                'Výdejna zdravotnických prostředků']\n",
    "nrpzs = nrpzs[~nrpzs.druh_zarizeni.isin(not_required)].reset_index(drop=True)\n",
    "\n",
    "nrpzs = nrpzs[[x for x in nrpzs.columns if not 'poskytovatel_' in x]]\n",
    "\n",
    "nrpzs.to_csv(PATH_FINAL+'nrpzs.csv')"
   ]
  }
 ],
 "metadata": {
  "kernelspec": {
   "display_name": "Python 3.7.4 64-bit ('vzd')",
   "language": "python",
   "name": "python3"
  },
  "language_info": {
   "codemirror_mode": {
    "name": "ipython",
    "version": 3
   },
   "file_extension": ".py",
   "mimetype": "text/x-python",
   "name": "python",
   "nbconvert_exporter": "python",
   "pygments_lexer": "ipython3",
   "version": "3.7.4"
  },
  "vscode": {
   "interpreter": {
    "hash": "f08ea57a3b14e8972cb95441d2d329063d79c5206768d2acc286d89f92e5e608"
   }
  }
 },
 "nbformat": 4,
 "nbformat_minor": 4
}
