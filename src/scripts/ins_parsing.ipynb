{
 "cells": [
  {
   "cell_type": "code",
   "execution_count": 133,
   "metadata": {},
   "outputs": [],
   "source": [
    "import sys\n",
    "sys.path.append('../utils/')\n",
    "from parsing import *\n",
    "import pandas as pd\n",
    "import re\n",
    "\n",
    "import warnings\n",
    "warnings.filterwarnings(\"ignore\")\n",
    "\n",
    "PATH_INTERMEDIATE = '../../data/intermediate/'\n",
    "PATH_RAW = '../../data/raw/'\n",
    "PATH_FINAL = '../../data/final/'"
   ]
  },
  {
   "cell_type": "markdown",
   "metadata": {},
   "source": [
    "## OZP"
   ]
  },
  {
   "cell_type": "code",
   "execution_count": 41,
   "metadata": {},
   "outputs": [],
   "source": [
    "insurance_companies = pd.DataFrame()"
   ]
  },
  {
   "cell_type": "code",
   "execution_count": 42,
   "metadata": {},
   "outputs": [],
   "source": [
    "ozp = pd.read_excel(PATH_RAW+'ic/ozp.xlsx')"
   ]
  },
  {
   "cell_type": "code",
   "execution_count": 43,
   "metadata": {},
   "outputs": [
    {
     "name": "stdout",
     "output_type": "stream",
     "text": [
      "<class 'pandas.core.frame.DataFrame'>\n",
      "RangeIndex: 343327 entries, 0 to 343326\n",
      "Data columns (total 5 columns):\n",
      "year                 343327 non-null int64\n",
      "facility_id          343327 non-null int64\n",
      "expertise            343325 non-null object\n",
      "count                343327 non-null int64\n",
      "insurance_company    343327 non-null object\n",
      "dtypes: int64(3), object(2)\n",
      "memory usage: 13.1+ MB\n"
     ]
    }
   ],
   "source": [
    "ozp.columns = ['year', 'facility_id', 'expertise', 'count'] # rok, identifikacni cislo strediska, odbornost, pocet vykonu\n",
    "ozp['insurance_company'] = 'OZP'\n",
    "ozp.info()\n",
    "insurance_companies = insurance_companies.append(ozp)"
   ]
  },
  {
   "cell_type": "markdown",
   "metadata": {},
   "source": [
    "## VZP"
   ]
  },
  {
   "cell_type": "code",
   "execution_count": 44,
   "metadata": {},
   "outputs": [],
   "source": [
    "vzp = pd.read_excel(PATH_RAW+'ic/vzp.xlsx')"
   ]
  },
  {
   "cell_type": "code",
   "execution_count": 45,
   "metadata": {},
   "outputs": [
    {
     "name": "stdout",
     "output_type": "stream",
     "text": [
      "<class 'pandas.core.frame.DataFrame'>\n",
      "RangeIndex: 455390 entries, 0 to 455389\n",
      "Data columns (total 6 columns):\n",
      "year                 455390 non-null int64\n",
      "expertise            455390 non-null object\n",
      "procedure_code       455390 non-null int64\n",
      "region               455390 non-null object\n",
      "count                455390 non-null int64\n",
      "insurance_company    455390 non-null object\n",
      "dtypes: int64(3), object(3)\n",
      "memory usage: 20.8+ MB\n"
     ]
    }
   ],
   "source": [
    "vzp.columns = ['year', 'expertise', 'procedure_code', 'region', 'count'] # rok, odbornost, kod vykonu, region, pocet vykonu\n",
    "vzp['insurance_company'] = 'VZP'\n",
    "vzp.info()\n",
    "insurance_companies = insurance_companies.append(vzp)"
   ]
  },
  {
   "cell_type": "markdown",
   "metadata": {},
   "source": [
    "## SKODA"
   ]
  },
  {
   "cell_type": "code",
   "execution_count": 46,
   "metadata": {},
   "outputs": [],
   "source": [
    "skoda = pd.read_csv(PATH_RAW+'ic/skoda.csv', sep=';', usecols=['odb','sum_vykony','ico','rok'])"
   ]
  },
  {
   "cell_type": "code",
   "execution_count": 47,
   "metadata": {},
   "outputs": [
    {
     "name": "stdout",
     "output_type": "stream",
     "text": [
      "<class 'pandas.core.frame.DataFrame'>\n",
      "RangeIndex: 80502 entries, 0 to 80501\n",
      "Data columns (total 5 columns):\n",
      "expertise            80491 non-null object\n",
      "count                80502 non-null int64\n",
      "facility_id          80435 non-null float64\n",
      "year                 80502 non-null int64\n",
      "insurance_company    80502 non-null object\n",
      "dtypes: float64(1), int64(2), object(2)\n",
      "memory usage: 3.1+ MB\n"
     ]
    }
   ],
   "source": [
    "skoda.columns = ['expertise', 'count', 'facility_id', 'year'] # rok, odbornost, kod vykonu, region, pocet vykonu\n",
    "skoda['insurance_company'] = 'SKODA'\n",
    "skoda.info()\n",
    "insurance_companies = insurance_companies.append(skoda)"
   ]
  },
  {
   "cell_type": "code",
   "execution_count": 36,
   "metadata": {},
   "outputs": [
    {
     "name": "stdout",
     "output_type": "stream",
     "text": [
      "<class 'pandas.core.frame.DataFrame'>\n",
      "Int64Index: 879219 entries, 0 to 80501\n",
      "Data columns (total 7 columns):\n",
      " #   Column             Non-Null Count   Dtype  \n",
      "---  ------             --------------   -----  \n",
      " 0   count              879219 non-null  int64  \n",
      " 1   expertise_code     879206 non-null  object \n",
      " 2   facilities_id      423762 non-null  float64\n",
      " 3   insurance_company  879219 non-null  object \n",
      " 4   procedure_code     455390 non-null  float64\n",
      " 5   region             455390 non-null  object \n",
      " 6   year               879219 non-null  int64  \n",
      "dtypes: float64(2), int64(2), object(3)\n",
      "memory usage: 53.7+ MB\n"
     ]
    }
   ],
   "source": [
    "insurance_companies.rename(columns={'expertise':'expertise_code'})\n",
    "\n",
    "insurance_companies.reset_index().to_feather(PATH_INTERMEDIATE+'insurance_companies.ftr')\n",
    "insurance_companies.info()"
   ]
  },
  {
   "cell_type": "markdown",
   "metadata": {},
   "source": [
    "## Codes name"
   ]
  },
  {
   "cell_type": "code",
   "execution_count": 2,
   "metadata": {},
   "outputs": [],
   "source": [
    "ic = pd.read_feather(PATH_INTERMEDIATE+'insurance_companies.ftr').set_index('index')\n",
    "\n",
    "ic = ic.rename(columns={'expertise':'expertise_code',\n",
    "                        'facilities_id' : 'ico'})"
   ]
  },
  {
   "cell_type": "code",
   "execution_count": 5,
   "metadata": {},
   "outputs": [],
   "source": [
    "with open(PATH_RAW+'ic/ODBORN', 'r', encoding=\"utf-8\") as f:\n",
    "    codes = pd.DataFrame([x.split(';') for x in f.read().splitlines()], columns=['expertise_code', 'expertise_name'])"
   ]
  },
  {
   "cell_type": "code",
   "execution_count": 6,
   "metadata": {},
   "outputs": [
    {
     "name": "stdout",
     "output_type": "stream",
     "text": [
      "Počet nepřiřazených záznamů: 53154/879219 (6.05 %)\n",
      "Počet výkonů z nepřiřazených záznamů: 347225075/4953258809 (7.01 %)\n"
     ]
    }
   ],
   "source": [
    "# set(codes.expertise_code_code.unique()).difference(set(ic.expertise_code.unique()))\n",
    "unknown_exp = set(ic.expertise_code.unique()).difference(set(codes.expertise_code.unique()))\n",
    "unknown_count = ic[ic.expertise_code.isin(unknown_exp)]['count'].sum()\n",
    "total_count = ic['count'].sum()\n",
    "\n",
    "print(f'Počet nepřiřazených záznamů: {ic[ic.expertise_code.isin(unknown_exp)].shape[0]}/{ic.shape[0]} ({round(100*ic[ic.expertise_code.isin(unknown_exp)].shape[0]/ic.shape[0],2)} %)')\n",
    "print(f'Počet výkonů z nepřiřazených záznamů: {unknown_count}/{total_count} ({round(100*unknown_count/total_count,2)} %)')"
   ]
  },
  {
   "cell_type": "code",
   "execution_count": 19,
   "metadata": {},
   "outputs": [],
   "source": [
    "ic = ic[~ic.expertise_code.isin(unknown_exp) & (ic['count'] > 75)]\n",
    "ic_total = pd.merge(ic,codes, on=['expertise_code'])"
   ]
  },
  {
   "cell_type": "code",
   "execution_count": 52,
   "metadata": {},
   "outputs": [
    {
     "data": {
      "text/html": [
       "<div>\n",
       "<style scoped>\n",
       "    .dataframe tbody tr th:only-of-type {\n",
       "        vertical-align: middle;\n",
       "    }\n",
       "\n",
       "    .dataframe tbody tr th {\n",
       "        vertical-align: top;\n",
       "    }\n",
       "\n",
       "    .dataframe thead th {\n",
       "        text-align: right;\n",
       "    }\n",
       "</style>\n",
       "<table border=\"1\" class=\"dataframe\">\n",
       "  <thead>\n",
       "    <tr style=\"text-align: right;\">\n",
       "      <th></th>\n",
       "      <th>count</th>\n",
       "      <th>expertise_code</th>\n",
       "      <th>ico</th>\n",
       "      <th>insurance_company</th>\n",
       "      <th>procedure_code</th>\n",
       "      <th>region</th>\n",
       "      <th>year</th>\n",
       "      <th>expertise_name</th>\n",
       "    </tr>\n",
       "  </thead>\n",
       "  <tbody>\n",
       "    <tr>\n",
       "      <th>0</th>\n",
       "      <td>122</td>\n",
       "      <td>001</td>\n",
       "      <td>69909041.0</td>\n",
       "      <td>OZP</td>\n",
       "      <td>NaN</td>\n",
       "      <td>None</td>\n",
       "      <td>2012</td>\n",
       "      <td>praktické lékařství pro dospělé</td>\n",
       "    </tr>\n",
       "    <tr>\n",
       "      <th>1</th>\n",
       "      <td>170</td>\n",
       "      <td>001</td>\n",
       "      <td>67011080.0</td>\n",
       "      <td>OZP</td>\n",
       "      <td>NaN</td>\n",
       "      <td>None</td>\n",
       "      <td>2015</td>\n",
       "      <td>praktické lékařství pro dospělé</td>\n",
       "    </tr>\n",
       "    <tr>\n",
       "      <th>2</th>\n",
       "      <td>198</td>\n",
       "      <td>001</td>\n",
       "      <td>24235164.0</td>\n",
       "      <td>OZP</td>\n",
       "      <td>NaN</td>\n",
       "      <td>None</td>\n",
       "      <td>2016</td>\n",
       "      <td>praktické lékařství pro dospělé</td>\n",
       "    </tr>\n",
       "    <tr>\n",
       "      <th>3</th>\n",
       "      <td>247</td>\n",
       "      <td>001</td>\n",
       "      <td>18231454.0</td>\n",
       "      <td>OZP</td>\n",
       "      <td>NaN</td>\n",
       "      <td>None</td>\n",
       "      <td>2016</td>\n",
       "      <td>praktické lékařství pro dospělé</td>\n",
       "    </tr>\n",
       "    <tr>\n",
       "      <th>4</th>\n",
       "      <td>952</td>\n",
       "      <td>001</td>\n",
       "      <td>60700904.0</td>\n",
       "      <td>OZP</td>\n",
       "      <td>NaN</td>\n",
       "      <td>None</td>\n",
       "      <td>2011</td>\n",
       "      <td>praktické lékařství pro dospělé</td>\n",
       "    </tr>\n",
       "    <tr>\n",
       "      <th>...</th>\n",
       "      <td>...</td>\n",
       "      <td>...</td>\n",
       "      <td>...</td>\n",
       "      <td>...</td>\n",
       "      <td>...</td>\n",
       "      <td>...</td>\n",
       "      <td>...</td>\n",
       "      <td>...</td>\n",
       "    </tr>\n",
       "    <tr>\n",
       "      <th>442375</th>\n",
       "      <td>592</td>\n",
       "      <td>7U5</td>\n",
       "      <td>195201.0</td>\n",
       "      <td>SKODA</td>\n",
       "      <td>NaN</td>\n",
       "      <td>None</td>\n",
       "      <td>2021</td>\n",
       "      <td>dlouhodobá (chronická) ústavní lůžková péče o...</td>\n",
       "    </tr>\n",
       "    <tr>\n",
       "      <th>442376</th>\n",
       "      <td>710</td>\n",
       "      <td>7U5</td>\n",
       "      <td>195201.0</td>\n",
       "      <td>SKODA</td>\n",
       "      <td>NaN</td>\n",
       "      <td>None</td>\n",
       "      <td>2017</td>\n",
       "      <td>dlouhodobá (chronická) ústavní lůžková péče o...</td>\n",
       "    </tr>\n",
       "    <tr>\n",
       "      <th>442377</th>\n",
       "      <td>1197</td>\n",
       "      <td>7U5</td>\n",
       "      <td>195201.0</td>\n",
       "      <td>SKODA</td>\n",
       "      <td>NaN</td>\n",
       "      <td>None</td>\n",
       "      <td>2019</td>\n",
       "      <td>dlouhodobá (chronická) ústavní lůžková péče o...</td>\n",
       "    </tr>\n",
       "    <tr>\n",
       "      <th>442378</th>\n",
       "      <td>984</td>\n",
       "      <td>7U5</td>\n",
       "      <td>195201.0</td>\n",
       "      <td>SKODA</td>\n",
       "      <td>NaN</td>\n",
       "      <td>None</td>\n",
       "      <td>2020</td>\n",
       "      <td>dlouhodobá (chronická) ústavní lůžková péče o...</td>\n",
       "    </tr>\n",
       "    <tr>\n",
       "      <th>442379</th>\n",
       "      <td>122</td>\n",
       "      <td>918</td>\n",
       "      <td>15009033.0</td>\n",
       "      <td>SKODA</td>\n",
       "      <td>NaN</td>\n",
       "      <td>None</td>\n",
       "      <td>2016</td>\n",
       "      <td>rehabilitace (střední zdravotní škola)</td>\n",
       "    </tr>\n",
       "  </tbody>\n",
       "</table>\n",
       "<p>442380 rows × 8 columns</p>\n",
       "</div>"
      ],
      "text/plain": [
       "        count expertise_code         ico insurance_company  procedure_code  \\\n",
       "0         122            001  69909041.0               OZP             NaN   \n",
       "1         170            001  67011080.0               OZP             NaN   \n",
       "2         198            001  24235164.0               OZP             NaN   \n",
       "3         247            001  18231454.0               OZP             NaN   \n",
       "4         952            001  60700904.0               OZP             NaN   \n",
       "...       ...            ...         ...               ...             ...   \n",
       "442375    592            7U5    195201.0             SKODA             NaN   \n",
       "442376    710            7U5    195201.0             SKODA             NaN   \n",
       "442377   1197            7U5    195201.0             SKODA             NaN   \n",
       "442378    984            7U5    195201.0             SKODA             NaN   \n",
       "442379    122            918  15009033.0             SKODA             NaN   \n",
       "\n",
       "       region  year                                     expertise_name  \n",
       "0        None  2012                    praktické lékařství pro dospělé  \n",
       "1        None  2015                    praktické lékařství pro dospělé  \n",
       "2        None  2016                    praktické lékařství pro dospělé  \n",
       "3        None  2016                    praktické lékařství pro dospělé  \n",
       "4        None  2011                    praktické lékařství pro dospělé  \n",
       "...       ...   ...                                                ...  \n",
       "442375   None  2021   dlouhodobá (chronická) ústavní lůžková péče o...  \n",
       "442376   None  2017   dlouhodobá (chronická) ústavní lůžková péče o...  \n",
       "442377   None  2019   dlouhodobá (chronická) ústavní lůžková péče o...  \n",
       "442378   None  2020   dlouhodobá (chronická) ústavní lůžková péče o...  \n",
       "442379   None  2016             rehabilitace (střední zdravotní škola)  \n",
       "\n",
       "[442380 rows x 8 columns]"
      ]
     },
     "execution_count": 52,
     "metadata": {},
     "output_type": "execute_result"
    }
   ],
   "source": [
    "ic_total.to_csv(PATH_FINAL+'insurances.csv', index=True)"
   ]
  },
  {
   "cell_type": "markdown",
   "metadata": {},
   "source": [
    "### Time and expenses"
   ]
  },
  {
   "cell_type": "code",
   "execution_count": 16,
   "metadata": {},
   "outputs": [
    {
     "name": "stderr",
     "output_type": "stream",
     "text": [
      "b'Skipping line 2020: expected 15 fields, saw 16\\nSkipping line 2021: expected 15 fields, saw 16\\nSkipping line 2022: expected 15 fields, saw 16\\nSkipping line 2023: expected 15 fields, saw 16\\nSkipping line 2024: expected 15 fields, saw 16\\nSkipping line 2025: expected 15 fields, saw 16\\nSkipping line 2026: expected 15 fields, saw 16\\nSkipping line 2027: expected 15 fields, saw 16\\nSkipping line 2028: expected 15 fields, saw 16\\nSkipping line 2029: expected 15 fields, saw 16\\nSkipping line 2030: expected 15 fields, saw 16\\nSkipping line 2031: expected 15 fields, saw 16\\nSkipping line 2032: expected 15 fields, saw 16\\nSkipping line 2033: expected 15 fields, saw 16\\nSkipping line 2034: expected 15 fields, saw 16\\nSkipping line 2035: expected 15 fields, saw 16\\nSkipping line 2036: expected 15 fields, saw 16\\nSkipping line 2037: expected 15 fields, saw 16\\nSkipping line 2038: expected 15 fields, saw 16\\nSkipping line 2039: expected 15 fields, saw 16\\nSkipping line 2040: expected 15 fields, saw 16\\nSkipping line 2041: expected 15 fields, saw 16\\nSkipping line 2042: expected 15 fields, saw 16\\nSkipping line 2043: expected 15 fields, saw 16\\nSkipping line 2044: expected 15 fields, saw 16\\nSkipping line 2045: expected 15 fields, saw 16\\nSkipping line 2046: expected 15 fields, saw 16\\nSkipping line 2047: expected 15 fields, saw 16\\nSkipping line 2048: expected 15 fields, saw 16\\nSkipping line 2049: expected 15 fields, saw 16\\nSkipping line 2050: expected 15 fields, saw 16\\nSkipping line 2051: expected 15 fields, saw 16\\nSkipping line 2052: expected 15 fields, saw 16\\nSkipping line 2053: expected 15 fields, saw 16\\nSkipping line 2054: expected 15 fields, saw 16\\nSkipping line 2055: expected 15 fields, saw 16\\nSkipping line 2056: expected 15 fields, saw 16\\nSkipping line 2057: expected 15 fields, saw 16\\nSkipping line 2058: expected 15 fields, saw 16\\nSkipping line 2059: expected 15 fields, saw 16\\nSkipping line 2060: expected 15 fields, saw 16\\nSkipping line 2061: expected 15 fields, saw 16\\nSkipping line 2062: expected 15 fields, saw 16\\nSkipping line 2063: expected 15 fields, saw 16\\nSkipping line 2064: expected 15 fields, saw 16\\nSkipping line 2065: expected 15 fields, saw 16\\nSkipping line 2066: expected 15 fields, saw 16\\nSkipping line 2067: expected 15 fields, saw 16\\nSkipping line 2068: expected 15 fields, saw 16\\nSkipping line 2069: expected 15 fields, saw 16\\nSkipping line 2070: expected 15 fields, saw 16\\nSkipping line 2071: expected 15 fields, saw 16\\nSkipping line 2072: expected 15 fields, saw 16\\nSkipping line 2073: expected 15 fields, saw 16\\nSkipping line 2074: expected 15 fields, saw 16\\nSkipping line 2075: expected 15 fields, saw 16\\nSkipping line 2076: expected 15 fields, saw 16\\nSkipping line 2077: expected 15 fields, saw 16\\nSkipping line 2078: expected 15 fields, saw 16\\nSkipping line 2079: expected 15 fields, saw 16\\nSkipping line 2080: expected 15 fields, saw 16\\nSkipping line 2081: expected 15 fields, saw 16\\nSkipping line 2082: expected 15 fields, saw 16\\nSkipping line 2083: expected 15 fields, saw 16\\nSkipping line 2084: expected 15 fields, saw 16\\nSkipping line 2085: expected 15 fields, saw 16\\nSkipping line 2086: expected 15 fields, saw 16\\nSkipping line 2087: expected 15 fields, saw 16\\nSkipping line 2088: expected 15 fields, saw 16\\nSkipping line 2089: expected 15 fields, saw 16\\nSkipping line 2090: expected 15 fields, saw 16\\nSkipping line 2091: expected 15 fields, saw 16\\nSkipping line 2092: expected 15 fields, saw 16\\nSkipping line 2093: expected 15 fields, saw 16\\nSkipping line 2094: expected 15 fields, saw 16\\nSkipping line 2095: expected 15 fields, saw 16\\nSkipping line 2952: expected 15 fields, saw 16\\nSkipping line 2953: expected 15 fields, saw 16\\nSkipping line 2954: expected 15 fields, saw 16\\nSkipping line 2955: expected 15 fields, saw 16\\nSkipping line 2956: expected 15 fields, saw 16\\nSkipping line 2957: expected 15 fields, saw 16\\nSkipping line 2958: expected 15 fields, saw 16\\nSkipping line 2959: expected 15 fields, saw 16\\nSkipping line 2960: expected 15 fields, saw 16\\nSkipping line 2961: expected 15 fields, saw 16\\nSkipping line 2962: expected 15 fields, saw 16\\nSkipping line 2963: expected 15 fields, saw 16\\nSkipping line 2964: expected 15 fields, saw 16\\nSkipping line 2965: expected 15 fields, saw 16\\nSkipping line 2966: expected 15 fields, saw 16\\nSkipping line 2967: expected 15 fields, saw 16\\nSkipping line 2968: expected 15 fields, saw 16\\nSkipping line 2969: expected 15 fields, saw 16\\nSkipping line 2970: expected 15 fields, saw 16\\nSkipping line 2971: expected 15 fields, saw 16\\nSkipping line 2972: expected 15 fields, saw 16\\nSkipping line 2973: expected 15 fields, saw 16\\nSkipping line 2974: expected 15 fields, saw 16\\nSkipping line 2975: expected 15 fields, saw 16\\nSkipping line 2976: expected 15 fields, saw 16\\nSkipping line 2977: expected 15 fields, saw 16\\nSkipping line 2978: expected 15 fields, saw 16\\nSkipping line 2979: expected 15 fields, saw 16\\nSkipping line 2980: expected 15 fields, saw 16\\nSkipping line 2981: expected 15 fields, saw 16\\nSkipping line 2982: expected 15 fields, saw 16\\nSkipping line 2983: expected 15 fields, saw 16\\nSkipping line 2984: expected 15 fields, saw 16\\nSkipping line 2985: expected 15 fields, saw 16\\nSkipping line 2986: expected 15 fields, saw 16\\nSkipping line 2987: expected 15 fields, saw 16\\nSkipping line 2988: expected 15 fields, saw 16\\nSkipping line 2989: expected 15 fields, saw 16\\nSkipping line 2990: expected 15 fields, saw 16\\nSkipping line 2991: expected 15 fields, saw 16\\nSkipping line 2992: expected 15 fields, saw 16\\nSkipping line 2993: expected 15 fields, saw 16\\nSkipping line 2994: expected 15 fields, saw 16\\nSkipping line 2995: expected 15 fields, saw 16\\nSkipping line 2996: expected 15 fields, saw 16\\nSkipping line 2997: expected 15 fields, saw 16\\nSkipping line 2998: expected 15 fields, saw 16\\nSkipping line 2999: expected 15 fields, saw 16\\nSkipping line 3000: expected 15 fields, saw 16\\nSkipping line 3001: expected 15 fields, saw 16\\nSkipping line 3002: expected 15 fields, saw 16\\nSkipping line 3003: expected 15 fields, saw 16\\nSkipping line 3004: expected 15 fields, saw 16\\nSkipping line 3005: expected 15 fields, saw 16\\nSkipping line 3006: expected 15 fields, saw 16\\nSkipping line 3007: expected 15 fields, saw 16\\nSkipping line 3008: expected 15 fields, saw 16\\nSkipping line 3009: expected 15 fields, saw 16\\nSkipping line 3010: expected 15 fields, saw 16\\nSkipping line 3011: expected 15 fields, saw 16\\nSkipping line 3012: expected 15 fields, saw 16\\nSkipping line 3013: expected 15 fields, saw 16\\nSkipping line 3014: expected 15 fields, saw 16\\nSkipping line 3015: expected 15 fields, saw 16\\nSkipping line 3016: expected 15 fields, saw 16\\nSkipping line 3017: expected 15 fields, saw 16\\nSkipping line 3018: expected 15 fields, saw 16\\nSkipping line 3019: expected 15 fields, saw 16\\nSkipping line 3020: expected 15 fields, saw 16\\nSkipping line 3021: expected 15 fields, saw 16\\nSkipping line 3022: expected 15 fields, saw 16\\nSkipping line 3813: expected 15 fields, saw 16\\nSkipping line 3814: expected 15 fields, saw 16\\nSkipping line 3815: expected 15 fields, saw 16\\nSkipping line 3816: expected 15 fields, saw 16\\nSkipping line 3817: expected 15 fields, saw 16\\nSkipping line 3818: expected 15 fields, saw 16\\nSkipping line 3819: expected 15 fields, saw 16\\nSkipping line 3820: expected 15 fields, saw 16\\nSkipping line 3821: expected 15 fields, saw 16\\nSkipping line 3822: expected 15 fields, saw 16\\nSkipping line 3823: expected 15 fields, saw 16\\nSkipping line 3824: expected 15 fields, saw 16\\nSkipping line 3825: expected 15 fields, saw 16\\nSkipping line 3826: expected 15 fields, saw 16\\nSkipping line 3827: expected 15 fields, saw 16\\nSkipping line 3828: expected 15 fields, saw 16\\nSkipping line 3829: expected 15 fields, saw 16\\nSkipping line 3830: expected 15 fields, saw 16\\nSkipping line 3831: expected 15 fields, saw 16\\nSkipping line 3832: expected 15 fields, saw 16\\nSkipping line 3833: expected 15 fields, saw 16\\nSkipping line 3834: expected 15 fields, saw 16\\nSkipping line 3835: expected 15 fields, saw 16\\nSkipping line 3836: expected 15 fields, saw 16\\nSkipping line 3837: expected 15 fields, saw 16\\nSkipping line 3838: expected 15 fields, saw 16\\nSkipping line 3839: expected 15 fields, saw 16\\nSkipping line 3840: expected 15 fields, saw 16\\nSkipping line 3841: expected 15 fields, saw 16\\nSkipping line 3842: expected 15 fields, saw 16\\nSkipping line 3843: expected 15 fields, saw 16\\nSkipping line 3844: expected 15 fields, saw 16\\nSkipping line 3845: expected 15 fields, saw 16\\nSkipping line 3846: expected 15 fields, saw 16\\nSkipping line 3847: expected 15 fields, saw 16\\nSkipping line 3848: expected 15 fields, saw 16\\nSkipping line 3849: expected 15 fields, saw 16\\nSkipping line 3850: expected 15 fields, saw 16\\nSkipping line 3851: expected 15 fields, saw 16\\nSkipping line 3852: expected 15 fields, saw 16\\nSkipping line 3853: expected 15 fields, saw 16\\nSkipping line 3854: expected 15 fields, saw 16\\nSkipping line 3855: expected 15 fields, saw 16\\nSkipping line 3856: expected 15 fields, saw 16\\nSkipping line 3857: expected 15 fields, saw 16\\nSkipping line 3858: expected 15 fields, saw 16\\nSkipping line 3859: expected 15 fields, saw 16\\nSkipping line 3860: expected 15 fields, saw 16\\nSkipping line 3861: expected 15 fields, saw 16\\nSkipping line 3862: expected 15 fields, saw 16\\nSkipping line 3863: expected 15 fields, saw 16\\nSkipping line 3864: expected 15 fields, saw 16\\nSkipping line 3865: expected 15 fields, saw 16\\nSkipping line 3866: expected 15 fields, saw 16\\nSkipping line 3867: expected 15 fields, saw 16\\nSkipping line 3868: expected 15 fields, saw 16\\nSkipping line 3869: expected 15 fields, saw 16\\nSkipping line 3870: expected 15 fields, saw 16\\nSkipping line 3871: expected 15 fields, saw 16\\nSkipping line 3872: expected 15 fields, saw 16\\nSkipping line 3873: expected 15 fields, saw 16\\nSkipping line 5408: expected 15 fields, saw 16\\nSkipping line 5409: expected 15 fields, saw 16\\nSkipping line 5410: expected 15 fields, saw 16\\nSkipping line 5411: expected 15 fields, saw 16\\nSkipping line 5412: expected 15 fields, saw 16\\nSkipping line 5413: expected 15 fields, saw 16\\nSkipping line 5414: expected 15 fields, saw 16\\nSkipping line 5415: expected 15 fields, saw 16\\nSkipping line 5416: expected 15 fields, saw 16\\nSkipping line 5417: expected 15 fields, saw 16\\nSkipping line 5418: expected 15 fields, saw 16\\nSkipping line 5419: expected 15 fields, saw 16\\nSkipping line 5420: expected 15 fields, saw 16\\nSkipping line 5421: expected 15 fields, saw 16\\nSkipping line 5422: expected 15 fields, saw 16\\nSkipping line 5423: expected 15 fields, saw 16\\nSkipping line 5424: expected 15 fields, saw 16\\nSkipping line 5425: expected 15 fields, saw 16\\nSkipping line 5426: expected 15 fields, saw 16\\nSkipping line 5427: expected 15 fields, saw 16\\nSkipping line 5428: expected 15 fields, saw 16\\nSkipping line 5429: expected 15 fields, saw 16\\nSkipping line 5430: expected 15 fields, saw 16\\nSkipping line 5431: expected 15 fields, saw 16\\nSkipping line 5432: expected 15 fields, saw 16\\nSkipping line 5433: expected 15 fields, saw 16\\nSkipping line 5434: expected 15 fields, saw 16\\nSkipping line 5435: expected 15 fields, saw 16\\nSkipping line 5436: expected 15 fields, saw 16\\nSkipping line 5437: expected 15 fields, saw 16\\nSkipping line 5438: expected 15 fields, saw 16\\nSkipping line 5439: expected 15 fields, saw 16\\nSkipping line 5440: expected 15 fields, saw 16\\nSkipping line 5441: expected 15 fields, saw 16\\nSkipping line 5442: expected 15 fields, saw 16\\nSkipping line 5443: expected 15 fields, saw 16\\nSkipping line 5444: expected 15 fields, saw 16\\nSkipping line 5445: expected 15 fields, saw 16\\nSkipping line 5446: expected 15 fields, saw 16\\nSkipping line 5447: expected 15 fields, saw 16\\nSkipping line 5448: expected 15 fields, saw 16\\nSkipping line 5449: expected 15 fields, saw 16\\nSkipping line 5450: expected 15 fields, saw 16\\nSkipping line 5451: expected 15 fields, saw 16\\nSkipping line 5452: expected 15 fields, saw 16\\nSkipping line 5453: expected 15 fields, saw 16\\nSkipping line 5454: expected 15 fields, saw 16\\nSkipping line 5455: expected 15 fields, saw 16\\nSkipping line 5456: expected 15 fields, saw 16\\nSkipping line 5457: expected 15 fields, saw 16\\nSkipping line 5458: expected 15 fields, saw 16\\nSkipping line 5459: expected 15 fields, saw 16\\nSkipping line 5460: expected 15 fields, saw 16\\nSkipping line 5461: expected 15 fields, saw 16\\nSkipping line 5462: expected 15 fields, saw 16\\nSkipping line 5463: expected 15 fields, saw 16\\nSkipping line 5464: expected 15 fields, saw 16\\nSkipping line 5465: expected 15 fields, saw 16\\nSkipping line 5466: expected 15 fields, saw 16\\nSkipping line 5467: expected 15 fields, saw 16\\nSkipping line 5468: expected 15 fields, saw 16\\nSkipping line 5469: expected 15 fields, saw 16\\nSkipping line 5470: expected 15 fields, saw 16\\nSkipping line 5471: expected 15 fields, saw 16\\nSkipping line 5472: expected 15 fields, saw 16\\nSkipping line 5473: expected 15 fields, saw 16\\nSkipping line 5474: expected 15 fields, saw 16\\nSkipping line 5475: expected 15 fields, saw 16\\nSkipping line 5476: expected 15 fields, saw 16\\nSkipping line 5477: expected 15 fields, saw 16\\nSkipping line 5478: expected 15 fields, saw 16\\nSkipping line 5479: expected 15 fields, saw 16\\nSkipping line 5480: expected 15 fields, saw 16\\nSkipping line 5481: expected 15 fields, saw 16\\nSkipping line 5482: expected 15 fields, saw 16\\nSkipping line 5483: expected 15 fields, saw 16\\nSkipping line 5484: expected 15 fields, saw 16\\nSkipping line 5485: expected 15 fields, saw 16\\nSkipping line 5648: expected 15 fields, saw 16\\nSkipping line 5649: expected 15 fields, saw 16\\nSkipping line 5650: expected 15 fields, saw 16\\nSkipping line 5651: expected 15 fields, saw 16\\nSkipping line 5652: expected 15 fields, saw 16\\nSkipping line 5653: expected 15 fields, saw 16\\nSkipping line 5654: expected 15 fields, saw 16\\nSkipping line 5655: expected 15 fields, saw 16\\nSkipping line 5656: expected 15 fields, saw 16\\nSkipping line 5657: expected 15 fields, saw 16\\nSkipping line 5658: expected 15 fields, saw 16\\nSkipping line 5659: expected 15 fields, saw 16\\nSkipping line 5660: expected 15 fields, saw 16\\nSkipping line 5661: expected 15 fields, saw 16\\nSkipping line 5662: expected 15 fields, saw 16\\nSkipping line 5663: expected 15 fields, saw 16\\nSkipping line 5664: expected 15 fields, saw 16\\nSkipping line 5665: expected 15 fields, saw 16\\nSkipping line 5666: expected 15 fields, saw 16\\nSkipping line 5667: expected 15 fields, saw 16\\nSkipping line 5668: expected 15 fields, saw 16\\nSkipping line 5669: expected 15 fields, saw 16\\nSkipping line 5670: expected 15 fields, saw 16\\nSkipping line 5671: expected 15 fields, saw 16\\nSkipping line 5672: expected 15 fields, saw 16\\nSkipping line 5673: expected 15 fields, saw 16\\nSkipping line 5674: expected 15 fields, saw 16\\nSkipping line 5675: expected 15 fields, saw 16\\nSkipping line 5676: expected 15 fields, saw 16\\nSkipping line 5677: expected 15 fields, saw 16\\nSkipping line 5678: expected 15 fields, saw 16\\nSkipping line 5679: expected 15 fields, saw 16\\nSkipping line 5680: expected 15 fields, saw 16\\nSkipping line 5681: expected 15 fields, saw 16\\nSkipping line 5682: expected 15 fields, saw 16\\nSkipping line 5683: expected 15 fields, saw 16\\nSkipping line 5684: expected 15 fields, saw 16\\nSkipping line 5685: expected 15 fields, saw 16\\nSkipping line 5686: expected 15 fields, saw 16\\nSkipping line 5687: expected 15 fields, saw 16\\nSkipping line 5688: expected 15 fields, saw 16\\nSkipping line 5689: expected 15 fields, saw 16\\nSkipping line 5690: expected 15 fields, saw 16\\nSkipping line 5691: expected 15 fields, saw 16\\nSkipping line 5692: expected 15 fields, saw 16\\nSkipping line 5693: expected 15 fields, saw 16\\nSkipping line 5694: expected 15 fields, saw 16\\nSkipping line 5695: expected 15 fields, saw 16\\nSkipping line 5696: expected 15 fields, saw 16\\nSkipping line 5697: expected 15 fields, saw 16\\nSkipping line 5698: expected 15 fields, saw 16\\nSkipping line 5699: expected 15 fields, saw 16\\nSkipping line 5700: expected 15 fields, saw 16\\nSkipping line 5701: expected 15 fields, saw 16\\nSkipping line 5702: expected 15 fields, saw 16\\nSkipping line 5703: expected 15 fields, saw 16\\nSkipping line 5704: expected 15 fields, saw 16\\nSkipping line 5705: expected 15 fields, saw 16\\nSkipping line 5706: expected 15 fields, saw 16\\nSkipping line 5707: expected 15 fields, saw 16\\nSkipping line 5708: expected 15 fields, saw 16\\nSkipping line 5709: expected 15 fields, saw 16\\nSkipping line 5710: expected 15 fields, saw 16\\nSkipping line 5711: expected 15 fields, saw 16\\nSkipping line 5712: expected 15 fields, saw 16\\nSkipping line 5713: expected 15 fields, saw 16\\nSkipping line 5714: expected 15 fields, saw 16\\nSkipping line 5715: expected 15 fields, saw 16\\nSkipping line 5716: expected 15 fields, saw 16\\nSkipping line 5717: expected 15 fields, saw 16\\nSkipping line 5718: expected 15 fields, saw 16\\nSkipping line 5719: expected 15 fields, saw 16\\nSkipping line 5720: expected 15 fields, saw 16\\nSkipping line 5721: expected 15 fields, saw 16\\nSkipping line 5722: expected 15 fields, saw 16\\nSkipping line 5723: expected 15 fields, saw 16\\nSkipping line 5724: expected 15 fields, saw 16\\nSkipping line 5725: expected 15 fields, saw 16\\nSkipping line 5726: expected 15 fields, saw 16\\nSkipping line 7656: expected 15 fields, saw 16\\nSkipping line 7657: expected 15 fields, saw 16\\nSkipping line 7658: expected 15 fields, saw 16\\nSkipping line 7659: expected 15 fields, saw 16\\nSkipping line 7660: expected 15 fields, saw 16\\nSkipping line 7661: expected 15 fields, saw 16\\nSkipping line 7662: expected 15 fields, saw 16\\nSkipping line 7663: expected 15 fields, saw 16\\nSkipping line 7664: expected 15 fields, saw 16\\nSkipping line 7665: expected 15 fields, saw 16\\nSkipping line 7666: expected 15 fields, saw 16\\nSkipping line 7667: expected 15 fields, saw 16\\nSkipping line 7668: expected 15 fields, saw 16\\nSkipping line 7669: expected 15 fields, saw 16\\nSkipping line 7670: expected 15 fields, saw 16\\nSkipping line 7671: expected 15 fields, saw 16\\nSkipping line 7672: expected 15 fields, saw 16\\nSkipping line 7673: expected 15 fields, saw 16\\nSkipping line 7674: expected 15 fields, saw 16\\nSkipping line 7675: expected 15 fields, saw 16\\nSkipping line 7676: expected 15 fields, saw 16\\nSkipping line 7677: expected 15 fields, saw 16\\nSkipping line 7678: expected 15 fields, saw 16\\nSkipping line 7679: expected 15 fields, saw 16\\nSkipping line 7680: expected 15 fields, saw 16\\nSkipping line 7681: expected 15 fields, saw 16\\nSkipping line 7682: expected 15 fields, saw 16\\nSkipping line 7683: expected 15 fields, saw 16\\nSkipping line 7684: expected 15 fields, saw 16\\nSkipping line 7685: expected 15 fields, saw 16\\nSkipping line 7686: expected 15 fields, saw 16\\nSkipping line 7687: expected 15 fields, saw 16\\nSkipping line 7688: expected 15 fields, saw 16\\nSkipping line 7689: expected 15 fields, saw 16\\nSkipping line 7690: expected 15 fields, saw 16\\nSkipping line 7691: expected 15 fields, saw 16\\nSkipping line 7692: expected 15 fields, saw 16\\nSkipping line 7693: expected 15 fields, saw 16\\nSkipping line 7694: expected 15 fields, saw 16\\nSkipping line 7695: expected 15 fields, saw 16\\nSkipping line 7696: expected 15 fields, saw 16\\nSkipping line 7697: expected 15 fields, saw 16\\nSkipping line 7698: expected 15 fields, saw 16\\nSkipping line 7699: expected 15 fields, saw 16\\nSkipping line 7700: expected 15 fields, saw 16\\nSkipping line 7701: expected 15 fields, saw 16\\nSkipping line 7702: expected 15 fields, saw 16\\nSkipping line 7703: expected 15 fields, saw 16\\nSkipping line 7704: expected 15 fields, saw 16\\nSkipping line 7705: expected 15 fields, saw 16\\nSkipping line 7706: expected 15 fields, saw 16\\nSkipping line 7707: expected 15 fields, saw 16\\nSkipping line 7708: expected 15 fields, saw 16\\nSkipping line 7709: expected 15 fields, saw 16\\nSkipping line 7710: expected 15 fields, saw 16\\nSkipping line 7711: expected 15 fields, saw 16\\nSkipping line 7712: expected 15 fields, saw 16\\nSkipping line 7713: expected 15 fields, saw 16\\nSkipping line 7714: expected 15 fields, saw 16\\nSkipping line 7715: expected 15 fields, saw 16\\nSkipping line 7716: expected 15 fields, saw 16\\nSkipping line 7717: expected 15 fields, saw 16\\nSkipping line 7718: expected 15 fields, saw 16\\nSkipping line 7719: expected 15 fields, saw 16\\nSkipping line 7720: expected 15 fields, saw 16\\nSkipping line 7721: expected 15 fields, saw 16\\nSkipping line 7722: expected 15 fields, saw 16\\nSkipping line 7723: expected 15 fields, saw 16\\nSkipping line 7724: expected 15 fields, saw 16\\nSkipping line 7725: expected 15 fields, saw 16\\nSkipping line 7726: expected 15 fields, saw 16\\nSkipping line 7727: expected 15 fields, saw 16\\nSkipping line 7728: expected 15 fields, saw 16\\nSkipping line 7729: expected 15 fields, saw 16\\nSkipping line 7730: expected 15 fields, saw 16\\nSkipping line 7731: expected 15 fields, saw 16\\nSkipping line 7732: expected 15 fields, saw 16\\nSkipping line 7733: expected 15 fields, saw 16\\nSkipping line 7734: expected 15 fields, saw 16\\nSkipping line 12287: expected 15 fields, saw 16\\nSkipping line 12288: expected 15 fields, saw 16\\nSkipping line 12289: expected 15 fields, saw 16\\nSkipping line 12290: expected 15 fields, saw 16\\nSkipping line 12291: expected 15 fields, saw 16\\nSkipping line 12292: expected 15 fields, saw 16\\nSkipping line 12293: expected 15 fields, saw 16\\nSkipping line 12294: expected 15 fields, saw 16\\nSkipping line 12295: expected 15 fields, saw 16\\nSkipping line 12296: expected 15 fields, saw 16\\nSkipping line 12297: expected 15 fields, saw 16\\nSkipping line 12298: expected 15 fields, saw 16\\nSkipping line 12299: expected 15 fields, saw 16\\nSkipping line 12300: expected 15 fields, saw 16\\nSkipping line 12301: expected 15 fields, saw 16\\nSkipping line 12302: expected 15 fields, saw 16\\nSkipping line 12303: expected 15 fields, saw 16\\nSkipping line 12304: expected 15 fields, saw 16\\nSkipping line 12305: expected 15 fields, saw 16\\nSkipping line 12306: expected 15 fields, saw 16\\nSkipping line 12307: expected 15 fields, saw 16\\nSkipping line 12308: expected 15 fields, saw 16\\nSkipping line 12309: expected 15 fields, saw 16\\nSkipping line 12310: expected 15 fields, saw 16\\nSkipping line 12311: expected 15 fields, saw 16\\nSkipping line 12312: expected 15 fields, saw 16\\nSkipping line 12313: expected 15 fields, saw 16\\nSkipping line 12314: expected 15 fields, saw 16\\nSkipping line 12315: expected 15 fields, saw 16\\nSkipping line 12316: expected 15 fields, saw 16\\nSkipping line 12317: expected 15 fields, saw 16\\nSkipping line 12318: expected 15 fields, saw 16\\nSkipping line 12319: expected 15 fields, saw 16\\nSkipping line 12320: expected 15 fields, saw 16\\nSkipping line 12321: expected 15 fields, saw 16\\nSkipping line 12322: expected 15 fields, saw 16\\nSkipping line 12323: expected 15 fields, saw 16\\nSkipping line 12324: expected 15 fields, saw 16\\nSkipping line 12325: expected 15 fields, saw 16\\nSkipping line 12326: expected 15 fields, saw 16\\nSkipping line 12327: expected 15 fields, saw 16\\nSkipping line 12328: expected 15 fields, saw 16\\nSkipping line 12329: expected 15 fields, saw 16\\nSkipping line 12330: expected 15 fields, saw 16\\nSkipping line 12331: expected 15 fields, saw 16\\nSkipping line 12332: expected 15 fields, saw 16\\nSkipping line 12333: expected 15 fields, saw 16\\nSkipping line 12334: expected 15 fields, saw 16\\nSkipping line 12335: expected 15 fields, saw 16\\nSkipping line 12336: expected 15 fields, saw 16\\nSkipping line 12337: expected 15 fields, saw 16\\nSkipping line 12338: expected 15 fields, saw 16\\nSkipping line 12339: expected 15 fields, saw 16\\nSkipping line 12340: expected 15 fields, saw 16\\nSkipping line 12341: expected 15 fields, saw 16\\nSkipping line 12342: expected 15 fields, saw 16\\nSkipping line 12343: expected 15 fields, saw 16\\nSkipping line 12344: expected 15 fields, saw 16\\nSkipping line 12345: expected 15 fields, saw 16\\nSkipping line 12346: expected 15 fields, saw 16\\nSkipping line 12347: expected 15 fields, saw 16\\nSkipping line 12348: expected 15 fields, saw 16\\nSkipping line 12349: expected 15 fields, saw 16\\nSkipping line 12350: expected 15 fields, saw 16\\nSkipping line 12351: expected 15 fields, saw 16\\nSkipping line 12352: expected 15 fields, saw 16\\nSkipping line 12353: expected 15 fields, saw 16\\nSkipping line 12354: expected 15 fields, saw 16\\nSkipping line 12355: expected 15 fields, saw 16\\nSkipping line 12356: expected 15 fields, saw 16\\nSkipping line 12357: expected 15 fields, saw 16\\nSkipping line 12358: expected 15 fields, saw 16\\nSkipping line 12359: expected 15 fields, saw 16\\nSkipping line 12360: expected 15 fields, saw 16\\nSkipping line 12361: expected 15 fields, saw 16\\nSkipping line 12362: expected 15 fields, saw 16\\nSkipping line 12363: expected 15 fields, saw 16\\nSkipping line 16714: expected 15 fields, saw 16\\nSkipping line 16715: expected 15 fields, saw 16\\nSkipping line 16716: expected 15 fields, saw 16\\nSkipping line 16717: expected 15 fields, saw 16\\nSkipping line 16718: expected 15 fields, saw 16\\nSkipping line 16719: expected 15 fields, saw 16\\nSkipping line 16720: expected 15 fields, saw 16\\nSkipping line 16721: expected 15 fields, saw 16\\nSkipping line 16722: expected 15 fields, saw 16\\nSkipping line 16723: expected 15 fields, saw 16\\nSkipping line 16724: expected 15 fields, saw 16\\nSkipping line 16725: expected 15 fields, saw 16\\nSkipping line 16726: expected 15 fields, saw 16\\nSkipping line 16727: expected 15 fields, saw 16\\nSkipping line 16728: expected 15 fields, saw 16\\nSkipping line 16729: expected 15 fields, saw 16\\nSkipping line 16730: expected 15 fields, saw 16\\nSkipping line 16731: expected 15 fields, saw 16\\nSkipping line 16732: expected 15 fields, saw 16\\nSkipping line 16733: expected 15 fields, saw 16\\nSkipping line 16734: expected 15 fields, saw 16\\nSkipping line 16735: expected 15 fields, saw 16\\nSkipping line 16736: expected 15 fields, saw 16\\nSkipping line 16737: expected 15 fields, saw 16\\nSkipping line 16738: expected 15 fields, saw 16\\nSkipping line 16739: expected 15 fields, saw 16\\nSkipping line 16740: expected 15 fields, saw 16\\nSkipping line 16741: expected 15 fields, saw 16\\nSkipping line 16742: expected 15 fields, saw 16\\nSkipping line 16743: expected 15 fields, saw 16\\nSkipping line 16744: expected 15 fields, saw 16\\nSkipping line 16745: expected 15 fields, saw 16\\nSkipping line 16746: expected 15 fields, saw 16\\nSkipping line 16747: expected 15 fields, saw 16\\nSkipping line 16748: expected 15 fields, saw 16\\nSkipping line 16749: expected 15 fields, saw 16\\nSkipping line 16750: expected 15 fields, saw 16\\nSkipping line 16751: expected 15 fields, saw 16\\nSkipping line 16752: expected 15 fields, saw 16\\nSkipping line 16753: expected 15 fields, saw 16\\nSkipping line 16754: expected 15 fields, saw 16\\nSkipping line 16755: expected 15 fields, saw 16\\nSkipping line 16756: expected 15 fields, saw 16\\nSkipping line 16757: expected 15 fields, saw 16\\nSkipping line 16758: expected 15 fields, saw 16\\nSkipping line 16759: expected 15 fields, saw 16\\nSkipping line 16760: expected 15 fields, saw 16\\nSkipping line 16761: expected 15 fields, saw 16\\nSkipping line 16762: expected 15 fields, saw 16\\nSkipping line 16763: expected 15 fields, saw 16\\nSkipping line 16764: expected 15 fields, saw 16\\nSkipping line 16765: expected 15 fields, saw 16\\nSkipping line 16766: expected 15 fields, saw 16\\nSkipping line 16767: expected 15 fields, saw 16\\nSkipping line 16768: expected 15 fields, saw 16\\nSkipping line 16769: expected 15 fields, saw 16\\nSkipping line 16770: expected 15 fields, saw 16\\nSkipping line 16771: expected 15 fields, saw 16\\nSkipping line 16772: expected 15 fields, saw 16\\nSkipping line 16773: expected 15 fields, saw 16\\nSkipping line 16774: expected 15 fields, saw 16\\nSkipping line 16775: expected 15 fields, saw 16\\nSkipping line 16776: expected 15 fields, saw 16\\nSkipping line 16777: expected 15 fields, saw 16\\nSkipping line 16778: expected 15 fields, saw 16\\nSkipping line 16779: expected 15 fields, saw 16\\nSkipping line 16780: expected 15 fields, saw 16\\nSkipping line 16781: expected 15 fields, saw 16\\nSkipping line 16782: expected 15 fields, saw 16\\nSkipping line 16783: expected 15 fields, saw 16\\nSkipping line 16784: expected 15 fields, saw 16\\nSkipping line 16785: expected 15 fields, saw 16\\nSkipping line 16786: expected 15 fields, saw 16\\nSkipping line 16787: expected 15 fields, saw 16\\nSkipping line 16788: expected 15 fields, saw 16\\nSkipping line 16789: expected 15 fields, saw 16\\nSkipping line 16790: expected 15 fields, saw 16\\nSkipping line 16791: expected 15 fields, saw 16\\nSkipping line 16792: expected 15 fields, saw 16\\nSkipping line 16793: expected 15 fields, saw 16\\nSkipping line 16794: expected 15 fields, saw 16\\nSkipping line 16795: expected 15 fields, saw 16\\nSkipping line 16796: expected 15 fields, saw 16\\nSkipping line 16797: expected 15 fields, saw 16\\nSkipping line 16798: expected 15 fields, saw 16\\nSkipping line 16799: expected 15 fields, saw 16\\nSkipping line 16800: expected 15 fields, saw 16\\nSkipping line 16801: expected 15 fields, saw 16\\nSkipping line 16802: expected 15 fields, saw 16\\nSkipping line 16803: expected 15 fields, saw 16\\nSkipping line 16804: expected 15 fields, saw 16\\nSkipping line 16805: expected 15 fields, saw 16\\nSkipping line 16806: expected 15 fields, saw 16\\nSkipping line 16807: expected 15 fields, saw 16\\nSkipping line 16808: expected 15 fields, saw 16\\nSkipping line 16809: expected 15 fields, saw 16\\nSkipping line 16810: expected 15 fields, saw 16\\nSkipping line 16811: expected 15 fields, saw 16\\nSkipping line 16812: expected 15 fields, saw 16\\nSkipping line 16813: expected 15 fields, saw 16\\nSkipping line 16814: expected 15 fields, saw 16\\nSkipping line 16815: expected 15 fields, saw 16\\nSkipping line 16816: expected 15 fields, saw 16\\nSkipping line 16817: expected 15 fields, saw 16\\nSkipping line 16818: expected 15 fields, saw 16\\nSkipping line 16819: expected 15 fields, saw 16\\nSkipping line 16820: expected 15 fields, saw 16\\nSkipping line 16821: expected 15 fields, saw 16\\nSkipping line 16822: expected 15 fields, saw 16\\nSkipping line 16823: expected 15 fields, saw 16\\nSkipping line 16824: expected 15 fields, saw 16\\nSkipping line 16825: expected 15 fields, saw 16\\nSkipping line 16826: expected 15 fields, saw 16\\nSkipping line 16827: expected 15 fields, saw 16\\nSkipping line 16828: expected 15 fields, saw 16\\nSkipping line 16829: expected 15 fields, saw 16\\nSkipping line 16830: expected 15 fields, saw 16\\nSkipping line 16831: expected 15 fields, saw 16\\nSkipping line 16832: expected 15 fields, saw 16\\nSkipping line 16833: expected 15 fields, saw 16\\nSkipping line 16834: expected 15 fields, saw 16\\nSkipping line 16835: expected 15 fields, saw 16\\nSkipping line 16836: expected 15 fields, saw 16\\nSkipping line 16837: expected 15 fields, saw 16\\nSkipping line 16838: expected 15 fields, saw 16\\nSkipping line 16839: expected 15 fields, saw 16\\nSkipping line 16840: expected 15 fields, saw 16\\nSkipping line 16841: expected 15 fields, saw 16\\nSkipping line 16842: expected 15 fields, saw 16\\nSkipping line 16843: expected 15 fields, saw 16\\nSkipping line 16844: expected 15 fields, saw 16\\nSkipping line 16845: expected 15 fields, saw 16\\nSkipping line 16846: expected 15 fields, saw 16\\nSkipping line 16847: expected 15 fields, saw 16\\nSkipping line 16848: expected 15 fields, saw 16\\nSkipping line 16849: expected 15 fields, saw 16\\nSkipping line 16850: expected 15 fields, saw 16\\nSkipping line 16851: expected 15 fields, saw 16\\nSkipping line 16852: expected 15 fields, saw 16\\nSkipping line 16853: expected 15 fields, saw 16\\nSkipping line 16854: expected 15 fields, saw 16\\nSkipping line 16855: expected 15 fields, saw 16\\nSkipping line 16856: expected 15 fields, saw 16\\nSkipping line 16857: expected 15 fields, saw 16\\nSkipping line 16858: expected 15 fields, saw 16\\nSkipping line 16859: expected 15 fields, saw 16\\nSkipping line 16860: expected 15 fields, saw 16\\nSkipping line 16861: expected 15 fields, saw 16\\nSkipping line 16862: expected 15 fields, saw 16\\nSkipping line 16863: expected 15 fields, saw 16\\nSkipping line 16864: expected 15 fields, saw 16\\nSkipping line 16865: expected 15 fields, saw 16\\nSkipping line 16866: expected 15 fields, saw 16\\nSkipping line 16867: expected 15 fields, saw 16\\nSkipping line 16868: expected 15 fields, saw 16\\nSkipping line 16869: expected 15 fields, saw 16\\nSkipping line 16870: expected 15 fields, saw 16\\nSkipping line 16871: expected 15 fields, saw 16\\nSkipping line 16872: expected 15 fields, saw 16\\nSkipping line 16873: expected 15 fields, saw 16\\nSkipping line 16874: expected 15 fields, saw 16\\nSkipping line 16875: expected 15 fields, saw 16\\nSkipping line 16876: expected 15 fields, saw 16\\nSkipping line 16877: expected 15 fields, saw 16\\nSkipping line 16878: expected 15 fields, saw 16\\nSkipping line 16879: expected 15 fields, saw 16\\nSkipping line 16880: expected 15 fields, saw 16\\nSkipping line 16881: expected 15 fields, saw 16\\nSkipping line 16882: expected 15 fields, saw 16\\nSkipping line 16883: expected 15 fields, saw 16\\nSkipping line 16884: expected 15 fields, saw 16\\nSkipping line 16885: expected 15 fields, saw 16\\nSkipping line 16886: expected 15 fields, saw 16\\nSkipping line 16887: expected 15 fields, saw 16\\nSkipping line 16888: expected 15 fields, saw 16\\nSkipping line 16889: expected 15 fields, saw 16\\nSkipping line 16890: expected 15 fields, saw 16\\nSkipping line 16891: expected 15 fields, saw 16\\nSkipping line 16892: expected 15 fields, saw 16\\nSkipping line 16893: expected 15 fields, saw 16\\nSkipping line 16894: expected 15 fields, saw 16\\nSkipping line 16895: expected 15 fields, saw 16\\nSkipping line 16896: expected 15 fields, saw 16\\nSkipping line 16897: expected 15 fields, saw 16\\nSkipping line 16898: expected 15 fields, saw 16\\nSkipping line 16899: expected 15 fields, saw 16\\nSkipping line 16900: expected 15 fields, saw 16\\nSkipping line 16901: expected 15 fields, saw 16\\nSkipping line 16902: expected 15 fields, saw 16\\nSkipping line 16903: expected 15 fields, saw 16\\nSkipping line 16904: expected 15 fields, saw 16\\nSkipping line 16905: expected 15 fields, saw 16\\nSkipping line 16906: expected 15 fields, saw 16\\nSkipping line 16907: expected 15 fields, saw 16\\nSkipping line 16908: expected 15 fields, saw 16\\nSkipping line 16909: expected 15 fields, saw 16\\nSkipping line 16910: expected 15 fields, saw 16\\nSkipping line 16911: expected 15 fields, saw 16\\nSkipping line 16912: expected 15 fields, saw 16\\nSkipping line 16913: expected 15 fields, saw 16\\nSkipping line 16914: expected 15 fields, saw 16\\nSkipping line 16915: expected 15 fields, saw 16\\nSkipping line 16916: expected 15 fields, saw 16\\nSkipping line 16917: expected 15 fields, saw 16\\nSkipping line 16918: expected 15 fields, saw 16\\nSkipping line 16919: expected 15 fields, saw 16\\nSkipping line 16920: expected 15 fields, saw 16\\nSkipping line 16921: expected 15 fields, saw 16\\nSkipping line 16922: expected 15 fields, saw 16\\nSkipping line 16923: expected 15 fields, saw 16\\nSkipping line 16924: expected 15 fields, saw 16\\nSkipping line 16925: expected 15 fields, saw 16\\nSkipping line 16926: expected 15 fields, saw 16\\nSkipping line 16927: expected 15 fields, saw 16\\nSkipping line 16928: expected 15 fields, saw 16\\nSkipping line 16929: expected 15 fields, saw 16\\nSkipping line 16930: expected 15 fields, saw 16\\nSkipping line 16931: expected 15 fields, saw 16\\nSkipping line 16932: expected 15 fields, saw 16\\nSkipping line 16933: expected 15 fields, saw 16\\nSkipping line 16934: expected 15 fields, saw 16\\nSkipping line 16935: expected 15 fields, saw 16\\nSkipping line 16936: expected 15 fields, saw 16\\nSkipping line 16937: expected 15 fields, saw 16\\nSkipping line 16938: expected 15 fields, saw 16\\nSkipping line 16939: expected 15 fields, saw 16\\nSkipping line 16940: expected 15 fields, saw 16\\nSkipping line 16941: expected 15 fields, saw 16\\nSkipping line 16942: expected 15 fields, saw 16\\nSkipping line 16943: expected 15 fields, saw 16\\nSkipping line 16944: expected 15 fields, saw 16\\nSkipping line 16945: expected 15 fields, saw 16\\nSkipping line 16946: expected 15 fields, saw 16\\nSkipping line 16947: expected 15 fields, saw 16\\nSkipping line 16948: expected 15 fields, saw 16\\nSkipping line 16949: expected 15 fields, saw 16\\n'\n"
     ]
    }
   ],
   "source": [
    "# import tabula\n",
    "# df = tabula.read_pdf('https://media.vzpstatic.cz/media/Default/dokumenty/ciselniky/vykony_01336.pdf', pages='all')\n",
    "# dial_df = pd.concat(df)\n",
    "\n",
    "dial_df = pd.read_csv(PATH_RAW+'ic/vykony_01336.csv', error_bad_lines=False)\n",
    "\n",
    "dial_df = dial_df.drop_duplicates()\n",
    "new_header = dial_df.iloc[0]\n",
    "dial_df = dial_df[1:]\n",
    "dial_df.columns = new_header\n",
    "dial_df = dial_df[['KOD', 'ODB', 'NAZ', 'TVY', 'CTN']]\n",
    "dial_df.columns = ['procedure_code', 'expertise_code', 'procedure_name', 'time_individual', 'time_total']\n",
    "dial_df = dial_df[~dial_df.expertise_code.isna()].reset_index(drop=True)\n",
    "dial_df.expertise_code = dial_df.expertise_code.apply(lambda n:f\"{n:0>3}\")"
   ]
  },
  {
   "cell_type": "code",
   "execution_count": 18,
   "metadata": {},
   "outputs": [],
   "source": [
    "# https://www.vzp.cz/poskytovatele/ciselniky/zdravotni-vykony\n",
    "# https://szv.mzcr.cz/Vykon?page=0\n",
    "\n",
    "dial_df2 = pd.DataFrame()\n",
    "for i in range(4):\n",
    "    x = pd.read_html(f'https://szv.mzcr.cz/Ciselnik/Odbornost?page={i}') # 10.11.2022\n",
    "    dial_df2 = dial_df2.append(x[0])\n",
    "\n",
    "dial_df2 = dial_df2.drop_duplicates()\n",
    "dial_df2 = dial_df2[['Kód', 'Název', 'Sazba režie']]\n",
    "dial_df2.columns = ['expertise_code', 'expertise_name', 'tariff']\n",
    "dial_df2.expertise_code = dial_df2.expertise_code.apply(lambda n:f\"{n:0>3}\")"
   ]
  },
  {
   "cell_type": "code",
   "execution_count": 101,
   "metadata": {},
   "outputs": [
    {
     "data": {
      "text/plain": [
       "array(['000', '999', '921', '911', '925', '916', '927', '913', '904',\n",
       "       '902', '917', '910', '355', '914', '901', '931', '370', '919',\n",
       "       '903', '905', '926', '929', '920', '935', '961', '922'],\n",
       "      dtype=object)"
      ]
     },
     "execution_count": 101,
     "metadata": {},
     "output_type": "execute_result"
    }
   ],
   "source": [
    "dial_df[~dial_df.expertise_code.isin(dial_dfs.expertise_code.unique())].expertise_code.unique()"
   ]
  },
  {
   "cell_type": "code",
   "execution_count": 100,
   "metadata": {},
   "outputs": [
    {
     "data": {
      "text/html": [
       "<div>\n",
       "<style scoped>\n",
       "    .dataframe tbody tr th:only-of-type {\n",
       "        vertical-align: middle;\n",
       "    }\n",
       "\n",
       "    .dataframe tbody tr th {\n",
       "        vertical-align: top;\n",
       "    }\n",
       "\n",
       "    .dataframe thead th {\n",
       "        text-align: right;\n",
       "    }\n",
       "</style>\n",
       "<table border=\"1\" class=\"dataframe\">\n",
       "  <thead>\n",
       "    <tr style=\"text-align: right;\">\n",
       "      <th></th>\n",
       "      <th>procedure_code</th>\n",
       "      <th>expertise_code</th>\n",
       "      <th>procedure_name</th>\n",
       "      <th>time_individual</th>\n",
       "      <th>time_total</th>\n",
       "      <th>expertise_name</th>\n",
       "      <th>tariff</th>\n",
       "      <th>time_extra</th>\n",
       "    </tr>\n",
       "  </thead>\n",
       "  <tbody>\n",
       "    <tr>\n",
       "      <th>0</th>\n",
       "      <td>130</td>\n",
       "      <td>304</td>\n",
       "      <td>NaN</td>\n",
       "      <td>480.0</td>\n",
       "      <td>1920</td>\n",
       "      <td>neonatologie</td>\n",
       "      <td>351</td>\n",
       "      <td>485.0</td>\n",
       "    </tr>\n",
       "    <tr>\n",
       "      <th>1</th>\n",
       "      <td>132</td>\n",
       "      <td>304</td>\n",
       "      <td>VYŠETŘENÍ DÍTĚTE S VÝZNAMNÝM PERINATÁLNÍM RIZIKEM</td>\n",
       "      <td>70.0</td>\n",
       "      <td>70</td>\n",
       "      <td>neonatologie</td>\n",
       "      <td>351</td>\n",
       "      <td>75.0</td>\n",
       "    </tr>\n",
       "    <tr>\n",
       "      <th>2</th>\n",
       "      <td>34007</td>\n",
       "      <td>304</td>\n",
       "      <td>EDUKACE LAKTACE</td>\n",
       "      <td>45.0</td>\n",
       "      <td>45</td>\n",
       "      <td>neonatologie</td>\n",
       "      <td>351</td>\n",
       "      <td>50.0</td>\n",
       "    </tr>\n",
       "    <tr>\n",
       "      <th>3</th>\n",
       "      <td>34045</td>\n",
       "      <td>304</td>\n",
       "      <td>CELOTĚLOVÁ HYPOTERMIE NOVOROZENCE</td>\n",
       "      <td>1440.0</td>\n",
       "      <td>720</td>\n",
       "      <td>neonatologie</td>\n",
       "      <td>351</td>\n",
       "      <td>1445.0</td>\n",
       "    </tr>\n",
       "    <tr>\n",
       "      <th>4</th>\n",
       "      <td>34046</td>\n",
       "      <td>304</td>\n",
       "      <td>SCREENING VROZENÉ KATARAKTY</td>\n",
       "      <td>15.0</td>\n",
       "      <td>15</td>\n",
       "      <td>neonatologie</td>\n",
       "      <td>351</td>\n",
       "      <td>20.0</td>\n",
       "    </tr>\n",
       "    <tr>\n",
       "      <th>...</th>\n",
       "      <td>...</td>\n",
       "      <td>...</td>\n",
       "      <td>...</td>\n",
       "      <td>...</td>\n",
       "      <td>...</td>\n",
       "      <td>...</td>\n",
       "      <td>...</td>\n",
       "      <td>...</td>\n",
       "    </tr>\n",
       "    <tr>\n",
       "      <th>5000</th>\n",
       "      <td>99147</td>\n",
       "      <td>812</td>\n",
       "      <td>JINÁ LÉČIVA A METABOLITY LÉČIV JEDNOTLIVĚ</td>\n",
       "      <td>10.0</td>\n",
       "      <td>10</td>\n",
       "      <td>laboratoř farmakologie a toxikologie léčiv</td>\n",
       "      <td>351</td>\n",
       "      <td>15.0</td>\n",
       "    </tr>\n",
       "    <tr>\n",
       "      <th>5001</th>\n",
       "      <td>99149</td>\n",
       "      <td>812</td>\n",
       "      <td>LITHIUM</td>\n",
       "      <td>2.0</td>\n",
       "      <td>2</td>\n",
       "      <td>laboratoř farmakologie a toxikologie léčiv</td>\n",
       "      <td>351</td>\n",
       "      <td>7.0</td>\n",
       "    </tr>\n",
       "    <tr>\n",
       "      <th>5002</th>\n",
       "      <td>99151</td>\n",
       "      <td>812</td>\n",
       "      <td>PSYCHOTROPNÍ LÁTKY JEDNOTLIVĚ</td>\n",
       "      <td>5.0</td>\n",
       "      <td>5</td>\n",
       "      <td>laboratoř farmakologie a toxikologie léčiv</td>\n",
       "      <td>351</td>\n",
       "      <td>10.0</td>\n",
       "    </tr>\n",
       "    <tr>\n",
       "      <th>5003</th>\n",
       "      <td>99153</td>\n",
       "      <td>812</td>\n",
       "      <td>IMUNOSUPRESIVA JEDNOTLIVĚ</td>\n",
       "      <td>5.0</td>\n",
       "      <td>5</td>\n",
       "      <td>laboratoř farmakologie a toxikologie léčiv</td>\n",
       "      <td>351</td>\n",
       "      <td>10.0</td>\n",
       "    </tr>\n",
       "    <tr>\n",
       "      <th>5004</th>\n",
       "      <td>99155</td>\n",
       "      <td>812</td>\n",
       "      <td>URČENÍ ACETYLAČNÍHO FENOTYPU</td>\n",
       "      <td>5.0</td>\n",
       "      <td>5</td>\n",
       "      <td>laboratoř farmakologie a toxikologie léčiv</td>\n",
       "      <td>351</td>\n",
       "      <td>10.0</td>\n",
       "    </tr>\n",
       "  </tbody>\n",
       "</table>\n",
       "<p>5005 rows × 8 columns</p>\n",
       "</div>"
      ],
      "text/plain": [
       "     procedure_code expertise_code  \\\n",
       "0               130            304   \n",
       "1               132            304   \n",
       "2             34007            304   \n",
       "3             34045            304   \n",
       "4             34046            304   \n",
       "...             ...            ...   \n",
       "5000          99147            812   \n",
       "5001          99149            812   \n",
       "5002          99151            812   \n",
       "5003          99153            812   \n",
       "5004          99155            812   \n",
       "\n",
       "                                         procedure_name  time_individual  \\\n",
       "0                                                   NaN            480.0   \n",
       "1     VYŠETŘENÍ DÍTĚTE S VÝZNAMNÝM PERINATÁLNÍM RIZIKEM             70.0   \n",
       "2                                       EDUKACE LAKTACE             45.0   \n",
       "3                     CELOTĚLOVÁ HYPOTERMIE NOVOROZENCE           1440.0   \n",
       "4                           SCREENING VROZENÉ KATARAKTY             15.0   \n",
       "...                                                 ...              ...   \n",
       "5000          JINÁ LÉČIVA A METABOLITY LÉČIV JEDNOTLIVĚ             10.0   \n",
       "5001                                            LITHIUM              2.0   \n",
       "5002                      PSYCHOTROPNÍ LÁTKY JEDNOTLIVĚ              5.0   \n",
       "5003                          IMUNOSUPRESIVA JEDNOTLIVĚ              5.0   \n",
       "5004                       URČENÍ ACETYLAČNÍHO FENOTYPU              5.0   \n",
       "\n",
       "     time_total                              expertise_name  tariff  \\\n",
       "0          1920                                neonatologie     351   \n",
       "1            70                                neonatologie     351   \n",
       "2            45                                neonatologie     351   \n",
       "3           720                                neonatologie     351   \n",
       "4            15                                neonatologie     351   \n",
       "...         ...                                         ...     ...   \n",
       "5000         10  laboratoř farmakologie a toxikologie léčiv     351   \n",
       "5001          2  laboratoř farmakologie a toxikologie léčiv     351   \n",
       "5002          5  laboratoř farmakologie a toxikologie léčiv     351   \n",
       "5003          5  laboratoř farmakologie a toxikologie léčiv     351   \n",
       "5004          5  laboratoř farmakologie a toxikologie léčiv     351   \n",
       "\n",
       "      time_extra  \n",
       "0          485.0  \n",
       "1           75.0  \n",
       "2           50.0  \n",
       "3         1445.0  \n",
       "4           20.0  \n",
       "...          ...  \n",
       "5000        15.0  \n",
       "5001         7.0  \n",
       "5002        10.0  \n",
       "5003        10.0  \n",
       "5004        10.0  \n",
       "\n",
       "[5005 rows x 8 columns]"
      ]
     },
     "execution_count": 100,
     "metadata": {},
     "output_type": "execute_result"
    }
   ],
   "source": [
    "dial_dfs = pd.merge(dial_df, dial_df2, on='expertise_code')\n",
    "dial_dfs['expertise_name'] = dial_dfs['expertise_name'].apply(lambda x: x.split('-')[0].strip())\n",
    "dial_dfs['time_individual'] = dial_dfs['time_individual'].apply(pd.to_numeric)\n",
    "dial_dfs['time_extra'] = dial_dfs['time_individual'] + 5\n",
    "dial_dfs"
   ]
  },
  {
   "cell_type": "code",
   "execution_count": 118,
   "metadata": {},
   "outputs": [],
   "source": [
    "def expertise_to_specialty(name):\n",
    "    return {\n",
    "        'nemocniční lékárenství' : 'nemocniční lékárenství',\n",
    "        'angiologie' : 'angiologie',\n",
    "        'gastroenterologie' : 'gastroenterologie',\n",
    "        'geriatrie' : 'geriatrie',\n",
    "        'nefrologie' : 'nefrologie',\n",
    "        'revmatologie' : 'revmatologie',\n",
    "        'klinická osteologie' : 'klinická osteologie',\n",
    "        'medicína dlouhodobé péče' : 'medicína dlouhodobé péče',\n",
    "        'infekční lékařství' : 'infekční lékařství',\n",
    "        'tělovýchovné lékařství' : 'tělovýchovné lékařství',\n",
    "        'pneumologie a ftizeologie' : 'pneumologie a ftizeologie',\n",
    "        'klinická farmakologie' : 'klinická farmakologie',\n",
    "        'alergologie a klinická imunologie' : 'alergologie a klinická imunologie',\n",
    "        'lékařská genetika' : 'lékařská genetika',\n",
    "        'neurologie' : 'neurologie',\n",
    "        'dětská neurologie' : 'dětská neurologie',\n",
    "        'dětská kardiologie' : 'dětská kardiologie',\n",
    "        'psychiatrie' : 'psychiatrie',\n",
    "        'návykové nemoci' : 'návykové nemoci',\n",
    "        'sexuologie' : 'sexuologie',\n",
    "        'centrum duševního zdraví' : 'centrum duševního zdraví',\n",
    "        'Centrum duševního zdraví pro děti a dorost' : 'Centrum duševního zdraví pro děti a dorost',\n",
    "        'pracovní lékařství' : 'pracovní lékařství',\n",
    "        'klinická onkologie' : 'klinická onkologie',\n",
    "        'radiační onkologie' : 'radiační onkologie',\n",
    "        'dermatovenerologie' : 'dermatovenerologie',\n",
    "        'dětská dermatologie' : 'dětská dermatologie',\n",
    "        'korektivní dermatologie' : 'korektivní dermatologie',\n",
    "        'neurochirurgie' : 'neurochirurgie',\n",
    "        'hrudní chirurgie' : 'hrudní chirurgie',\n",
    "        'algeziologie' : 'algeziologie',\n",
    "        'foniatrie' : 'foniatrie',\n",
    "        'dětská otorinolaryngologie' : 'dětská otorinolaryngologie',\n",
    "        'urgentní medicína' : 'urgentní medicína',\n",
    "        'paliativní medicína' : 'paliativní medicína',\n",
    "        'hyperbarická a letecká medicína' : 'hyperbarická medicína a oxygenoterapie',\n",
    "        'přeprava pacientů neodkladné péče' : 'přeprava pacientů neodkladné péče',\n",
    "        'lékařská mikrobiologie' : 'lékařská mikrobiologie',\n",
    "        'mamografický screening' : 'radiologie a zobrazovací metody',\n",
    "        'patologická anatomie' : 'patologie',\n",
    "        'soudní lékařství' : 'soudní lékařství',\n",
    "        'radiologie a zobrazovací metody' : 'radiologie a zobrazovací metody',\n",
    "        'transfuzní lékařství' : 'hematologie a transfuzní lékařství',\n",
    "        'dětské lékařství' : 'pediatrie',\n",
    "        'dorostové lékařství' : 'pediatrie',\n",
    "        'orální a maxilofaciální chirurgie' : 'maxilofaciální chirurgie',\n",
    "        'dětská a dorostová psychiatrie' : 'dětská psychiatrie',\n",
    "        'klinická farmacie' : 'klinická farmakologie',\n",
    "        'klinická stomatologie' : 'stomatologie',\n",
    "        'ortodoncie' : 'stomatologie',\n",
    "        'pracoviště hemodialýzy' : 'nefrologie',\n",
    "        'rehabilitační a fyzikální medicína' : '',\n",
    "        'hematologie' : 'hematologie a transfuzní lékařství',\n",
    "        'diabetologie' : 'endokrinologie a diabetologie',\n",
    "        'endokrinologie' : 'endokrinologie a diabetologie',\n",
    "        'neonatologie':'neonatologie',\n",
    "        'kardiochirurgie':'kardiochirurgie',\n",
    "        'chirurgie':'chirurgie',\n",
    "        'cévní chirurgie':'cévní chirurgie',\n",
    "        'gynekologie a porodnictví':'gynekologie a porodnictví',\n",
    "        'dětská chirurgie':'dětská chirurgie',\n",
    "        'úrazová chirurgie (traumatologie)':'ortopedie a traumatologie pohybového ústrojí',\n",
    "        'plastická chirurgie':'plastická chirurgie',\n",
    "        'popáleninová medicína':'popáleninová medicína',\n",
    "        'dětská gynekologie':'gynekologie dětí a dospívajících',\n",
    "        'ortopedie':'ortopedie a traumatologie pohybového ústrojí',\n",
    "        'otorinolaryngologie':'otorinolaryngologie a chirurgie hlavy a krku',\n",
    "        'urologie':'urologie',\n",
    "        'anesteziologie a intenzivní medicína':'anesteziologie a intenzivní medicína',\n",
    "        'kardiologie':'kardiologie',\n",
    "        'vnitřní lékařství - interna':'vnitřní lékařství',\n",
    "        'vnitřní lékařství':'vnitřní lékařství',\n",
    "        'nukleární medicína':'nukleární medicína',\n",
    "        'ortopedická protetika' : 'ortopedie a traumatologie pohybového ústrojí',\n",
    "        'oftalmologie' : 'oftalmologie',\n",
    "        'dětská urologie' : 'dětská urologie',\n",
    "        'klinická biochemie' : 'klinická biochemie',\n",
    "        'laboratoř alergologická a imunologická' : 'laboratoř alergologická a imunologická',\n",
    "        'laboratoř lékařské genetiky' : 'laboratoř lékařské genetiky',\n",
    "        'laboratoř klinické cytologie' : 'laboratoř klinické cytologie',\n",
    "        'laboratoř hematologická' : 'laboratoř hematologická',\n",
    "        'laboratoř farmakologie a toxikologie léčiv' : 'laboratoř farmakologie a toxikologie léčiv',\n",
    "        'laboratoř toxikologická' : 'laboratoř toxikologická',\n",
    "        'laboratoř nukleární medicíny' : 'laboratoř nukleární medicíny',\n",
    "        'laboratoř pro univerzální výkony' : 'laboratoř pro univerzální výkony',\n",
    "        'laboratoř patologie' : 'laboratoř patologie',\n",
    "        'všeobecné praktické lékařství' : 'všeobecné praktické lékařství',\n",
    "        'praktické lékařství pro děti a dorost' : 'pediatrie',\n",
    "        'gerontopsychiatrie': 'psychiatrie',\n",
    "        'audiologie': 'foniatrie',\n",
    "        'přenosné nemoce': 'venerologie', \n",
    "\n",
    "        'hemodialýza' : 'hemodialýza',\n",
    "        'lékařská služba první pomoci' : 'lékařská služba první pomoci',\n",
    "        'laboratoř provádějící screening karcinomu děložního hrdla' : 'laboratoř provádějící screening karcinomu děložního hrdla',\n",
    "        'stomatologická LSPP' : 'stomatologická LSPP',\n",
    "        'lékařská parazitologie' : 'lékařská parazitologie',\n",
    "        'lékařská virologie' : 'lékařská virologie',\n",
    "        'laboratoř mykologická' : 'laboratoř mykologická',\n",
    "        'lékařská bakteriologie':'lékařská bakteriologie',\n",
    "        }.get(name, None)\n",
    "\n",
    "dial_dfs['medical_specialty'] = dial_dfs['expertise_name'].apply(expertise_to_specialty)\n"
   ]
  },
  {
   "cell_type": "code",
   "execution_count": 119,
   "metadata": {},
   "outputs": [],
   "source": [
    "time_expertise_mean = dial_dfs[['expertise_code', 'time_individual']].groupby('expertise_code').mean().rename(columns={'time_individual':'time_expertise_mean'}).reset_index()\n",
    "dial_df_total = pd.merge(dial_dfs, time_expertise_mean)\n",
    "dial_df_total.procedure_code = dial_df_total.procedure_code.apply(pd.to_numeric)\n",
    "dial_df_total = dial_df_total[['procedure_code', 'expertise_code', 'time_individual', 'medical_specialty', 'time_expertise_mean']]"
   ]
  },
  {
   "cell_type": "code",
   "execution_count": 120,
   "metadata": {},
   "outputs": [],
   "source": [
    "ic = pd.read_csv(PATH_FINAL+'insurances.csv', index_col=0)\n",
    "ic.expertise_code = ic.expertise_code.apply(lambda n:f\"{n:0>3}\")"
   ]
  },
  {
   "cell_type": "code",
   "execution_count": 121,
   "metadata": {},
   "outputs": [],
   "source": [
    "exp_proc = pd.merge(dial_df_total,\n",
    "                    ic[~ic['procedure_code'].isna()],\n",
    "                    on=['expertise_code', 'procedure_code'],\n",
    "                    how='right')\n",
    "\n",
    "exp = pd.merge(dial_df_total[['expertise_code', 'medical_specialty', 'time_expertise_mean']].drop_duplicates().reset_index(drop=True),\n",
    "                    ic[ic['procedure_code'].isna()],\n",
    "                    on=['expertise_code'],\n",
    "                    how='right')\n",
    "                    \n",
    "assert exp_proc.shape[0] + exp.shape[0] == ic.shape[0]"
   ]
  },
  {
   "cell_type": "code",
   "execution_count": 122,
   "metadata": {},
   "outputs": [],
   "source": [
    "ic_extra = pd.concat([exp_proc, exp]).reset_index(drop=True)\n",
    "tmp = ic_extra[~ic_extra['medical_specialty'].isna()][['expertise_code', 'medical_specialty']].drop_duplicates()\n",
    "exp_ms_dict = dict(zip(tmp.expertise_code, tmp.medical_specialty))\n",
    "ic_extra.loc[ic_extra.medical_specialty.isna(), 'medical_specialty'] = ic_extra[ic_extra.medical_specialty.isna()]['expertise_code'].apply(lambda x: exp_ms_dict.get(x, None))\n",
    "ic_extra['expertise_name'] = ic_extra['expertise_name'].apply(lambda x: x.strip())\n",
    "ic_extra.loc[ic_extra.medical_specialty.isna(), 'medical_specialty'] = ic_extra[ic_extra.medical_specialty.isna()]['expertise_name'].apply(expertise_to_specialty)"
   ]
  },
  {
   "cell_type": "code",
   "execution_count": 132,
   "metadata": {},
   "outputs": [],
   "source": [
    "ic_extra.to_csv(PATH_FINAL+'insurances_extra.csv')"
   ]
  },
  {
   "cell_type": "markdown",
   "metadata": {},
   "source": [
    "## NRPZS"
   ]
  },
  {
   "cell_type": "code",
   "execution_count": 16,
   "metadata": {},
   "outputs": [],
   "source": [
    "# nrpzs = pd.read_csv('https://opendata.mzcr.cz/data/nrpzs/narodni-registr-poskytovatelu-zdravotnich-sluzeb.csv') # 25. 9. 2022\n",
    "nrpzs = pd.read_csv(PATH_RAW+'nrpzs.csv')\n",
    "\n",
    "nrpzs.columns = [re.sub(r\"(?<=[a-z])([A-Z])\", r\"_\\1\", x).lower() for x in nrpzs.columns]\n",
    "\n",
    "not_required = ['Lékárna',\n",
    "                'Samostatné zařízení fyzioterapeuta',\n",
    "                'Zdravotnická zachranná služba',\n",
    "                'Výdejna zdravotnických prostředků']\n",
    "nrpzs = nrpzs[~nrpzs.druh_zarizeni.isin(not_required)].reset_index(drop=True)\n",
    "\n",
    "nrpzs = nrpzs[[x for x in nrpzs.columns if not 'poskytovatel_' in x]]\n",
    "\n",
    "\n",
    "nrpzs.loc[nrpzs.okres == 'území Hlavního města Prahy', 'okres'] = 'Hlavní město Praha'\n",
    "nrpzs.loc[nrpzs.okres.isna() & (nrpzs.kraj == 'Hlavní město Praha'), 'okres'] = 'Hlavní město Praha'\n",
    "nrpzs.loc[nrpzs.kraj.isna() & (nrpzs.okres == 'Hlavní město Praha'), 'kraj'] = 'Hlavní město Praha'\n",
    "nrpzs.loc[nrpzs.kraj.isna() & (nrpzs.okres == 'Náchod'), 'kraj'] = 'Královéhradecký kraj'\n",
    "nrpzs.loc[nrpzs.kraj.isna() & (nrpzs.okres == 'Pelhřimov'), 'kraj'] = 'Kraj Vysočina'\n",
    "\n",
    "nrpzs.to_csv(PATH_FINAL+'nrpzs.csv')"
   ]
  },
  {
   "cell_type": "code",
   "execution_count": null,
   "metadata": {},
   "outputs": [],
   "source": []
  }
 ],
 "metadata": {
  "kernelspec": {
   "display_name": "Python 3.7.4 64-bit ('vzd')",
   "language": "python",
   "name": "python3"
  },
  "language_info": {
   "codemirror_mode": {
    "name": "ipython",
    "version": 3
   },
   "file_extension": ".py",
   "mimetype": "text/x-python",
   "name": "python",
   "nbconvert_exporter": "python",
   "pygments_lexer": "ipython3",
   "version": "3.7.4"
  },
  "vscode": {
   "interpreter": {
    "hash": "f08ea57a3b14e8972cb95441d2d329063d79c5206768d2acc286d89f92e5e608"
   }
  }
 },
 "nbformat": 4,
 "nbformat_minor": 4
}
