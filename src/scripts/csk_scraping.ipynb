{
 "cells": [
  {
   "cell_type": "markdown",
   "metadata": {},
   "source": [
    "# ČSK scraping\n",
    "The aim of this notebook is to scrap data from [ČLK](https://www.dent.cz/zubni-lekari/abecedne) website to obtain current data about dentists in Czech republic "
   ]
  },
  {
   "cell_type": "code",
   "execution_count": 1,
   "metadata": {},
   "outputs": [],
   "source": [
    "from selenium import webdriver\n",
    "from selenium.webdriver.common.keys import Keys\n",
    "from selenium.webdriver.common.by import By\n",
    "from selenium.webdriver.support.ui import WebDriverWait, Select\n",
    "from selenium.webdriver.support import expected_conditions as EC\n",
    "from selenium.webdriver.common.action_chains import ActionChains\n",
    "from selenium.webdriver.chrome.options import Options\n",
    "\n",
    "\n",
    "from itertools import islice\n",
    "from fake_useragent import UserAgent\n",
    "from joblib import Parallel, delayed\n",
    "\n",
    "import time\n",
    "import pandas as pd\n",
    "import numpy as np\n",
    "import re\n",
    "import json\n",
    "import warnings\n",
    "import json\n",
    "import random\n",
    "import string\n",
    "import unidecode\n",
    "\n",
    "warnings.filterwarnings('ignore')\n"
   ]
  },
  {
   "cell_type": "code",
   "execution_count": 12,
   "metadata": {},
   "outputs": [],
   "source": [
    "PATH_CHROME = '/home/gary/Apps/chromedriver'\n",
    "PATH_INTERMEDIATE = '../../data/intermediate/'"
   ]
  },
  {
   "cell_type": "markdown",
   "metadata": {},
   "source": [
    "## Get members"
   ]
  },
  {
   "cell_type": "markdown",
   "metadata": {},
   "source": [
    "### Get urls"
   ]
  },
  {
   "cell_type": "code",
   "execution_count": 9,
   "metadata": {},
   "outputs": [],
   "source": [
    "def get_member_links():\n",
    "    '''\n",
    "     Return:\n",
    "         l_info: scrapped info\n",
    "    '''\n",
    "    \n",
    "    l_info = [] # general info about dentists\n",
    "        \n",
    "    try:\n",
    "        driver = webdriver.Chrome(executable_path=PATH_CHROME)\n",
    "\n",
    "        driver.get('https://www.dent.cz/zubni-lekari/abecedne')\n",
    "\n",
    "        time.sleep(1)\n",
    "\n",
    "        # Page counter\n",
    "        counter = 0\n",
    "        n_pages = 377\n",
    "        while counter < n_pages: \n",
    "            main = WebDriverWait(driver, 15).until(\n",
    "                EC.presence_of_element_located((By.CLASS_NAME, \"main\"))\n",
    "            )\n",
    "            doc_list = main.find_element(by=By.CLASS_NAME, value='cross-dentists-alphabetical')\n",
    "\n",
    "            for i in doc_list.find_elements(by=By.CLASS_NAME,value='cross-dentists-alphabetical__item.col-12.col-md-6.col-lg-4.u-mb-md'):\n",
    "                name = i.text\n",
    "                link = i.find_element_by_css_selector('a').get_attribute('href')\n",
    "                l_info.append([name, link])\n",
    "                \n",
    "            # Next page\n",
    "            next_page_button = main.find_element(by=By.CLASS_NAME, value='box-pager__item.box-pager__btn.box-pager__btn--next')\n",
    "            next_page_button.click()\n",
    "            \n",
    "            time.sleep(.5)\n",
    "            counter += 1\n",
    "\n",
    "        driver.close()\n",
    "            \n",
    "    except Exception as e:\n",
    "        print(f'Error occured:', e)\n",
    "        \n",
    "    finally:\n",
    "        return l_info\n",
    "    \n"
   ]
  },
  {
   "cell_type": "code",
   "execution_count": 10,
   "metadata": {},
   "outputs": [],
   "source": [
    "l_info = get_member_links()"
   ]
  },
  {
   "cell_type": "code",
   "execution_count": 11,
   "metadata": {},
   "outputs": [
    {
     "data": {
      "text/html": [
       "<div>\n",
       "<style scoped>\n",
       "    .dataframe tbody tr th:only-of-type {\n",
       "        vertical-align: middle;\n",
       "    }\n",
       "\n",
       "    .dataframe tbody tr th {\n",
       "        vertical-align: top;\n",
       "    }\n",
       "\n",
       "    .dataframe thead th {\n",
       "        text-align: right;\n",
       "    }\n",
       "</style>\n",
       "<table border=\"1\" class=\"dataframe\">\n",
       "  <thead>\n",
       "    <tr style=\"text-align: right;\">\n",
       "      <th></th>\n",
       "      <th>name</th>\n",
       "      <th>url</th>\n",
       "    </tr>\n",
       "  </thead>\n",
       "  <tbody>\n",
       "    <tr>\n",
       "      <td>0</td>\n",
       "      <td>Abdullah Anwer Lékař stomatolog</td>\n",
       "      <td>https://www.dent.cz/clen/78a69950-30d5-4948-84...</td>\n",
       "    </tr>\n",
       "    <tr>\n",
       "      <td>1</td>\n",
       "      <td>Abu Haija Moh'd</td>\n",
       "      <td>https://www.dent.cz/clen/04c897c9-9a89-426c-af...</td>\n",
       "    </tr>\n",
       "    <tr>\n",
       "      <td>2</td>\n",
       "      <td>Adamcová Libuše MUDr.</td>\n",
       "      <td>https://www.dent.cz/clen/fa37580d-5c03-4690-b1...</td>\n",
       "    </tr>\n",
       "    <tr>\n",
       "      <td>3</td>\n",
       "      <td>Abdulová Shirin MDDr.</td>\n",
       "      <td>https://www.dent.cz/clen/bf7597d9-8a65-4f57-86...</td>\n",
       "    </tr>\n",
       "    <tr>\n",
       "      <td>4</td>\n",
       "      <td>Ackermannová Michaela MDDr.</td>\n",
       "      <td>https://www.dent.cz/clen/55c14db6-4cc4-443a-81...</td>\n",
       "    </tr>\n",
       "    <tr>\n",
       "      <td>...</td>\n",
       "      <td>...</td>\n",
       "      <td>...</td>\n",
       "    </tr>\n",
       "    <tr>\n",
       "      <td>11296</td>\n",
       "      <td>Žůrková Michaela MDDr.</td>\n",
       "      <td>https://www.dent.cz/clen/4ce473e4-824f-4558-a7...</td>\n",
       "    </tr>\n",
       "    <tr>\n",
       "      <td>11298</td>\n",
       "      <td>Žmolíková Petra MUDr.</td>\n",
       "      <td>https://www.dent.cz/clen/4bbdf692-5cab-4c34-a2...</td>\n",
       "    </tr>\n",
       "    <tr>\n",
       "      <td>11301</td>\n",
       "      <td>Žmolová Klára MDDr.</td>\n",
       "      <td>https://www.dent.cz/clen/3405be9a-a390-4262-9a...</td>\n",
       "    </tr>\n",
       "    <tr>\n",
       "      <td>11304</td>\n",
       "      <td>Žmuráňová Lucia MDDr.</td>\n",
       "      <td>https://www.dent.cz/clen/d88f8d4b-b3de-4aab-8e...</td>\n",
       "    </tr>\n",
       "    <tr>\n",
       "      <td>11307</td>\n",
       "      <td>Žoldáková Dita MUDr.</td>\n",
       "      <td>https://www.dent.cz/clen/8299afda-18a2-4fc0-88...</td>\n",
       "    </tr>\n",
       "  </tbody>\n",
       "</table>\n",
       "<p>11293 rows × 2 columns</p>\n",
       "</div>"
      ],
      "text/plain": [
       "                                  name  \\\n",
       "0      Abdullah Anwer Lékař stomatolog   \n",
       "1                      Abu Haija Moh'd   \n",
       "2                Adamcová Libuše MUDr.   \n",
       "3                Abdulová Shirin MDDr.   \n",
       "4          Ackermannová Michaela MDDr.   \n",
       "...                                ...   \n",
       "11296           Žůrková Michaela MDDr.   \n",
       "11298            Žmolíková Petra MUDr.   \n",
       "11301              Žmolová Klára MDDr.   \n",
       "11304            Žmuráňová Lucia MDDr.   \n",
       "11307             Žoldáková Dita MUDr.   \n",
       "\n",
       "                                                     url  \n",
       "0      https://www.dent.cz/clen/78a69950-30d5-4948-84...  \n",
       "1      https://www.dent.cz/clen/04c897c9-9a89-426c-af...  \n",
       "2      https://www.dent.cz/clen/fa37580d-5c03-4690-b1...  \n",
       "3      https://www.dent.cz/clen/bf7597d9-8a65-4f57-86...  \n",
       "4      https://www.dent.cz/clen/55c14db6-4cc4-443a-81...  \n",
       "...                                                  ...  \n",
       "11296  https://www.dent.cz/clen/4ce473e4-824f-4558-a7...  \n",
       "11298  https://www.dent.cz/clen/4bbdf692-5cab-4c34-a2...  \n",
       "11301  https://www.dent.cz/clen/3405be9a-a390-4262-9a...  \n",
       "11304  https://www.dent.cz/clen/d88f8d4b-b3de-4aab-8e...  \n",
       "11307  https://www.dent.cz/clen/8299afda-18a2-4fc0-88...  \n",
       "\n",
       "[11293 rows x 2 columns]"
      ]
     },
     "execution_count": 11,
     "metadata": {},
     "output_type": "execute_result"
    }
   ],
   "source": [
    "dentists = pd.DataFrame(l_info, columns=['name', 'url'])\n",
    "dentists = dentists[dentists.name != '']\n",
    "dentists = dentists.drop_duplicates()\n",
    "dentists"
   ]
  },
  {
   "cell_type": "code",
   "execution_count": 13,
   "metadata": {},
   "outputs": [],
   "source": [
    "dentists.to_csv(PATH_INTERMEDIATE + 'dentists_url.csv')"
   ]
  },
  {
   "cell_type": "markdown",
   "metadata": {},
   "source": [
    "### Get detail"
   ]
  },
  {
   "cell_type": "code",
   "execution_count": 14,
   "metadata": {},
   "outputs": [],
   "source": [
    "def get_detail(driver, url):\n",
    "    d_detail = dict()\n",
    "    \n",
    "    try:\n",
    "        driver.get(url)\n",
    "        time.sleep(1)\n",
    "        # load main content\n",
    "        main = WebDriverWait(driver, 10).until(\n",
    "            EC.presence_of_element_located((By.CLASS_NAME, \"main\"))\n",
    "        )\n",
    "            \n",
    "        # name\n",
    "        name = main.find_element(by=By.CLASS_NAME, value='d-flex.align-items-center').text\n",
    "        d_detail['name'] = name\n",
    "\n",
    "        \n",
    "        text = main.find_element(by=By.CLASS_NAME, value='row-main').text\n",
    "        areas = [x for x in text.split('\\n') if \"OSK\" in x]\n",
    "        d_detail['area'] = areas\n",
    "        \n",
    "        \n",
    "        # workplaces\n",
    "        workplaces_info = []\n",
    "        workplaces = main.find_elements(by=By.CLASS_NAME, value='bg-lightgrey.p-3.mb-3')\n",
    "        for workplace in workplaces:\n",
    "            wp_info = workplace.find_elements(by=By.CLASS_NAME, value='col-md-8')\n",
    "            for wp in wp_info:\n",
    "                info = wp.text.split('\\n')\n",
    "                name, address = info[0], info[1]\n",
    "                workplaces_info.append({'name': name, 'address':address})\n",
    "        \n",
    "        d_detail['workplace'] = workplaces_info\n",
    "                \n",
    "    finally:\n",
    "        return d_detail "
   ]
  },
  {
   "cell_type": "code",
   "execution_count": 79,
   "metadata": {},
   "outputs": [],
   "source": [
    "# get_detail('https://www.dent.cz/clen/de737c67-3212-4905-b750-6b8de2d106a9')"
   ]
  },
  {
   "cell_type": "code",
   "execution_count": null,
   "metadata": {},
   "outputs": [
    {
     "name": "stdout",
     "output_type": "stream",
     "text": [
      ".......... 1000/11293\n",
      ".......... 2000/11293\n",
      ".......... 3000/11293\n",
      ".......... 4000/11293\n",
      ".......... 5000/11293\n",
      ".......... 6000/11293\n",
      ".......... 7000/11293\n",
      "."
     ]
    }
   ],
   "source": [
    "l_detail = []\n",
    "\n",
    "driver = webdriver.Chrome(executable_path=PATH_CHROME)\n",
    "n_url = dentists.url.nunique()\n",
    "cnt = 1\n",
    "\n",
    "for url in dentists.url.unique():\n",
    "    if cnt % 100 == 0:\n",
    "        print('.', end='')\n",
    "    if cnt % 1000 == 0:\n",
    "        print(f' {cnt}/{n_url}')    \n",
    "    cnt += 1    \n",
    "    \n",
    "    d_detail = get_detail(driver, url)\n",
    "    d_detail['url'] = url\n",
    "    l_detail.append(d_detail)\n",
    "    \n",
    "driver.close()\n"
   ]
  },
  {
   "cell_type": "code",
   "execution_count": null,
   "metadata": {},
   "outputs": [],
   "source": [
    "def save_to_json(rec, name):\n",
    "    with open(PATH_INTERMEDIATE + name + '.json', \"w\") as outfile:\n",
    "        json.dump(rec, outfile)\n",
    "\n",
    "save_to_json(l_detail, 'dentists_all')"
   ]
  },
  {
   "cell_type": "markdown",
   "metadata": {},
   "source": [
    "## Get workplaces\n",
    "### Get urls"
   ]
  },
  {
   "cell_type": "code",
   "execution_count": null,
   "metadata": {},
   "outputs": [],
   "source": [
    "def get_workplace_links():\n",
    "    \n",
    "    l_info = [] # general info about dentists\n",
    "        \n",
    "    try:\n",
    "        driver = webdriver.Chrome(executable_path=PATH_CHROME)\n",
    "\n",
    "        driver.get('https://www.dent.cz/zubni-lekari')\n",
    "\n",
    "        time.sleep(1)\n",
    "\n",
    "        # Page counter\n",
    "        counter = 0\n",
    "        n_pages = 232\n",
    "        while counter < n_pages: \n",
    "            main = WebDriverWait(driver, 15).until(\n",
    "                EC.presence_of_element_located((By.CLASS_NAME, \"main\"))\n",
    "            )\n",
    "            wp_list = main.find_element(by=By.CLASS_NAME, value='cross-cross-dentists-list')\n",
    "\n",
    "            for i in wp_list.find_elements(by=By.CLASS_NAME,value='cross-dentists-list__item.col-12.col-md-6.u-mb-md'):\n",
    "                record = i.find_element_by_css_selector('a')\n",
    "                name = record.text\n",
    "                link = record.get_attribute('href')\n",
    "                l_info.append([name, link])\n",
    "                \n",
    "            # Next page\n",
    "            next_page_button = main.find_element(by=By.CLASS_NAME, value='box-pager__item.box-pager__btn.box-pager__btn--next')\n",
    "            next_page_button.click()\n",
    "            \n",
    "            time.sleep(.5)\n",
    "            counter += 1\n",
    "\n",
    "        driver.close()\n",
    "            \n",
    "    except Exception as e:\n",
    "        print(f'Error occured:', e)\n",
    "        \n",
    "    finally:\n",
    "        return l_info"
   ]
  },
  {
   "cell_type": "code",
   "execution_count": null,
   "metadata": {},
   "outputs": [],
   "source": [
    "l_workplaces = get_member_links()"
   ]
  },
  {
   "cell_type": "code",
   "execution_count": null,
   "metadata": {},
   "outputs": [],
   "source": [
    "workplaces = pd.DataFrame(l_workplaces, columns=['name', 'url'])\n",
    "# workplaces = workplaces[workplaces.name != '']\n",
    "# dentists = dentists.drop_duplicates()\n",
    "workplaces"
   ]
  },
  {
   "cell_type": "markdown",
   "metadata": {},
   "source": [
    "### Get detail"
   ]
  },
  {
   "cell_type": "code",
   "execution_count": null,
   "metadata": {},
   "outputs": [],
   "source": [
    "def get_wp_detail(driver, url):\n",
    "    d_detail = dict()\n",
    "    \n",
    "    try:\n",
    "        driver.get(url)\n",
    "        time.sleep(1)\n",
    "        # load main content\n",
    "        main = WebDriverWait(driver, 10).until(\n",
    "            EC.presence_of_element_located((By.CLASS_NAME, \"main\"))\n",
    "        )\n",
    "            \n",
    "        # name\n",
    "        name = main.find_element_by_css_selector('h1').text\n",
    "        d_detail['name'] = name\n",
    "        \n",
    "        # detail info\n",
    "        workplaces_info = []\n",
    "        table = main.find_element(by=By.CLASS_NAME, value='box-detail__item')\n",
    "        info = table.find_element_by_css_selector('p')\n",
    "        \n",
    "        assert len(info) % 2 == 0 \n",
    "        \n",
    "        for feature, value in zip(info[::2], info[1::2]):\n",
    "            key = feature.text\n",
    "            val = value.text.split('\\n')\n",
    "            d_detail[key] = val\n",
    "                \n",
    "    finally:\n",
    "        return d_detail "
   ]
  },
  {
   "cell_type": "code",
   "execution_count": null,
   "metadata": {},
   "outputs": [],
   "source": [
    "# get_detail('https://www.dent.cz/clen/de737c67-3212-4905-b750-6b8de2d106a9')"
   ]
  },
  {
   "cell_type": "code",
   "execution_count": null,
   "metadata": {},
   "outputs": [],
   "source": [
    "l_wp_detail = []\n",
    "\n",
    "driver = webdriver.Chrome(executable_path=PATH_CHROME)\n",
    "n_url = workplaces.url.nunique()\n",
    "cnt = 1\n",
    "\n",
    "for url in workplaces.url.unique():\n",
    "    if cnt % 100 == 0:\n",
    "        print('.', end='')\n",
    "    if cnt % 1000 == 0:\n",
    "        print(f' {cnt}/{n_url}')    \n",
    "    cnt += 1    \n",
    "    \n",
    "    d_detail = get_detail(driver, url)\n",
    "    d_detail['url'] = url\n",
    "    l_wp_detail.append(d_detail)\n",
    "    \n",
    "driver.close()\n"
   ]
  },
  {
   "cell_type": "code",
   "execution_count": 578,
   "metadata": {},
   "outputs": [],
   "source": [
    "save_to_json(l_doctors, 'workplaces_all')"
   ]
  },
  {
   "cell_type": "markdown",
   "metadata": {},
   "source": [
    "## Postprocessing"
   ]
  },
  {
   "cell_type": "code",
   "execution_count": 49,
   "metadata": {},
   "outputs": [],
   "source": [
    "# TODO parse and combine workplaces with doctors"
   ]
  }
 ],
 "metadata": {
  "kernelspec": {
   "display_name": "Python [conda env:vzd] *",
   "language": "python",
   "name": "conda-env-vzd-py"
  },
  "language_info": {
   "codemirror_mode": {
    "name": "ipython",
    "version": 3
   },
   "file_extension": ".py",
   "mimetype": "text/x-python",
   "name": "python",
   "nbconvert_exporter": "python",
   "pygments_lexer": "ipython3",
   "version": "3.7.4"
  }
 },
 "nbformat": 4,
 "nbformat_minor": 4
}
