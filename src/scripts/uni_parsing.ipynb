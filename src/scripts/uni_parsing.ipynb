{
 "cells": [
  {
   "cell_type": "markdown",
   "metadata": {},
   "source": [
    "# Data cleaning\n",
    "The main purpose of this notebook is to unify structure from different faculties/universities, clean them and merge them into one dataset"
   ]
  },
  {
   "cell_type": "code",
   "execution_count": 1,
   "metadata": {},
   "outputs": [],
   "source": [
    "import sys\n",
    "sys.path.append('../utils/')\n",
    "from parsing import *\n",
    "\n",
    "import warnings\n",
    "warnings.filterwarnings(\"ignore\")"
   ]
  },
  {
   "cell_type": "code",
   "execution_count": 2,
   "metadata": {},
   "outputs": [],
   "source": [
    "PATH_INTERMEDIATE = '../../data/intermediate/'"
   ]
  },
  {
   "cell_type": "markdown",
   "metadata": {},
   "source": [
    "## 1. Load & clean\n",
    "Part of this task is also enrichment of datasets."
   ]
  },
  {
   "cell_type": "code",
   "execution_count": 3,
   "metadata": {},
   "outputs": [],
   "source": [
    "general_df = pd.DataFrame()"
   ]
  },
  {
   "cell_type": "markdown",
   "metadata": {},
   "source": [
    "### 1.1. UK"
   ]
  },
  {
   "cell_type": "code",
   "execution_count": 4,
   "metadata": {},
   "outputs": [],
   "source": [
    "uk_df = load_uk_raw()\n",
    "# add some features to dataframe\n",
    "uk_df = enrich_uk(uk_df)\n",
    "general_df = general_df.append(uk_df)"
   ]
  },
  {
   "cell_type": "code",
   "execution_count": 5,
   "metadata": {},
   "outputs": [
    {
     "data": {
      "text/plain": [
       "(32906, 11)"
      ]
     },
     "metadata": {},
     "output_type": "display_data"
    },
    {
     "data": {
      "text/plain": [
       "Timestamp('2011-03-17 00:00:00')"
      ]
     },
     "metadata": {},
     "output_type": "display_data"
    },
    {
     "data": {
      "text/html": [
       "<div>\n",
       "<style scoped>\n",
       "    .dataframe tbody tr th:only-of-type {\n",
       "        vertical-align: middle;\n",
       "    }\n",
       "\n",
       "    .dataframe tbody tr th {\n",
       "        vertical-align: top;\n",
       "    }\n",
       "\n",
       "    .dataframe thead th {\n",
       "        text-align: right;\n",
       "    }\n",
       "</style>\n",
       "<table border=\"1\" class=\"dataframe\">\n",
       "  <thead>\n",
       "    <tr style=\"text-align: right;\">\n",
       "      <th></th>\n",
       "      <th>major</th>\n",
       "      <th>date_end</th>\n",
       "      <th>date_start</th>\n",
       "      <th>age_start</th>\n",
       "      <th>relevance_date</th>\n",
       "      <th>university</th>\n",
       "      <th>graduated</th>\n",
       "      <th>year_of_study</th>\n",
       "      <th>birth_date</th>\n",
       "      <th>age_end</th>\n",
       "      <th>age_now</th>\n",
       "    </tr>\n",
       "  </thead>\n",
       "  <tbody>\n",
       "    <tr>\n",
       "      <td>0</td>\n",
       "      <td>Fyziologie a patologická fyziologie</td>\n",
       "      <td>2015-11-27</td>\n",
       "      <td>2011</td>\n",
       "      <td>29</td>\n",
       "      <td>2021-12-17</td>\n",
       "      <td>hkuk</td>\n",
       "      <td>True</td>\n",
       "      <td>NaN</td>\n",
       "      <td>1982</td>\n",
       "      <td>33.0</td>\n",
       "      <td>40</td>\n",
       "    </tr>\n",
       "    <tr>\n",
       "      <td>1</td>\n",
       "      <td>Všeobecné lékařství</td>\n",
       "      <td>2011-07-14</td>\n",
       "      <td>2005</td>\n",
       "      <td>23</td>\n",
       "      <td>2021-12-17</td>\n",
       "      <td>hkuk</td>\n",
       "      <td>True</td>\n",
       "      <td>NaN</td>\n",
       "      <td>1982</td>\n",
       "      <td>29.0</td>\n",
       "      <td>40</td>\n",
       "    </tr>\n",
       "    <tr>\n",
       "      <td>2</td>\n",
       "      <td>Lékařská mikrobiologie</td>\n",
       "      <td>2014-11-24</td>\n",
       "      <td>2010</td>\n",
       "      <td>38</td>\n",
       "      <td>2021-12-17</td>\n",
       "      <td>hkuk</td>\n",
       "      <td>True</td>\n",
       "      <td>NaN</td>\n",
       "      <td>1972</td>\n",
       "      <td>42.0</td>\n",
       "      <td>50</td>\n",
       "    </tr>\n",
       "    <tr>\n",
       "      <td>3</td>\n",
       "      <td>Vnitřní nemoci</td>\n",
       "      <td>NaT</td>\n",
       "      <td>2012</td>\n",
       "      <td>54</td>\n",
       "      <td>2021-12-17</td>\n",
       "      <td>hkuk</td>\n",
       "      <td>False</td>\n",
       "      <td>10.0</td>\n",
       "      <td>1958</td>\n",
       "      <td>NaN</td>\n",
       "      <td>64</td>\n",
       "    </tr>\n",
       "    <tr>\n",
       "      <td>4</td>\n",
       "      <td>Lékařská biologie</td>\n",
       "      <td>2016-12-01</td>\n",
       "      <td>2008</td>\n",
       "      <td>34</td>\n",
       "      <td>2021-12-17</td>\n",
       "      <td>hkuk</td>\n",
       "      <td>True</td>\n",
       "      <td>NaN</td>\n",
       "      <td>1974</td>\n",
       "      <td>42.0</td>\n",
       "      <td>48</td>\n",
       "    </tr>\n",
       "  </tbody>\n",
       "</table>\n",
       "</div>"
      ],
      "text/plain": [
       "                                 major   date_end  date_start  age_start  \\\n",
       "0  Fyziologie a patologická fyziologie 2015-11-27        2011         29   \n",
       "1                  Všeobecné lékařství 2011-07-14        2005         23   \n",
       "2               Lékařská mikrobiologie 2014-11-24        2010         38   \n",
       "3                       Vnitřní nemoci        NaT        2012         54   \n",
       "4                    Lékařská biologie 2016-12-01        2008         34   \n",
       "\n",
       "  relevance_date university  graduated  year_of_study  birth_date  age_end  \\\n",
       "0     2021-12-17       hkuk       True            NaN        1982     33.0   \n",
       "1     2021-12-17       hkuk       True            NaN        1982     29.0   \n",
       "2     2021-12-17       hkuk       True            NaN        1972     42.0   \n",
       "3     2021-12-17       hkuk      False           10.0        1958      NaN   \n",
       "4     2021-12-17       hkuk       True            NaN        1974     42.0   \n",
       "\n",
       "   age_now  \n",
       "0       40  \n",
       "1       40  \n",
       "2       50  \n",
       "3       64  \n",
       "4       48  "
      ]
     },
     "execution_count": 5,
     "metadata": {},
     "output_type": "execute_result"
    }
   ],
   "source": [
    "display(uk_df.shape)\n",
    "display(uk_df[uk_df.graduated].date_end.min())\n",
    "uk_df.head()"
   ]
  },
  {
   "cell_type": "markdown",
   "metadata": {},
   "source": [
    "### 1.2. MUNI"
   ]
  },
  {
   "cell_type": "code",
   "execution_count": 6,
   "metadata": {},
   "outputs": [],
   "source": [
    "muni_df = load_muni_raw()\n",
    "# add some features to dataframe\n",
    "muni_df = enrich_muni(muni_df)\n",
    "general_df = general_df.append(muni_df)"
   ]
  },
  {
   "cell_type": "code",
   "execution_count": 7,
   "metadata": {},
   "outputs": [
    {
     "data": {
      "text/plain": [
       "(12357, 13)"
      ]
     },
     "metadata": {},
     "output_type": "display_data"
    },
    {
     "data": {
      "text/plain": [
       "Timestamp('2012-01-02 00:00:00')"
      ]
     },
     "metadata": {},
     "output_type": "display_data"
    },
    {
     "data": {
      "text/html": [
       "<div>\n",
       "<style scoped>\n",
       "    .dataframe tbody tr th:only-of-type {\n",
       "        vertical-align: middle;\n",
       "    }\n",
       "\n",
       "    .dataframe tbody tr th {\n",
       "        vertical-align: top;\n",
       "    }\n",
       "\n",
       "    .dataframe thead th {\n",
       "        text-align: right;\n",
       "    }\n",
       "</style>\n",
       "<table border=\"1\" class=\"dataframe\">\n",
       "  <thead>\n",
       "    <tr style=\"text-align: right;\">\n",
       "      <th></th>\n",
       "      <th>degree</th>\n",
       "      <th>major</th>\n",
       "      <th>date_start</th>\n",
       "      <th>date_end</th>\n",
       "      <th>birth_date</th>\n",
       "      <th>citizenship</th>\n",
       "      <th>university</th>\n",
       "      <th>graduated</th>\n",
       "      <th>year_of_study</th>\n",
       "      <th>age_start</th>\n",
       "      <th>age_end</th>\n",
       "      <th>age_now</th>\n",
       "      <th>relevance_date</th>\n",
       "    </tr>\n",
       "  </thead>\n",
       "  <tbody>\n",
       "    <tr>\n",
       "      <td>0</td>\n",
       "      <td>doktorský</td>\n",
       "      <td>Chirurgie</td>\n",
       "      <td>2005</td>\n",
       "      <td>2012-09-25</td>\n",
       "      <td>1969</td>\n",
       "      <td>Česká republika</td>\n",
       "      <td>muni</td>\n",
       "      <td>True</td>\n",
       "      <td>NaN</td>\n",
       "      <td>36</td>\n",
       "      <td>43.0</td>\n",
       "      <td>53</td>\n",
       "      <td>2022-06-01</td>\n",
       "    </tr>\n",
       "    <tr>\n",
       "      <td>1</td>\n",
       "      <td>doktorský</td>\n",
       "      <td>Chirurgie</td>\n",
       "      <td>2003</td>\n",
       "      <td>2012-04-04</td>\n",
       "      <td>1960</td>\n",
       "      <td>Česká republika</td>\n",
       "      <td>muni</td>\n",
       "      <td>True</td>\n",
       "      <td>NaN</td>\n",
       "      <td>43</td>\n",
       "      <td>52.0</td>\n",
       "      <td>62</td>\n",
       "      <td>2022-06-01</td>\n",
       "    </tr>\n",
       "    <tr>\n",
       "      <td>2</td>\n",
       "      <td>bakalářský</td>\n",
       "      <td>Zdravotní laborant</td>\n",
       "      <td>2009</td>\n",
       "      <td>2012-06-13</td>\n",
       "      <td>1970</td>\n",
       "      <td>Česká republika</td>\n",
       "      <td>muni</td>\n",
       "      <td>True</td>\n",
       "      <td>NaN</td>\n",
       "      <td>39</td>\n",
       "      <td>42.0</td>\n",
       "      <td>52</td>\n",
       "      <td>2022-06-01</td>\n",
       "    </tr>\n",
       "    <tr>\n",
       "      <td>3</td>\n",
       "      <td>doktorský</td>\n",
       "      <td>Lékařská chemie a biochemie</td>\n",
       "      <td>2010</td>\n",
       "      <td>2015-12-08</td>\n",
       "      <td>1972</td>\n",
       "      <td>Česká republika</td>\n",
       "      <td>muni</td>\n",
       "      <td>True</td>\n",
       "      <td>NaN</td>\n",
       "      <td>38</td>\n",
       "      <td>43.0</td>\n",
       "      <td>50</td>\n",
       "      <td>2022-06-01</td>\n",
       "    </tr>\n",
       "    <tr>\n",
       "      <td>4</td>\n",
       "      <td>doktorský</td>\n",
       "      <td>Stomatologie</td>\n",
       "      <td>2021</td>\n",
       "      <td>NaT</td>\n",
       "      <td>1968</td>\n",
       "      <td>Česká republika</td>\n",
       "      <td>muni</td>\n",
       "      <td>False</td>\n",
       "      <td>1.0</td>\n",
       "      <td>53</td>\n",
       "      <td>NaN</td>\n",
       "      <td>54</td>\n",
       "      <td>2022-06-01</td>\n",
       "    </tr>\n",
       "  </tbody>\n",
       "</table>\n",
       "</div>"
      ],
      "text/plain": [
       "       degree                        major  date_start   date_end  birth_date  \\\n",
       "0   doktorský                    Chirurgie        2005 2012-09-25        1969   \n",
       "1   doktorský                    Chirurgie        2003 2012-04-04        1960   \n",
       "2  bakalářský           Zdravotní laborant        2009 2012-06-13        1970   \n",
       "3   doktorský  Lékařská chemie a biochemie        2010 2015-12-08        1972   \n",
       "4   doktorský                 Stomatologie        2021        NaT        1968   \n",
       "\n",
       "       citizenship university  graduated  year_of_study  age_start  age_end  \\\n",
       "0  Česká republika       muni       True            NaN         36     43.0   \n",
       "1  Česká republika       muni       True            NaN         43     52.0   \n",
       "2  Česká republika       muni       True            NaN         39     42.0   \n",
       "3  Česká republika       muni       True            NaN         38     43.0   \n",
       "4  Česká republika       muni      False            1.0         53      NaN   \n",
       "\n",
       "   age_now relevance_date  \n",
       "0       53     2022-06-01  \n",
       "1       62     2022-06-01  \n",
       "2       52     2022-06-01  \n",
       "3       50     2022-06-01  \n",
       "4       54     2022-06-01  "
      ]
     },
     "execution_count": 7,
     "metadata": {},
     "output_type": "execute_result"
    }
   ],
   "source": [
    "display(muni_df.shape)\n",
    "display(muni_df[muni_df.graduated].date_end.min())\n",
    "muni_df.head()"
   ]
  },
  {
   "cell_type": "markdown",
   "metadata": {},
   "source": [
    "### 1.3. OVA"
   ]
  },
  {
   "cell_type": "code",
   "execution_count": 8,
   "metadata": {},
   "outputs": [],
   "source": [
    "ova_df = load_ova_raw()\n",
    "ova_df['graduated'] = ova_df['year_of_study'].isna()\n",
    "ova_df['relevance_date'] = pd.to_datetime('20-12-2021')\n",
    "\n",
    "general_df = general_df.append(ova_df)"
   ]
  },
  {
   "cell_type": "code",
   "execution_count": 9,
   "metadata": {},
   "outputs": [
    {
     "data": {
      "text/plain": [
       "(12357, 13)"
      ]
     },
     "metadata": {},
     "output_type": "display_data"
    },
    {
     "data": {
      "text/plain": [
       "Timestamp('2016-04-21 00:00:00')"
      ]
     },
     "metadata": {},
     "output_type": "display_data"
    },
    {
     "data": {
      "text/html": [
       "<div>\n",
       "<style scoped>\n",
       "    .dataframe tbody tr th:only-of-type {\n",
       "        vertical-align: middle;\n",
       "    }\n",
       "\n",
       "    .dataframe tbody tr th {\n",
       "        vertical-align: top;\n",
       "    }\n",
       "\n",
       "    .dataframe thead th {\n",
       "        text-align: right;\n",
       "    }\n",
       "</style>\n",
       "<table border=\"1\" class=\"dataframe\">\n",
       "  <thead>\n",
       "    <tr style=\"text-align: right;\">\n",
       "      <th></th>\n",
       "      <th>major</th>\n",
       "      <th>date_end</th>\n",
       "      <th>year_of_study</th>\n",
       "      <th>citizenship</th>\n",
       "      <th>date_start</th>\n",
       "      <th>university</th>\n",
       "      <th>graduated</th>\n",
       "      <th>relevance_date</th>\n",
       "    </tr>\n",
       "  </thead>\n",
       "  <tbody>\n",
       "    <tr>\n",
       "      <td>0</td>\n",
       "      <td>Všeobecné lékařství</td>\n",
       "      <td>2021-05-20 00:00:00</td>\n",
       "      <td>NaN</td>\n",
       "      <td>Česká republika</td>\n",
       "      <td>2015-08-28</td>\n",
       "      <td>ova</td>\n",
       "      <td>True</td>\n",
       "      <td>2021-12-20</td>\n",
       "    </tr>\n",
       "    <tr>\n",
       "      <td>1</td>\n",
       "      <td>Všeobecné lékařství</td>\n",
       "      <td>2018-05-22 00:00:00</td>\n",
       "      <td>NaN</td>\n",
       "      <td>Česká republika</td>\n",
       "      <td>2012-08-31</td>\n",
       "      <td>ova</td>\n",
       "      <td>True</td>\n",
       "      <td>2021-12-20</td>\n",
       "    </tr>\n",
       "    <tr>\n",
       "      <td>2</td>\n",
       "      <td>Všeobecné lékařství</td>\n",
       "      <td>2019-05-23 00:00:00</td>\n",
       "      <td>NaN</td>\n",
       "      <td>Česká republika</td>\n",
       "      <td>2013-09-05</td>\n",
       "      <td>ova</td>\n",
       "      <td>True</td>\n",
       "      <td>2021-12-20</td>\n",
       "    </tr>\n",
       "    <tr>\n",
       "      <td>3</td>\n",
       "      <td>Všeobecné lékařství</td>\n",
       "      <td>2018-05-14 00:00:00</td>\n",
       "      <td>NaN</td>\n",
       "      <td>Česká republika</td>\n",
       "      <td>2012-08-31</td>\n",
       "      <td>ova</td>\n",
       "      <td>True</td>\n",
       "      <td>2021-12-20</td>\n",
       "    </tr>\n",
       "    <tr>\n",
       "      <td>4</td>\n",
       "      <td>Všeobecné lékařství</td>\n",
       "      <td>2020-06-19 00:00:00</td>\n",
       "      <td>NaN</td>\n",
       "      <td>Česká republika</td>\n",
       "      <td>2014-08-29</td>\n",
       "      <td>ova</td>\n",
       "      <td>True</td>\n",
       "      <td>2021-12-20</td>\n",
       "    </tr>\n",
       "  </tbody>\n",
       "</table>\n",
       "</div>"
      ],
      "text/plain": [
       "                 major             date_end  year_of_study      citizenship  \\\n",
       "0  Všeobecné lékařství  2021-05-20 00:00:00            NaN  Česká republika   \n",
       "1  Všeobecné lékařství  2018-05-22 00:00:00            NaN  Česká republika   \n",
       "2  Všeobecné lékařství  2019-05-23 00:00:00            NaN  Česká republika   \n",
       "3  Všeobecné lékařství  2018-05-14 00:00:00            NaN  Česká republika   \n",
       "4  Všeobecné lékařství  2020-06-19 00:00:00            NaN  Česká republika   \n",
       "\n",
       "  date_start university  graduated relevance_date  \n",
       "0 2015-08-28        ova       True     2021-12-20  \n",
       "1 2012-08-31        ova       True     2021-12-20  \n",
       "2 2013-09-05        ova       True     2021-12-20  \n",
       "3 2012-08-31        ova       True     2021-12-20  \n",
       "4 2014-08-29        ova       True     2021-12-20  "
      ]
     },
     "execution_count": 9,
     "metadata": {},
     "output_type": "execute_result"
    }
   ],
   "source": [
    "display(muni_df.shape)\n",
    "display(ova_df[ova_df.graduated].date_end.min())\n",
    "ova_df.head()"
   ]
  },
  {
   "cell_type": "markdown",
   "metadata": {},
   "source": [
    "### 1.4. UNOB"
   ]
  },
  {
   "cell_type": "code",
   "execution_count": 10,
   "metadata": {},
   "outputs": [],
   "source": [
    "unob_df = load_unob_raw()\n",
    "unob_df = enrich_unob(unob_df)\n",
    "general_df = general_df.append(unob_df)"
   ]
  },
  {
   "cell_type": "code",
   "execution_count": 11,
   "metadata": {},
   "outputs": [
    {
     "data": {
      "text/plain": [
       "(309, 12)"
      ]
     },
     "metadata": {},
     "output_type": "display_data"
    },
    {
     "data": {
      "text/plain": [
       "2011"
      ]
     },
     "metadata": {},
     "output_type": "display_data"
    },
    {
     "data": {
      "text/html": [
       "<div>\n",
       "<style scoped>\n",
       "    .dataframe tbody tr th:only-of-type {\n",
       "        vertical-align: middle;\n",
       "    }\n",
       "\n",
       "    .dataframe tbody tr th {\n",
       "        vertical-align: top;\n",
       "    }\n",
       "\n",
       "    .dataframe thead th {\n",
       "        text-align: right;\n",
       "    }\n",
       "</style>\n",
       "<table border=\"1\" class=\"dataframe\">\n",
       "  <thead>\n",
       "    <tr style=\"text-align: right;\">\n",
       "      <th></th>\n",
       "      <th>graduated</th>\n",
       "      <th>age_start</th>\n",
       "      <th>citizenship</th>\n",
       "      <th>major</th>\n",
       "      <th>date_start</th>\n",
       "      <th>university</th>\n",
       "      <th>date_end</th>\n",
       "      <th>relevance_date</th>\n",
       "      <th>birth_date</th>\n",
       "      <th>age_end</th>\n",
       "      <th>age_now</th>\n",
       "      <th>year_of_study</th>\n",
       "    </tr>\n",
       "  </thead>\n",
       "  <tbody>\n",
       "    <tr>\n",
       "      <td>0</td>\n",
       "      <td>True</td>\n",
       "      <td>20</td>\n",
       "      <td>Česká republika</td>\n",
       "      <td>Vojenské všeobecné lékařství</td>\n",
       "      <td>2009</td>\n",
       "      <td>unob</td>\n",
       "      <td>2015</td>\n",
       "      <td>2022-01-17</td>\n",
       "      <td>1989</td>\n",
       "      <td>26</td>\n",
       "      <td>33</td>\n",
       "      <td>NaN</td>\n",
       "    </tr>\n",
       "    <tr>\n",
       "      <td>1</td>\n",
       "      <td>True</td>\n",
       "      <td>20</td>\n",
       "      <td>Česká republika</td>\n",
       "      <td>Vojenské všeobecné lékařství</td>\n",
       "      <td>2015</td>\n",
       "      <td>unob</td>\n",
       "      <td>2021</td>\n",
       "      <td>2022-01-17</td>\n",
       "      <td>1995</td>\n",
       "      <td>26</td>\n",
       "      <td>27</td>\n",
       "      <td>NaN</td>\n",
       "    </tr>\n",
       "    <tr>\n",
       "      <td>2</td>\n",
       "      <td>True</td>\n",
       "      <td>22</td>\n",
       "      <td>Česká republika</td>\n",
       "      <td>Vojenské všeobecné lékařství</td>\n",
       "      <td>2015</td>\n",
       "      <td>unob</td>\n",
       "      <td>2021</td>\n",
       "      <td>2022-01-17</td>\n",
       "      <td>1993</td>\n",
       "      <td>28</td>\n",
       "      <td>29</td>\n",
       "      <td>NaN</td>\n",
       "    </tr>\n",
       "    <tr>\n",
       "      <td>3</td>\n",
       "      <td>False</td>\n",
       "      <td>19</td>\n",
       "      <td>Česká republika</td>\n",
       "      <td>Vojenské všeobecné lékařství</td>\n",
       "      <td>2015</td>\n",
       "      <td>unob</td>\n",
       "      <td>2022</td>\n",
       "      <td>2022-01-17</td>\n",
       "      <td>1996</td>\n",
       "      <td>26</td>\n",
       "      <td>26</td>\n",
       "      <td>7.0</td>\n",
       "    </tr>\n",
       "    <tr>\n",
       "      <td>4</td>\n",
       "      <td>True</td>\n",
       "      <td>20</td>\n",
       "      <td>Česká republika</td>\n",
       "      <td>Vojenské všeobecné lékařství</td>\n",
       "      <td>2015</td>\n",
       "      <td>unob</td>\n",
       "      <td>2021</td>\n",
       "      <td>2022-01-17</td>\n",
       "      <td>1995</td>\n",
       "      <td>26</td>\n",
       "      <td>27</td>\n",
       "      <td>NaN</td>\n",
       "    </tr>\n",
       "  </tbody>\n",
       "</table>\n",
       "</div>"
      ],
      "text/plain": [
       "   graduated  age_start      citizenship                         major  \\\n",
       "0       True         20  Česká republika  Vojenské všeobecné lékařství   \n",
       "1       True         20  Česká republika  Vojenské všeobecné lékařství   \n",
       "2       True         22  Česká republika  Vojenské všeobecné lékařství   \n",
       "3      False         19  Česká republika  Vojenské všeobecné lékařství   \n",
       "4       True         20  Česká republika  Vojenské všeobecné lékařství   \n",
       "\n",
       "   date_start university  date_end relevance_date  birth_date  age_end  \\\n",
       "0        2009       unob      2015     2022-01-17        1989       26   \n",
       "1        2015       unob      2021     2022-01-17        1995       26   \n",
       "2        2015       unob      2021     2022-01-17        1993       28   \n",
       "3        2015       unob      2022     2022-01-17        1996       26   \n",
       "4        2015       unob      2021     2022-01-17        1995       26   \n",
       "\n",
       "   age_now  year_of_study  \n",
       "0       33            NaN  \n",
       "1       27            NaN  \n",
       "2       29            NaN  \n",
       "3       26            7.0  \n",
       "4       27            NaN  "
      ]
     },
     "execution_count": 11,
     "metadata": {},
     "output_type": "execute_result"
    }
   ],
   "source": [
    "display(unob_df.shape)\n",
    "display(unob_df[unob_df.graduated].date_end.min())\n",
    "unob_df.head()"
   ]
  },
  {
   "cell_type": "markdown",
   "metadata": {},
   "source": [
    "### 1.5. UPOL"
   ]
  },
  {
   "cell_type": "code",
   "execution_count": 12,
   "metadata": {},
   "outputs": [],
   "source": [
    "upol_df = load_upol_raw()\n",
    "upol_df = enrich_upol(upol_df)\n",
    "general_df = general_df.append(upol_df)"
   ]
  },
  {
   "cell_type": "code",
   "execution_count": 13,
   "metadata": {},
   "outputs": [
    {
     "data": {
      "text/plain": [
       "(5670, 18)"
      ]
     },
     "metadata": {},
     "output_type": "display_data"
    },
    {
     "data": {
      "text/plain": [
       "2011"
      ]
     },
     "metadata": {},
     "output_type": "display_data"
    },
    {
     "data": {
      "text/html": [
       "<div>\n",
       "<style scoped>\n",
       "    .dataframe tbody tr th:only-of-type {\n",
       "        vertical-align: middle;\n",
       "    }\n",
       "\n",
       "    .dataframe tbody tr th {\n",
       "        vertical-align: top;\n",
       "    }\n",
       "\n",
       "    .dataframe thead th {\n",
       "        text-align: right;\n",
       "    }\n",
       "</style>\n",
       "<table border=\"1\" class=\"dataframe\">\n",
       "  <thead>\n",
       "    <tr style=\"text-align: right;\">\n",
       "      <th></th>\n",
       "      <th>date_start</th>\n",
       "      <th>age_start</th>\n",
       "      <th>citizenship</th>\n",
       "      <th>major</th>\n",
       "      <th>major_number</th>\n",
       "      <th>language</th>\n",
       "      <th>permanent_address</th>\n",
       "      <th>study_length</th>\n",
       "      <th>degree</th>\n",
       "      <th>date_end</th>\n",
       "      <th>university</th>\n",
       "      <th>gender</th>\n",
       "      <th>relevance_date</th>\n",
       "      <th>graduated</th>\n",
       "      <th>year_of_study</th>\n",
       "      <th>birth_date</th>\n",
       "      <th>age_end</th>\n",
       "      <th>age_now</th>\n",
       "    </tr>\n",
       "  </thead>\n",
       "  <tbody>\n",
       "    <tr>\n",
       "      <td>0</td>\n",
       "      <td>2011</td>\n",
       "      <td>19</td>\n",
       "      <td>Malajsie</td>\n",
       "      <td>General Medicine</td>\n",
       "      <td>M5103</td>\n",
       "      <td>AJ</td>\n",
       "      <td>Malajsie</td>\n",
       "      <td>6</td>\n",
       "      <td>MUDr.</td>\n",
       "      <td>2017</td>\n",
       "      <td>upol</td>\n",
       "      <td>ženy</td>\n",
       "      <td>2021-09-12</td>\n",
       "      <td>True</td>\n",
       "      <td>NaN</td>\n",
       "      <td>1992</td>\n",
       "      <td>25</td>\n",
       "      <td>30</td>\n",
       "    </tr>\n",
       "    <tr>\n",
       "      <td>1</td>\n",
       "      <td>2007</td>\n",
       "      <td>19</td>\n",
       "      <td>Malajsie</td>\n",
       "      <td>Všeobecné lékařství</td>\n",
       "      <td>M5103</td>\n",
       "      <td>AJ</td>\n",
       "      <td>Malajsie</td>\n",
       "      <td>6</td>\n",
       "      <td>MUDr.</td>\n",
       "      <td>2013</td>\n",
       "      <td>upol</td>\n",
       "      <td>ženy</td>\n",
       "      <td>2021-09-12</td>\n",
       "      <td>True</td>\n",
       "      <td>NaN</td>\n",
       "      <td>1988</td>\n",
       "      <td>25</td>\n",
       "      <td>34</td>\n",
       "    </tr>\n",
       "    <tr>\n",
       "      <td>2</td>\n",
       "      <td>2006</td>\n",
       "      <td>20</td>\n",
       "      <td>Malajsie</td>\n",
       "      <td>Všeobecné lékařství</td>\n",
       "      <td>M5103</td>\n",
       "      <td>AJ</td>\n",
       "      <td>Malajsie</td>\n",
       "      <td>6</td>\n",
       "      <td>MUDr.</td>\n",
       "      <td>2012</td>\n",
       "      <td>upol</td>\n",
       "      <td>ženy</td>\n",
       "      <td>2021-09-12</td>\n",
       "      <td>True</td>\n",
       "      <td>NaN</td>\n",
       "      <td>1986</td>\n",
       "      <td>26</td>\n",
       "      <td>36</td>\n",
       "    </tr>\n",
       "    <tr>\n",
       "      <td>3</td>\n",
       "      <td>2010</td>\n",
       "      <td>18</td>\n",
       "      <td>Malajsie</td>\n",
       "      <td>General Medicine</td>\n",
       "      <td>M5103</td>\n",
       "      <td>AJ</td>\n",
       "      <td>Malajsie</td>\n",
       "      <td>6</td>\n",
       "      <td>MUDr.</td>\n",
       "      <td>2016</td>\n",
       "      <td>upol</td>\n",
       "      <td>ženy</td>\n",
       "      <td>2021-09-12</td>\n",
       "      <td>True</td>\n",
       "      <td>NaN</td>\n",
       "      <td>1992</td>\n",
       "      <td>24</td>\n",
       "      <td>30</td>\n",
       "    </tr>\n",
       "    <tr>\n",
       "      <td>4</td>\n",
       "      <td>2007</td>\n",
       "      <td>20</td>\n",
       "      <td>Malajsie</td>\n",
       "      <td>Všeobecné lékařství</td>\n",
       "      <td>M5103</td>\n",
       "      <td>AJ</td>\n",
       "      <td>Malajsie</td>\n",
       "      <td>6</td>\n",
       "      <td>MUDr.</td>\n",
       "      <td>2013</td>\n",
       "      <td>upol</td>\n",
       "      <td>ženy</td>\n",
       "      <td>2021-09-12</td>\n",
       "      <td>True</td>\n",
       "      <td>NaN</td>\n",
       "      <td>1987</td>\n",
       "      <td>26</td>\n",
       "      <td>35</td>\n",
       "    </tr>\n",
       "  </tbody>\n",
       "</table>\n",
       "</div>"
      ],
      "text/plain": [
       "   date_start  age_start citizenship                major major_number  \\\n",
       "0        2011         19    Malajsie     General Medicine        M5103   \n",
       "1        2007         19    Malajsie  Všeobecné lékařství        M5103   \n",
       "2        2006         20    Malajsie  Všeobecné lékařství        M5103   \n",
       "3        2010         18    Malajsie     General Medicine        M5103   \n",
       "4        2007         20    Malajsie  Všeobecné lékařství        M5103   \n",
       "\n",
       "  language permanent_address  study_length degree  date_end university gender  \\\n",
       "0       AJ          Malajsie             6  MUDr.      2017       upol   ženy   \n",
       "1       AJ          Malajsie             6  MUDr.      2013       upol   ženy   \n",
       "2       AJ          Malajsie             6  MUDr.      2012       upol   ženy   \n",
       "3       AJ          Malajsie             6  MUDr.      2016       upol   ženy   \n",
       "4       AJ          Malajsie             6  MUDr.      2013       upol   ženy   \n",
       "\n",
       "  relevance_date  graduated  year_of_study  birth_date  age_end  age_now  \n",
       "0     2021-09-12       True            NaN        1992       25       30  \n",
       "1     2021-09-12       True            NaN        1988       25       34  \n",
       "2     2021-09-12       True            NaN        1986       26       36  \n",
       "3     2021-09-12       True            NaN        1992       24       30  \n",
       "4     2021-09-12       True            NaN        1987       26       35  "
      ]
     },
     "execution_count": 13,
     "metadata": {},
     "output_type": "execute_result"
    }
   ],
   "source": [
    "display(upol_df.shape)\n",
    "display(upol_df[upol_df.graduated].date_end.min())\n",
    "upol_df.head()"
   ]
  },
  {
   "cell_type": "markdown",
   "metadata": {},
   "source": [
    "## 2. Unify and clean datasets"
   ]
  },
  {
   "cell_type": "code",
   "execution_count": 14,
   "metadata": {},
   "outputs": [
    {
     "name": "stdout",
     "output_type": "stream",
     "text": [
      "<class 'pandas.core.frame.DataFrame'>\n",
      "Int64Index: 52219 entries, 0 to 5669\n",
      "Data columns (total 18 columns):\n",
      "age_end              32719 non-null float64\n",
      "age_now              51242 non-null float64\n",
      "age_start            51242 non-null float64\n",
      "birth_date           51242 non-null float64\n",
      "citizenship          19313 non-null object\n",
      "date_end             33696 non-null object\n",
      "date_start           52219 non-null object\n",
      "degree               18026 non-null object\n",
      "gender               5670 non-null object\n",
      "graduated            52219 non-null bool\n",
      "language             5670 non-null object\n",
      "major                52219 non-null object\n",
      "major_number         5670 non-null object\n",
      "permanent_address    5670 non-null object\n",
      "relevance_date       52219 non-null datetime64[ns]\n",
      "study_length         5670 non-null float64\n",
      "university           52219 non-null object\n",
      "year_of_study        21645 non-null float64\n",
      "dtypes: bool(1), datetime64[ns](1), float64(6), object(10)\n",
      "memory usage: 7.2+ MB\n"
     ]
    },
    {
     "data": {
      "text/plain": [
       "None"
      ]
     },
     "metadata": {},
     "output_type": "display_data"
    },
    {
     "data": {
      "text/html": [
       "<div>\n",
       "<style scoped>\n",
       "    .dataframe tbody tr th:only-of-type {\n",
       "        vertical-align: middle;\n",
       "    }\n",
       "\n",
       "    .dataframe tbody tr th {\n",
       "        vertical-align: top;\n",
       "    }\n",
       "\n",
       "    .dataframe thead th {\n",
       "        text-align: right;\n",
       "    }\n",
       "</style>\n",
       "<table border=\"1\" class=\"dataframe\">\n",
       "  <thead>\n",
       "    <tr style=\"text-align: right;\">\n",
       "      <th></th>\n",
       "      <th>age_end</th>\n",
       "      <th>age_now</th>\n",
       "      <th>age_start</th>\n",
       "      <th>birth_date</th>\n",
       "      <th>citizenship</th>\n",
       "      <th>date_end</th>\n",
       "      <th>date_start</th>\n",
       "      <th>degree</th>\n",
       "      <th>gender</th>\n",
       "      <th>graduated</th>\n",
       "      <th>language</th>\n",
       "      <th>major</th>\n",
       "      <th>major_number</th>\n",
       "      <th>permanent_address</th>\n",
       "      <th>relevance_date</th>\n",
       "      <th>study_length</th>\n",
       "      <th>university</th>\n",
       "      <th>year_of_study</th>\n",
       "    </tr>\n",
       "  </thead>\n",
       "  <tbody>\n",
       "    <tr>\n",
       "      <td>0</td>\n",
       "      <td>33.0</td>\n",
       "      <td>40.0</td>\n",
       "      <td>29.0</td>\n",
       "      <td>1982.0</td>\n",
       "      <td>NaN</td>\n",
       "      <td>2015-11-27 00:00:00</td>\n",
       "      <td>2011</td>\n",
       "      <td>NaN</td>\n",
       "      <td>NaN</td>\n",
       "      <td>True</td>\n",
       "      <td>NaN</td>\n",
       "      <td>Fyziologie a patologická fyziologie</td>\n",
       "      <td>NaN</td>\n",
       "      <td>NaN</td>\n",
       "      <td>2021-12-17</td>\n",
       "      <td>NaN</td>\n",
       "      <td>hkuk</td>\n",
       "      <td>NaN</td>\n",
       "    </tr>\n",
       "    <tr>\n",
       "      <td>1</td>\n",
       "      <td>29.0</td>\n",
       "      <td>40.0</td>\n",
       "      <td>23.0</td>\n",
       "      <td>1982.0</td>\n",
       "      <td>NaN</td>\n",
       "      <td>2011-07-14 00:00:00</td>\n",
       "      <td>2005</td>\n",
       "      <td>NaN</td>\n",
       "      <td>NaN</td>\n",
       "      <td>True</td>\n",
       "      <td>NaN</td>\n",
       "      <td>Všeobecné lékařství</td>\n",
       "      <td>NaN</td>\n",
       "      <td>NaN</td>\n",
       "      <td>2021-12-17</td>\n",
       "      <td>NaN</td>\n",
       "      <td>hkuk</td>\n",
       "      <td>NaN</td>\n",
       "    </tr>\n",
       "  </tbody>\n",
       "</table>\n",
       "</div>"
      ],
      "text/plain": [
       "   age_end  age_now  age_start  birth_date citizenship             date_end  \\\n",
       "0     33.0     40.0       29.0      1982.0         NaN  2015-11-27 00:00:00   \n",
       "1     29.0     40.0       23.0      1982.0         NaN  2011-07-14 00:00:00   \n",
       "\n",
       "  date_start degree gender  graduated language  \\\n",
       "0       2011    NaN    NaN       True      NaN   \n",
       "1       2005    NaN    NaN       True      NaN   \n",
       "\n",
       "                                 major major_number permanent_address  \\\n",
       "0  Fyziologie a patologická fyziologie          NaN               NaN   \n",
       "1                  Všeobecné lékařství          NaN               NaN   \n",
       "\n",
       "  relevance_date  study_length university  year_of_study  \n",
       "0     2021-12-17           NaN       hkuk            NaN  \n",
       "1     2021-12-17           NaN       hkuk            NaN  "
      ]
     },
     "execution_count": 14,
     "metadata": {},
     "output_type": "execute_result"
    }
   ],
   "source": [
    "display(general_df.info())\n",
    "general_df.head(2)"
   ]
  },
  {
   "cell_type": "markdown",
   "metadata": {},
   "source": [
    "### 2.1 Filter out irrelevant majors"
   ]
  },
  {
   "cell_type": "code",
   "execution_count": 15,
   "metadata": {},
   "outputs": [],
   "source": [
    "# filter non-Mu/MDDr.\n",
    "# delete non-master programmes\n",
    "general_df = general_df[general_df.degree.isin(['MUDr.', 'MDDr.', 'magisterský', np.NaN])]\n",
    "\n",
    "# parse and re-type dates\n",
    "general_df['date_end'] = (general_df['date_end'].apply(lambda x: str(x)[:4])\n",
    "                                                .replace({'NaT': np.nan})\n",
    "                                                .apply(pd.to_numeric))\n",
    "\n",
    "general_df['date_start'] = (general_df['date_start'].apply(lambda x: str(x)[:4])\n",
    "                                                    .replace({'NaT': np.nan})\n",
    "                                                    .apply(pd.to_numeric))\n",
    "\n",
    "general_df['gender'] = general_df['gender'].replace({'muži':'M',\n",
    "                                                     'ženy':'F'})\n"
   ]
  },
  {
   "cell_type": "code",
   "execution_count": 16,
   "metadata": {},
   "outputs": [],
   "source": [
    "# Relevant majors\n",
    "\n",
    "# pd.DataFrame(general_df['major'].unique()).to_excel(PATH_INTERMEDIATE+'majors.xlsx')\n",
    "\n",
    "majors = pd.read_excel(PATH_INTERMEDIATE+'majors.xlsx', index_col=0)\n",
    "majors = majors[~majors['degree'].isna()]\n",
    "relevant_df = general_df.merge(majors, on='major', suffixes=('', '_tmp'))\n",
    "\n",
    "\n",
    "# replace missing values\n",
    "d_f = (relevant_df.degree.isna() | (relevant_df.degree == 'magisterský'))\n",
    "relevant_df.loc[d_f, 'degree'] = relevant_df[d_f]['degree_tmp']\n",
    "\n",
    "l_f = (relevant_df.language.isna())\n",
    "relevant_df.loc[l_f, 'language'] = relevant_df[l_f]['language_tmp']\n",
    "\n",
    "y_f = (relevant_df.study_length.isna())\n",
    "relevant_df.loc[y_f, 'study_length'] = relevant_df[y_f]['study_length_tmp']\n",
    "\n",
    "relevant_df = relevant_df.drop(columns=[x for x in relevant_df.columns if 'tmp' in x])\n",
    "relevant_df['language'] = relevant_df['language'].replace({'AJ':'EN'})\n",
    "relevant_df['university'] = relevant_df['university'].apply(lambda x: x.upper())"
   ]
  },
  {
   "cell_type": "markdown",
   "metadata": {},
   "source": [
    "### 2.2 Degree duration"
   ]
  },
  {
   "cell_type": "code",
   "execution_count": 17,
   "metadata": {},
   "outputs": [],
   "source": [
    "# how long did it take to achieve the degree\n",
    "relevant_df['years_for_degree'] = np.where(relevant_df['graduated'], relevant_df['date_end'] - relevant_df['date_start'], np.nan)\n",
    "relevant_df['years_extra']  = np.where(relevant_df['degree'] == 'MDDr.', relevant_df['years_for_degree'] - 5, relevant_df['years_for_degree'] - 6)"
   ]
  },
  {
   "cell_type": "markdown",
   "metadata": {},
   "source": [
    "### 2.3 Unify major names"
   ]
  },
  {
   "cell_type": "code",
   "execution_count": 18,
   "metadata": {},
   "outputs": [],
   "source": [
    "mudr_f = relevant_df.major.str.contains('Všeobecné') | relevant_df.major.str.contains('General')\n",
    "relevant_df.loc[mudr_f,'major'] = 'Všeobecné lékařství'\n",
    "mddr_f = relevant_df.major.str.contains('Zubní') | relevant_df.major.str.contains('Denti')\n",
    "relevant_df.loc[mddr_f,'major'] = 'Zubní lékařství'\n",
    "\n",
    "vmudr_f = relevant_df.major.str.contains('všeobecné')\n",
    "relevant_df.loc[vmudr_f,'major'] = 'Vojenské všeobecné lékařství'\n",
    "vmddr_f = relevant_df.major.str.contains('zubní')\n",
    "relevant_df.loc[vmddr_f,'major'] = 'Vojenské zubní lékařství'"
   ]
  },
  {
   "cell_type": "markdown",
   "metadata": {},
   "source": [
    "### 2.4 Countries"
   ]
  },
  {
   "cell_type": "code",
   "execution_count": 19,
   "metadata": {},
   "outputs": [],
   "source": [
    "relevant_df['citizenship'] = relevant_df['citizenship'].apply(country_code)\n",
    "relevant_df['permanent_address'] = relevant_df['permanent_address'].apply(country_code)"
   ]
  },
  {
   "cell_type": "code",
   "execution_count": 20,
   "metadata": {},
   "outputs": [
    {
     "data": {
      "text/plain": [
       "False    23116\n",
       "True     13393\n",
       "Name: dropout, dtype: int64"
      ]
     },
     "metadata": {},
     "output_type": "display_data"
    }
   ],
   "source": [
    "relevant_df['dropout'] = np.where(relevant_df['date_end'].isna(), True, False)\n",
    "display(relevant_df.dropout.value_counts())\n",
    "relevant_df.loc[(relevant_df.age_end < 23) & (relevant_df.years_extra < 0), 'dropout'] = True\n",
    "relevant_df = relevant_df[(relevant_df.years_for_degree >= 0) | (relevant_df.years_for_degree.isna())] # nesmyslne zaznamy"
   ]
  },
  {
   "cell_type": "code",
   "execution_count": 21,
   "metadata": {},
   "outputs": [
    {
     "data": {
      "text/plain": [
       "Index(['age_end', 'age_now', 'age_start', 'birth_date', 'citizenship',\n",
       "       'date_end', 'date_start', 'degree', 'gender', 'graduated', 'language',\n",
       "       'major', 'major_number', 'permanent_address', 'relevance_date',\n",
       "       'study_length', 'university', 'year_of_study', 'years_for_degree',\n",
       "       'years_extra', 'dropout'],\n",
       "      dtype='object')"
      ]
     },
     "metadata": {},
     "output_type": "display_data"
    },
    {
     "data": {
      "text/plain": [
       "(36497, 36497)"
      ]
     },
     "execution_count": 21,
     "metadata": {},
     "output_type": "execute_result"
    }
   ],
   "source": [
    "display(relevant_df.columns)\n",
    "sum(relevant_df.years_for_degree.value_counts()) + relevant_df[relevant_df.years_for_degree.isna()].shape[0], relevant_df.shape[0] "
   ]
  },
  {
   "cell_type": "markdown",
   "metadata": {},
   "source": [
    "## 3. Save dataset"
   ]
  },
  {
   "cell_type": "code",
   "execution_count": 22,
   "metadata": {},
   "outputs": [
    {
     "data": {
      "text/plain": [
       "(36497, 21)"
      ]
     },
     "metadata": {},
     "output_type": "display_data"
    },
    {
     "data": {
      "text/html": [
       "<div>\n",
       "<style scoped>\n",
       "    .dataframe tbody tr th:only-of-type {\n",
       "        vertical-align: middle;\n",
       "    }\n",
       "\n",
       "    .dataframe tbody tr th {\n",
       "        vertical-align: top;\n",
       "    }\n",
       "\n",
       "    .dataframe thead th {\n",
       "        text-align: right;\n",
       "    }\n",
       "</style>\n",
       "<table border=\"1\" class=\"dataframe\">\n",
       "  <thead>\n",
       "    <tr style=\"text-align: right;\">\n",
       "      <th></th>\n",
       "      <th>age_end</th>\n",
       "      <th>age_now</th>\n",
       "      <th>age_start</th>\n",
       "      <th>birth_date</th>\n",
       "      <th>citizenship</th>\n",
       "      <th>date_end</th>\n",
       "      <th>date_start</th>\n",
       "      <th>degree</th>\n",
       "      <th>gender</th>\n",
       "      <th>graduated</th>\n",
       "      <th>...</th>\n",
       "      <th>major</th>\n",
       "      <th>major_number</th>\n",
       "      <th>permanent_address</th>\n",
       "      <th>relevance_date</th>\n",
       "      <th>study_length</th>\n",
       "      <th>university</th>\n",
       "      <th>year_of_study</th>\n",
       "      <th>years_for_degree</th>\n",
       "      <th>years_extra</th>\n",
       "      <th>dropout</th>\n",
       "    </tr>\n",
       "  </thead>\n",
       "  <tbody>\n",
       "    <tr>\n",
       "      <td>0</td>\n",
       "      <td>29.0</td>\n",
       "      <td>40.0</td>\n",
       "      <td>23.0</td>\n",
       "      <td>1982.0</td>\n",
       "      <td>None</td>\n",
       "      <td>2011.0</td>\n",
       "      <td>2005</td>\n",
       "      <td>MUDr.</td>\n",
       "      <td>NaN</td>\n",
       "      <td>True</td>\n",
       "      <td>...</td>\n",
       "      <td>Všeobecné lékařství</td>\n",
       "      <td>NaN</td>\n",
       "      <td>None</td>\n",
       "      <td>2021-12-17</td>\n",
       "      <td>6.0</td>\n",
       "      <td>HKUK</td>\n",
       "      <td>NaN</td>\n",
       "      <td>6.0</td>\n",
       "      <td>0.0</td>\n",
       "      <td>False</td>\n",
       "    </tr>\n",
       "    <tr>\n",
       "      <td>1</td>\n",
       "      <td>25.0</td>\n",
       "      <td>32.0</td>\n",
       "      <td>19.0</td>\n",
       "      <td>1990.0</td>\n",
       "      <td>None</td>\n",
       "      <td>2015.0</td>\n",
       "      <td>2009</td>\n",
       "      <td>MUDr.</td>\n",
       "      <td>NaN</td>\n",
       "      <td>True</td>\n",
       "      <td>...</td>\n",
       "      <td>Všeobecné lékařství</td>\n",
       "      <td>NaN</td>\n",
       "      <td>None</td>\n",
       "      <td>2021-12-17</td>\n",
       "      <td>6.0</td>\n",
       "      <td>HKUK</td>\n",
       "      <td>NaN</td>\n",
       "      <td>6.0</td>\n",
       "      <td>0.0</td>\n",
       "      <td>False</td>\n",
       "    </tr>\n",
       "    <tr>\n",
       "      <td>2</td>\n",
       "      <td>25.0</td>\n",
       "      <td>35.0</td>\n",
       "      <td>19.0</td>\n",
       "      <td>1987.0</td>\n",
       "      <td>None</td>\n",
       "      <td>2012.0</td>\n",
       "      <td>2006</td>\n",
       "      <td>MUDr.</td>\n",
       "      <td>NaN</td>\n",
       "      <td>True</td>\n",
       "      <td>...</td>\n",
       "      <td>Všeobecné lékařství</td>\n",
       "      <td>NaN</td>\n",
       "      <td>None</td>\n",
       "      <td>2021-12-17</td>\n",
       "      <td>6.0</td>\n",
       "      <td>HKUK</td>\n",
       "      <td>NaN</td>\n",
       "      <td>6.0</td>\n",
       "      <td>0.0</td>\n",
       "      <td>False</td>\n",
       "    </tr>\n",
       "    <tr>\n",
       "      <td>3</td>\n",
       "      <td>29.0</td>\n",
       "      <td>40.0</td>\n",
       "      <td>23.0</td>\n",
       "      <td>1982.0</td>\n",
       "      <td>None</td>\n",
       "      <td>2011.0</td>\n",
       "      <td>2005</td>\n",
       "      <td>MUDr.</td>\n",
       "      <td>NaN</td>\n",
       "      <td>True</td>\n",
       "      <td>...</td>\n",
       "      <td>Všeobecné lékařství</td>\n",
       "      <td>NaN</td>\n",
       "      <td>None</td>\n",
       "      <td>2021-12-17</td>\n",
       "      <td>6.0</td>\n",
       "      <td>HKUK</td>\n",
       "      <td>NaN</td>\n",
       "      <td>6.0</td>\n",
       "      <td>0.0</td>\n",
       "      <td>False</td>\n",
       "    </tr>\n",
       "    <tr>\n",
       "      <td>4</td>\n",
       "      <td>29.0</td>\n",
       "      <td>37.0</td>\n",
       "      <td>23.0</td>\n",
       "      <td>1985.0</td>\n",
       "      <td>None</td>\n",
       "      <td>2014.0</td>\n",
       "      <td>2008</td>\n",
       "      <td>MUDr.</td>\n",
       "      <td>NaN</td>\n",
       "      <td>True</td>\n",
       "      <td>...</td>\n",
       "      <td>Všeobecné lékařství</td>\n",
       "      <td>NaN</td>\n",
       "      <td>None</td>\n",
       "      <td>2021-12-17</td>\n",
       "      <td>6.0</td>\n",
       "      <td>HKUK</td>\n",
       "      <td>NaN</td>\n",
       "      <td>6.0</td>\n",
       "      <td>0.0</td>\n",
       "      <td>False</td>\n",
       "    </tr>\n",
       "  </tbody>\n",
       "</table>\n",
       "<p>5 rows × 21 columns</p>\n",
       "</div>"
      ],
      "text/plain": [
       "   age_end  age_now  age_start  birth_date citizenship  date_end  date_start  \\\n",
       "0     29.0     40.0       23.0      1982.0        None    2011.0        2005   \n",
       "1     25.0     32.0       19.0      1990.0        None    2015.0        2009   \n",
       "2     25.0     35.0       19.0      1987.0        None    2012.0        2006   \n",
       "3     29.0     40.0       23.0      1982.0        None    2011.0        2005   \n",
       "4     29.0     37.0       23.0      1985.0        None    2014.0        2008   \n",
       "\n",
       "  degree gender  graduated  ...                major major_number  \\\n",
       "0  MUDr.    NaN       True  ...  Všeobecné lékařství          NaN   \n",
       "1  MUDr.    NaN       True  ...  Všeobecné lékařství          NaN   \n",
       "2  MUDr.    NaN       True  ...  Všeobecné lékařství          NaN   \n",
       "3  MUDr.    NaN       True  ...  Všeobecné lékařství          NaN   \n",
       "4  MUDr.    NaN       True  ...  Všeobecné lékařství          NaN   \n",
       "\n",
       "  permanent_address relevance_date study_length  university year_of_study  \\\n",
       "0              None     2021-12-17          6.0        HKUK           NaN   \n",
       "1              None     2021-12-17          6.0        HKUK           NaN   \n",
       "2              None     2021-12-17          6.0        HKUK           NaN   \n",
       "3              None     2021-12-17          6.0        HKUK           NaN   \n",
       "4              None     2021-12-17          6.0        HKUK           NaN   \n",
       "\n",
       "   years_for_degree  years_extra  dropout  \n",
       "0               6.0          0.0    False  \n",
       "1               6.0          0.0    False  \n",
       "2               6.0          0.0    False  \n",
       "3               6.0          0.0    False  \n",
       "4               6.0          0.0    False  \n",
       "\n",
       "[5 rows x 21 columns]"
      ]
     },
     "execution_count": 22,
     "metadata": {},
     "output_type": "execute_result"
    }
   ],
   "source": [
    "# save processed data\n",
    "relevant_df.to_csv(PATH_INTERMEDIATE+'students.csv')\n",
    "display(relevant_df.shape)\n",
    "relevant_df.head()"
   ]
  },
  {
   "cell_type": "code",
   "execution_count": 3,
   "metadata": {},
   "outputs": [],
   "source": [
    "relevant_df = pd.read_csv(PATH_INTERMEDIATE+'students.csv', index_col=0)"
   ]
  },
  {
   "cell_type": "code",
   "execution_count": 43,
   "metadata": {},
   "outputs": [
    {
     "data": {
      "image/png": "[encoded data removed]",
      "text/plain": [
       "<Figure size 1000x600 with 1 Axes>"
      ]
     },
     "metadata": {},
     "output_type": "display_data"
    }
   ],
   "source": [
    "\n",
    "import matplotlib.pyplot as plt\n",
    "fig, ax = plt.subplots(figsize=(10,6))\n",
    "\n",
    "\n",
    "x = relevant_df[relevant_df.graduated==True].groupby(['major', 'date_end']).mean()['age_end'].reset_index()\n",
    "\n",
    "for major in x.major.unique():\n",
    "    y = x[x.major == major]\n",
    "    ax = y.plot(ax=ax, x='date_end', y='age_end',label=major)\n",
    "\n",
    "plt.legend(loc='best')\n",
    "plt.ylabel('avg_age')\n",
    "plt.show()"
   ]
  },
  {
   "cell_type": "code",
   "execution_count": null,
   "metadata": {},
   "outputs": [],
   "source": []
  }
 ],
 "metadata": {
  "kernelspec": {
   "display_name": "Python 3.7.4 64-bit ('vzd')",
   "language": "python",
   "name": "python3"
  },
  "language_info": {
   "codemirror_mode": {
    "name": "ipython",
    "version": 3
   },
   "file_extension": ".py",
   "mimetype": "text/x-python",
   "name": "python",
   "nbconvert_exporter": "python",
   "pygments_lexer": "ipython3",
   "version": "3.7.4"
  },
  "vscode": {
   "interpreter": {
    "hash": "f08ea57a3b14e8972cb95441d2d329063d79c5206768d2acc286d89f92e5e608"
   }
  }
 },
 "nbformat": 4,
 "nbformat_minor": 4
}
