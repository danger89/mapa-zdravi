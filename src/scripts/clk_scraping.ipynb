{
 "cells": [
  {
   "cell_type": "markdown",
   "metadata": {},
   "source": [
    "# ČLK scraping\n",
    "The aim of this notebook is to scrap data from [ČLK](https://www.lkcr.cz/seznam-lekaru-426.html) website to obtain current data about doctors in Czech republic "
   ]
  },
  {
   "cell_type": "code",
   "execution_count": 2,
   "metadata": {},
   "outputs": [],
   "source": [
    "download = False"
   ]
  },
  {
   "cell_type": "code",
   "execution_count": 3,
   "metadata": {},
   "outputs": [],
   "source": [
    "\n",
    "from selenium import webdriver\n",
    "from selenium.webdriver.common.keys import Keys\n",
    "from selenium.webdriver.common.by import By\n",
    "from selenium.webdriver.support.ui import WebDriverWait, Select\n",
    "from selenium.webdriver.support import expected_conditions as EC\n",
    "\n",
    "import time\n",
    "import pandas as pd\n",
    "import numpy as np\n",
    "import re\n",
    "import json\n",
    "import warnings\n",
    "warnings.filterwarnings('ignore')\n"
   ]
  },
  {
   "cell_type": "code",
   "execution_count": 4,
   "metadata": {},
   "outputs": [],
   "source": [
    "PATH_CHROME = '/home/gary/Apps/chromedriver'\n",
    "PATH_DATA = '../../data/intermediate/'"
   ]
  },
  {
   "cell_type": "markdown",
   "metadata": {},
   "source": [
    "## Get fields and districts\n",
    "Retrieve all field and districts available on the website"
   ]
  },
  {
   "cell_type": "code",
   "execution_count": 5,
   "metadata": {},
   "outputs": [],
   "source": [
    "def get_fields_districts_dicts():\n",
    "    driver = webdriver.Chrome(PATH_CHROME)\n",
    "    driver.get('https://www.lkcr.cz/seznam-lekaru-426.html#seznam')\n",
    "\n",
    "    ## dict of fields - name:value\n",
    "    d_fields = dict()\n",
    "\n",
    "    filterObor = driver.find_element_by_name('filterObor')\n",
    "    options = [x for x in filterObor.find_elements_by_tag_name(\"option\")]\n",
    "\n",
    "    for element in options:\n",
    "        if element.text:\n",
    "            d_fields[element.text] = element.get_attribute(\"value\")\n",
    "\n",
    "    ## dict of districts - name:value\n",
    "    d_districts = dict()\n",
    "\n",
    "    filterOkresId = driver.find_elements_by_name('filterOkresId')[-1]\n",
    "\n",
    "    options = [x for x in filterOkresId.find_elements_by_tag_name(\"option\")]\n",
    "\n",
    "    for element in options:\n",
    "        if element.text:\n",
    "            d_districts[element.text] = element.get_attribute(\"value\")\n",
    "\n",
    "    driver.close()\n",
    "    \n",
    "    np.save(PATH_DATA+'dict_districts.npy', d_districts) \n",
    "    np.save(PATH_DATA+'dict_fields.npy', d_fields) \n",
    "    return d_fields, d_districts"
   ]
  },
  {
   "cell_type": "code",
   "execution_count": 6,
   "metadata": {},
   "outputs": [],
   "source": [
    "if download:\n",
    "    d_fields, d_districts = get_fields_districts_dicts()\n",
    "else:\n",
    "    d_districts = np.load(PATH_DATA+'dict_districts.npy',allow_pickle='TRUE').item()\n",
    "    d_fields = np.load(PATH_DATA+'dict_fields.npy',allow_pickle='TRUE').item()"
   ]
  },
  {
   "cell_type": "markdown",
   "metadata": {},
   "source": [
    "## Authentication"
   ]
  },
  {
   "cell_type": "code",
   "execution_count": 7,
   "metadata": {},
   "outputs": [],
   "source": [
    "# TODO necessary?"
   ]
  },
  {
   "cell_type": "markdown",
   "metadata": {},
   "source": [
    "## Get links"
   ]
  },
  {
   "cell_type": "code",
   "execution_count": 15,
   "metadata": {},
   "outputs": [],
   "source": [
    "driver = webdriver.Chrome(PATH_CHROME)\n",
    "\n",
    "### \n",
    "# DOWNLOAD PART\n",
    "###\n",
    "\n",
    "driver.get('https://www.lkcr.cz/seznam-lekaru-426.html#seznam')\n",
    "\n",
    "## TEST CASE\n",
    "# search = driver.find_element_by_name('filterPrijmeni')\n",
    "# search.send_keys('%')\n",
    "# search.send_keys(Keys.RETURN)\n",
    "\n",
    "\n",
    "links = [] # links to doctor's detail info\n",
    "l_info = [] # general info about doctors\n",
    "\n",
    "try:\n",
    "    # iterate over districts\n",
    "    for district_name, district_id in d_districts.items():\n",
    "        # iterate over fields\n",
    "        for field_name, field_id in d_fields.items():\n",
    "\n",
    "            # select field of medicine\n",
    "            select = driver.find_element_by_name('filterObor')\n",
    "            select_f = Select(select)\n",
    "            # helps to avoid captcha?\n",
    "            select_f.options\n",
    "            select_f.select_by_value(field_id)\n",
    "            time.sleep(1)\n",
    "\n",
    "\n",
    "            # select district\n",
    "            select = driver.find_elements_by_name('filterOkresId')[-1]\n",
    "            select_d = Select(select)\n",
    "            # helps to avoid captcha?\n",
    "            select_d.options\n",
    "            select_d.select_by_value(district_id)\n",
    "            time.sleep(1)\n",
    "\n",
    "            # \"press the button\" - confirm chosen options and search\n",
    "            search = driver.find_element_by_name('filterPrijmeni')\n",
    "            search.send_keys(Keys.RETURN)\n",
    "            time.sleep(5)\n",
    "\n",
    "            # page counter\n",
    "            counter = 0\n",
    "            while True: \n",
    "                # TODO vylepsit, konci na 10 strance\n",
    "                # stopping criterion\n",
    "                next_page_text = f'{counter*20+1}-{counter*20+20}'\n",
    "                if not next_page_text in driver.page_source and not 'Další >>' in driver.page_source:\n",
    "                    break\n",
    "\n",
    "                driver.get(f'https://www.lkcr.cz/seznam-lekaru-426.html?paging.pageNo={counter}')\n",
    "                main = WebDriverWait(driver, 10).until(\n",
    "                    EC.presence_of_element_located((By.CLASS_NAME, \"main\"))\n",
    "                )\n",
    "                seznam2 = main.find_element(by=By.CLASS_NAME, value='seznam2')\n",
    "\n",
    "                # get all links from the page\n",
    "                for x in seznam2.find_elements_by_css_selector('a')[::2]:\n",
    "                    links.append(x.get_property('attributes')[0]['value'])\n",
    "\n",
    "                # parse table\n",
    "                l_doctors = [re.split('\\s\\s+', x.lstrip().rstrip()) for x in seznam2.text.split('\\n')]\n",
    "                l_doctors = [[i for i in l if i != 'DETAIL'] for l in l_doctors]\n",
    "\n",
    "                for l in l_doctors[1:]:\n",
    "                    # add new workplace (doctor has more than one)\n",
    "                    if len(l) == 1:\n",
    "                        if isinstance(l_info[-1][-1], list):\n",
    "                            l_info[-1][-1] += l\n",
    "                        else:\n",
    "                            l_info[-1][-1] = [l_info[-1][-1], *l]\n",
    "                    # only one workplace\n",
    "                    else:\n",
    "                        l_info.append(l)\n",
    "\n",
    "                # next page\n",
    "                counter += 1\n",
    "\n",
    "            # Append correct link to records\n",
    "            for i, l in enumerate(l_info):\n",
    "                l_info[i].append(links[i])\n",
    "                l_info[i].append(district_name)\n",
    "                l_info[i].append(field_name)\n",
    "    \n",
    "    # helps to avoid captcha?    \n",
    "    time.sleep(5)\n",
    "\n",
    "finally:\n",
    "#     pass\n",
    "    driver.close()\n"
   ]
  },
  {
   "cell_type": "markdown",
   "metadata": {},
   "source": [
    "## Scrap obtained links"
   ]
  },
  {
   "cell_type": "code",
   "execution_count": 21,
   "metadata": {},
   "outputs": [
    {
     "data": {
      "text/html": [
       "<div>\n",
       "<style scoped>\n",
       "    .dataframe tbody tr th:only-of-type {\n",
       "        vertical-align: middle;\n",
       "    }\n",
       "\n",
       "    .dataframe tbody tr th {\n",
       "        vertical-align: top;\n",
       "    }\n",
       "\n",
       "    .dataframe thead th {\n",
       "        text-align: right;\n",
       "    }\n",
       "</style>\n",
       "<table border=\"1\" class=\"dataframe\">\n",
       "  <thead>\n",
       "    <tr style=\"text-align: right;\">\n",
       "      <th></th>\n",
       "      <th>name</th>\n",
       "      <th>workplace</th>\n",
       "      <th>url</th>\n",
       "      <th>district</th>\n",
       "      <th>field</th>\n",
       "    </tr>\n",
       "  </thead>\n",
       "  <tbody>\n",
       "    <tr>\n",
       "      <td>0</td>\n",
       "      <td>Ahmed Abdalhafez</td>\n",
       "      <td>Nymburk 2</td>\n",
       "      <td>https://www.lkcr.cz/seznam-lekaru-426.html?fil...</td>\n",
       "      <td>Benešov</td>\n",
       "      <td>dětská dermatovenerologie</td>\n",
       "    </tr>\n",
       "    <tr>\n",
       "      <td>1</td>\n",
       "      <td>MUDr. Abdallah Abdallah</td>\n",
       "      <td>neuvedena</td>\n",
       "      <td>https://www.lkcr.cz/seznam-lekaru-426.html?fil...</td>\n",
       "      <td>Benešov</td>\n",
       "      <td>dětská dermatovenerologie</td>\n",
       "    </tr>\n",
       "    <tr>\n",
       "      <td>2</td>\n",
       "      <td>MUDr. Ismaeel Abedelrahman Ragheb Abdelaziz</td>\n",
       "      <td>neuvedena</td>\n",
       "      <td>https://www.lkcr.cz/seznam-lekaru-426.html?fil...</td>\n",
       "      <td>Benešov</td>\n",
       "      <td>dětská dermatovenerologie</td>\n",
       "    </tr>\n",
       "    <tr>\n",
       "      <td>3</td>\n",
       "      <td>MUDr. Adel Abdulghani</td>\n",
       "      <td>Duchcov</td>\n",
       "      <td>https://www.lkcr.cz/seznam-lekaru-426.html?fil...</td>\n",
       "      <td>Benešov</td>\n",
       "      <td>dětská dermatovenerologie</td>\n",
       "    </tr>\n",
       "    <tr>\n",
       "      <td>4</td>\n",
       "      <td>MUDr. Hamza Abduljabar</td>\n",
       "      <td>Turnov 1</td>\n",
       "      <td>https://www.lkcr.cz/seznam-lekaru-426.html?fil...</td>\n",
       "      <td>Benešov</td>\n",
       "      <td>dětská dermatovenerologie</td>\n",
       "    </tr>\n",
       "  </tbody>\n",
       "</table>\n",
       "</div>"
      ],
      "text/plain": [
       "                                          name  workplace  \\\n",
       "0                             Ahmed Abdalhafez  Nymburk 2   \n",
       "1                      MUDr. Abdallah Abdallah  neuvedena   \n",
       "2  MUDr. Ismaeel Abedelrahman Ragheb Abdelaziz  neuvedena   \n",
       "3                        MUDr. Adel Abdulghani    Duchcov   \n",
       "4                       MUDr. Hamza Abduljabar   Turnov 1   \n",
       "\n",
       "                                                 url district  \\\n",
       "0  https://www.lkcr.cz/seznam-lekaru-426.html?fil...  Benešov   \n",
       "1  https://www.lkcr.cz/seznam-lekaru-426.html?fil...  Benešov   \n",
       "2  https://www.lkcr.cz/seznam-lekaru-426.html?fil...  Benešov   \n",
       "3  https://www.lkcr.cz/seznam-lekaru-426.html?fil...  Benešov   \n",
       "4  https://www.lkcr.cz/seznam-lekaru-426.html?fil...  Benešov   \n",
       "\n",
       "                       field  \n",
       "0  dětská dermatovenerologie  \n",
       "1  dětská dermatovenerologie  \n",
       "2  dětská dermatovenerologie  \n",
       "3  dětská dermatovenerologie  \n",
       "4  dětská dermatovenerologie  "
      ]
     },
     "execution_count": 21,
     "metadata": {},
     "output_type": "execute_result"
    }
   ],
   "source": [
    "# TODO \n",
    "doctors = pd.DataFrame(l_info, columns=['name', 'workplace', 'url', 'district', 'field'])\n",
    "doctors['url'] = 'https://www.lkcr.cz' + doctors['url']\n",
    "doctors.head()"
   ]
  },
  {
   "cell_type": "code",
   "execution_count": 128,
   "metadata": {},
   "outputs": [],
   "source": [
    "def parse_doctor_tables(tables):\n",
    "    d_detail = dict()\n",
    "    for l in tables:\n",
    "        table = l.find_elements_by_css_selector('tr')\n",
    "        d_table = dict()\n",
    "\n",
    "        if '*' in table[0].text:\n",
    "            continue\n",
    "\n",
    "        for row in table[1:]:\n",
    "\n",
    "            if '*' in row. text:\n",
    "                continue\n",
    "            info = [x.strip() for x in row.text.split(\":\")]\n",
    "\n",
    "            # append new value for key from last cycle (eg if a doctor has more than one field)\n",
    "            if len(info) == 1:\n",
    "                last_values = d_table[last_key]\n",
    "                d_table[last_key] = last_values + info\n",
    "\n",
    "            # save to the dict\n",
    "            else:\n",
    "                last_key = info[0]\n",
    "                d_table[last_key] = info[1:]\n",
    "\n",
    "        # if dict d_table is not empty\n",
    "        if d_table:\n",
    "            for x, y in d_table.items():\n",
    "                if len(y) == 1:\n",
    "                    d_table[x] = y[0]\n",
    "\n",
    "            key = table[0].text if table[0].text else 'INFORMACE'\n",
    "            key = 'PRACOVIŠTĚ' if 'PRACOVIŠTĚ' in key else key\n",
    "            \n",
    "            if key in d_detail:\n",
    "                val = d_detail[key]\n",
    "                if isinstance(val, list):\n",
    "                    d_detail[key] = val.append(d_table)\n",
    "                else:\n",
    "                    d_detail[key] = [val, d_table]\n",
    "            else:\n",
    "                d_detail[key] = d_table\n",
    "\n",
    "    return d_detail\n",
    "\n"
   ]
  },
  {
   "cell_type": "code",
   "execution_count": 129,
   "metadata": {},
   "outputs": [
    {
     "data": {
      "text/plain": [
       "dict_keys(['INFORMACE', 'PLATNÉ LICENCE UDĚLENÉ ČESKOU LÉKAŘSKOU KOMOROU', 'PRACOVIŠTĚ  1/2', 'PRACOVIŠTĚ  2/2', 'JMÉNO', 'ČÍSLO'])"
      ]
     },
     "execution_count": 129,
     "metadata": {},
     "output_type": "execute_result"
    }
   ],
   "source": [
    "d_detail.keys()"
   ]
  },
  {
   "cell_type": "code",
   "execution_count": 150,
   "metadata": {},
   "outputs": [],
   "source": [
    "import json\n",
    "def save_dict_to_json(d, name):\n",
    "    with open(PATH_DATA + name + '.json', \"w\") as outfile:\n",
    "        json.dump(d, outfile)"
   ]
  },
  {
   "cell_type": "code",
   "execution_count": 131,
   "metadata": {},
   "outputs": [],
   "source": [
    "def get_doctor_detail(url):\n",
    "    '''\n",
    "        Return detail info about doctors.\n",
    "        Input: CLK url \n",
    "    '''\n",
    "    try:\n",
    "        driver = webdriver.Chrome(PATH_CHROME)\n",
    "        driver.get(url)\n",
    "\n",
    "        # load main content\n",
    "        main = WebDriverWait(driver, 10).until(\n",
    "            EC.presence_of_element_located((By.CLASS_NAME, \"main\"))\n",
    "        )\n",
    "\n",
    "        # basic info\n",
    "        tables = main.find_elements(by=By.CLASS_NAME, value='seznam')\n",
    "        d_detail = parse_doctor_tables(tables)\n",
    "\n",
    "        # name\n",
    "        name = main.find_element(by=By.CLASS_NAME, value='akt_nadpis').text\n",
    "        d_detail['JMÉNO'] = name\n",
    "        # evidence number\n",
    "        number = main.find_element(by=By.CLASS_NAME, value='evcislo').text\n",
    "        d_detail['ČÍSLO'] = re.sub('[^0-9]','', number)\n",
    "\n",
    "    finally:\n",
    "        driver.close()\n",
    "\n",
    "        return d_detail \n"
   ]
  },
  {
   "cell_type": "code",
   "execution_count": 146,
   "metadata": {
    "collapsed": true,
    "jupyter": {
     "outputs_hidden": true
    }
   },
   "outputs": [
    {
     "ename": "UnboundLocalError",
     "evalue": "local variable 'd_detail' referenced before assignment",
     "output_type": "error",
     "traceback": [
      "\u001b[0;31m---------------------------------------------------------------------------\u001b[0m",
      "\u001b[0;31mWebDriverException\u001b[0m                        Traceback (most recent call last)",
      "\u001b[0;32m<ipython-input-131-4216cb678084>\u001b[0m in \u001b[0;36mget_doctor_detail\u001b[0;34m(url)\u001b[0m\n\u001b[1;32m      6\u001b[0m         \u001b[0mdriver\u001b[0m \u001b[0;34m=\u001b[0m \u001b[0mwebdriver\u001b[0m\u001b[0;34m.\u001b[0m\u001b[0mChrome\u001b[0m\u001b[0;34m(\u001b[0m\u001b[0mPATH_CHROME\u001b[0m\u001b[0;34m)\u001b[0m\u001b[0;34m\u001b[0m\u001b[0;34m\u001b[0m\u001b[0m\n\u001b[0;32m----> 7\u001b[0;31m         \u001b[0mdriver\u001b[0m\u001b[0;34m.\u001b[0m\u001b[0mget\u001b[0m\u001b[0;34m(\u001b[0m\u001b[0murl\u001b[0m\u001b[0;34m)\u001b[0m\u001b[0;34m\u001b[0m\u001b[0;34m\u001b[0m\u001b[0m\n\u001b[0m\u001b[1;32m      8\u001b[0m \u001b[0;34m\u001b[0m\u001b[0m\n",
      "\u001b[0;32m~/Apps/miniconda3/envs/vzd/lib/python3.7/site-packages/selenium/webdriver/remote/webdriver.py\u001b[0m in \u001b[0;36mget\u001b[0;34m(self, url)\u001b[0m\n\u001b[1;32m    435\u001b[0m         \"\"\"\n\u001b[0;32m--> 436\u001b[0;31m         \u001b[0mself\u001b[0m\u001b[0;34m.\u001b[0m\u001b[0mexecute\u001b[0m\u001b[0;34m(\u001b[0m\u001b[0mCommand\u001b[0m\u001b[0;34m.\u001b[0m\u001b[0mGET\u001b[0m\u001b[0;34m,\u001b[0m \u001b[0;34m{\u001b[0m\u001b[0;34m'url'\u001b[0m\u001b[0;34m:\u001b[0m \u001b[0murl\u001b[0m\u001b[0;34m}\u001b[0m\u001b[0;34m)\u001b[0m\u001b[0;34m\u001b[0m\u001b[0;34m\u001b[0m\u001b[0m\n\u001b[0m\u001b[1;32m    437\u001b[0m \u001b[0;34m\u001b[0m\u001b[0m\n",
      "\u001b[0;32m~/Apps/miniconda3/envs/vzd/lib/python3.7/site-packages/selenium/webdriver/remote/webdriver.py\u001b[0m in \u001b[0;36mexecute\u001b[0;34m(self, driver_command, params)\u001b[0m\n\u001b[1;32m    423\u001b[0m         \u001b[0;32mif\u001b[0m \u001b[0mresponse\u001b[0m\u001b[0;34m:\u001b[0m\u001b[0;34m\u001b[0m\u001b[0;34m\u001b[0m\u001b[0m\n\u001b[0;32m--> 424\u001b[0;31m             \u001b[0mself\u001b[0m\u001b[0;34m.\u001b[0m\u001b[0merror_handler\u001b[0m\u001b[0;34m.\u001b[0m\u001b[0mcheck_response\u001b[0m\u001b[0;34m(\u001b[0m\u001b[0mresponse\u001b[0m\u001b[0;34m)\u001b[0m\u001b[0;34m\u001b[0m\u001b[0;34m\u001b[0m\u001b[0m\n\u001b[0m\u001b[1;32m    425\u001b[0m             response['value'] = self._unwrap_value(\n",
      "\u001b[0;32m~/Apps/miniconda3/envs/vzd/lib/python3.7/site-packages/selenium/webdriver/remote/errorhandler.py\u001b[0m in \u001b[0;36mcheck_response\u001b[0;34m(self, response)\u001b[0m\n\u001b[1;32m    246\u001b[0m             \u001b[0;32mraise\u001b[0m \u001b[0mexception_class\u001b[0m\u001b[0;34m(\u001b[0m\u001b[0mmessage\u001b[0m\u001b[0;34m,\u001b[0m \u001b[0mscreen\u001b[0m\u001b[0;34m,\u001b[0m \u001b[0mstacktrace\u001b[0m\u001b[0;34m,\u001b[0m \u001b[0malert_text\u001b[0m\u001b[0;34m)\u001b[0m  \u001b[0;31m# type: ignore[call-arg]  # mypy is not smart enough here\u001b[0m\u001b[0;34m\u001b[0m\u001b[0;34m\u001b[0m\u001b[0m\n\u001b[0;32m--> 247\u001b[0;31m         \u001b[0;32mraise\u001b[0m \u001b[0mexception_class\u001b[0m\u001b[0;34m(\u001b[0m\u001b[0mmessage\u001b[0m\u001b[0;34m,\u001b[0m \u001b[0mscreen\u001b[0m\u001b[0;34m,\u001b[0m \u001b[0mstacktrace\u001b[0m\u001b[0;34m)\u001b[0m\u001b[0;34m\u001b[0m\u001b[0;34m\u001b[0m\u001b[0m\n\u001b[0m\u001b[1;32m    248\u001b[0m \u001b[0;34m\u001b[0m\u001b[0m\n",
      "\u001b[0;31mWebDriverException\u001b[0m: Message: unknown error: net::ERR_INTERNET_DISCONNECTED\n  (Session info: chrome=96.0.4664.110)\nStacktrace:\n#0 0x55e1e941dee3 <unknown>\n#1 0x55e1e8eeb608 <unknown>\n#2 0x55e1e8ee5a4d <unknown>\n#3 0x55e1e8ed7756 <unknown>\n#4 0x55e1e8ed8673 <unknown>\n#5 0x55e1e8ed7a22 <unknown>\n#6 0x55e1e8ed6f35 <unknown>\n#7 0x55e1e8ed5d43 <unknown>\n#8 0x55e1e8ed6093 <unknown>\n#9 0x55e1e8eecfca <unknown>\n#10 0x55e1e8f52c1f <unknown>\n#11 0x55e1e8f3f272 <unknown>\n#12 0x55e1e8f523bc <unknown>\n#13 0x55e1e8f3f163 <unknown>\n#14 0x55e1e8f14bfc <unknown>\n#15 0x55e1e8f15c05 <unknown>\n#16 0x55e1e944fbaa <unknown>\n#17 0x55e1e9465651 <unknown>\n#18 0x55e1e9450b05 <unknown>\n#19 0x55e1e9466a68 <unknown>\n#20 0x55e1e944505f <unknown>\n#21 0x55e1e9481818 <unknown>\n#22 0x55e1e9481998 <unknown>\n#23 0x55e1e949ceed <unknown>\n#24 0x7f14866f0609 <unknown>\n",
      "\nDuring handling of the above exception, another exception occurred:\n",
      "\u001b[0;31mUnboundLocalError\u001b[0m                         Traceback (most recent call last)",
      "\u001b[0;32m<ipython-input-146-f37cb721d1fd>\u001b[0m in \u001b[0;36m<module>\u001b[0;34m\u001b[0m\n\u001b[1;32m      1\u001b[0m \u001b[0ml_doctors\u001b[0m \u001b[0;34m=\u001b[0m \u001b[0;34m[\u001b[0m\u001b[0;34m]\u001b[0m\u001b[0;34m\u001b[0m\u001b[0;34m\u001b[0m\u001b[0m\n\u001b[1;32m      2\u001b[0m \u001b[0;32mfor\u001b[0m \u001b[0murl\u001b[0m \u001b[0;32min\u001b[0m \u001b[0mdoctors\u001b[0m\u001b[0;34m.\u001b[0m\u001b[0murl\u001b[0m\u001b[0;34m.\u001b[0m\u001b[0munique\u001b[0m\u001b[0;34m(\u001b[0m\u001b[0;34m)\u001b[0m\u001b[0;34m:\u001b[0m\u001b[0;34m\u001b[0m\u001b[0;34m\u001b[0m\u001b[0m\n\u001b[0;32m----> 3\u001b[0;31m     \u001b[0md_detail\u001b[0m \u001b[0;34m=\u001b[0m \u001b[0mget_doctor_detail\u001b[0m\u001b[0;34m(\u001b[0m\u001b[0murl\u001b[0m\u001b[0;34m)\u001b[0m\u001b[0;34m\u001b[0m\u001b[0;34m\u001b[0m\u001b[0m\n\u001b[0m\u001b[1;32m      4\u001b[0m     \u001b[0ml_doctors\u001b[0m\u001b[0;34m.\u001b[0m\u001b[0mappend\u001b[0m\u001b[0;34m(\u001b[0m\u001b[0md_detail\u001b[0m\u001b[0;34m)\u001b[0m\u001b[0;34m\u001b[0m\u001b[0;34m\u001b[0m\u001b[0m\n\u001b[1;32m      5\u001b[0m \u001b[0;31m# TODO add remaining info from dataframe\u001b[0m\u001b[0;34m\u001b[0m\u001b[0;34m\u001b[0m\u001b[0;34m\u001b[0m\u001b[0m\n",
      "\u001b[0;32m<ipython-input-131-4216cb678084>\u001b[0m in \u001b[0;36mget_doctor_detail\u001b[0;34m(url)\u001b[0m\n\u001b[1;32m     26\u001b[0m         \u001b[0mdriver\u001b[0m\u001b[0;34m.\u001b[0m\u001b[0mclose\u001b[0m\u001b[0;34m(\u001b[0m\u001b[0;34m)\u001b[0m\u001b[0;34m\u001b[0m\u001b[0;34m\u001b[0m\u001b[0m\n\u001b[1;32m     27\u001b[0m \u001b[0;34m\u001b[0m\u001b[0m\n\u001b[0;32m---> 28\u001b[0;31m         \u001b[0;32mreturn\u001b[0m \u001b[0md_detail\u001b[0m\u001b[0;34m\u001b[0m\u001b[0;34m\u001b[0m\u001b[0m\n\u001b[0m",
      "\u001b[0;31mUnboundLocalError\u001b[0m: local variable 'd_detail' referenced before assignment"
     ]
    }
   ],
   "source": [
    "l_doctors = []\n",
    "for url in doctors.url.unique():\n",
    "    d_detail = get_doctor_detail(url)\n",
    "    l_doctors.append(d_detail)\n",
    "# TODO add remaining info from dataframe"
   ]
  },
  {
   "cell_type": "code",
   "execution_count": 149,
   "metadata": {},
   "outputs": [],
   "source": [
    "save_dict_to_json(d_detail, 'doctors_sample')"
   ]
  },
  {
   "cell_type": "code",
   "execution_count": 151,
   "metadata": {},
   "outputs": [
    {
     "data": {
      "text/plain": [
       "{'INFORMACE': {'Vysoká škola': '2. LF Univerzity Karlovy v Praze',\n",
       "  'Rok promoce': '2016',\n",
       "  'Dosažená odbornost': 'všeobecné praktické lékařství',\n",
       "  'Diplom celoživotního vzdělávání': 'ano'},\n",
       " 'PLATNÉ LICENCE UDĚLENÉ ČESKOU LÉKAŘSKOU KOMOROU': {'K výkonu soukromé praxe a lektora v oboru': '-',\n",
       "  'Pro výkon funkce vedoucího lékaře a primáře v oboru': '-',\n",
       "  'Funkční licence pro léčebnou metodu': '-'},\n",
       " 'PRACOVIŠTĚ': None,\n",
       " 'JMÉNO': 'MUDr. Pavel Adámek',\n",
       " 'ČÍSLO': '1162962190'}"
      ]
     },
     "execution_count": 151,
     "metadata": {},
     "output_type": "execute_result"
    }
   ],
   "source": [
    "d_detail"
   ]
  },
  {
   "cell_type": "markdown",
   "metadata": {},
   "source": [
    "## References"
   ]
  },
  {
   "cell_type": "code",
   "execution_count": null,
   "metadata": {},
   "outputs": [],
   "source": [
    "## SELENIUM\n",
    "# https://www.youtube.com/watch?v=b5jt2bhSeXs&ab_channel=TechWithTim\n",
    "# https://selenium-python.readthedocs.io/api.html#module-selenium.webdriver.remote.webelement\n",
    "# https://stackoverflow.com/questions/58872451/how-can-i-bypass-the-google-captcha-with-selenium-and-python\n",
    "\n",
    "## SCRAPY\n",
    "# https://docs.scrapy.org/en/latest/topics/selectors.html\n",
    "# https://www.youtube.com/watch?v=s4jtkzHhLzY&ab_channel=JohnWatsonRooney\n",
    "# https://stackoverflow.com/questions/42947417/scrapy-extract-items-from-table\n",
    "\n",
    "## BASE64\n",
    "# https://stackoverflow.com/questions/3470546/how-do-you-decode-base64-data-in-python\n",
    "\n",
    "\n",
    "\n",
    "## OTHERS\n",
    "# https://www.edureka.co/blog/web-scraping-with-python/\n",
    "# https://realpython.com/beautiful-soup-web-scraper-python/\n",
    "# https://stackoverflow.com/questions/51007603/how-to-correctly-form-a-post-request-to-this-website-with-python-request\n",
    "# https://hackernoon.com/how-post-requests-with-python-make-web-scraping-easier-9i203511"
   ]
  }
 ],
 "metadata": {
  "kernelspec": {
   "display_name": "Python [conda env:vzd] *",
   "language": "python",
   "name": "conda-env-vzd-py"
  },
  "language_info": {
   "codemirror_mode": {
    "name": "ipython",
    "version": 3
   },
   "file_extension": ".py",
   "mimetype": "text/x-python",
   "name": "python",
   "nbconvert_exporter": "python",
   "pygments_lexer": "ipython3",
   "version": "3.7.4"
  }
 },
 "nbformat": 4,
 "nbformat_minor": 4
}
