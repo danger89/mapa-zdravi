{
 "cells": [
  {
   "cell_type": "markdown",
   "metadata": {},
   "source": [
    "# Models"
   ]
  },
  {
   "cell_type": "code",
   "execution_count": 26,
   "metadata": {},
   "outputs": [],
   "source": [
    "import pandas as pd\n",
    "import numpy as np\n",
    "\n",
    "PATH_FINAL = '../../data/final/'"
   ]
  },
  {
   "cell_type": "code",
   "execution_count": 27,
   "metadata": {},
   "outputs": [
    {
     "name": "stderr",
     "output_type": "stream",
     "text": [
      "/home/gary/Apps/miniconda3/envs/vzd/lib/python3.7/site-packages/IPython/core/interactiveshell.py:3186: DtypeWarning: Columns (0,3,21,22,23) have mixed types.Specify dtype option on import or set low_memory=False.\n",
      "  interactivity=interactivity, compiler=compiler, result=result)\n",
      "/home/gary/Apps/miniconda3/envs/vzd/lib/python3.7/site-packages/IPython/core/interactiveshell.py:3186: DtypeWarning: Columns (2) have mixed types.Specify dtype option on import or set low_memory=False.\n",
      "  interactivity=interactivity, compiler=compiler, result=result)\n"
     ]
    }
   ],
   "source": [
    "students = pd.read_csv(PATH_FINAL+'students.csv', index_col=0)\n",
    "doctors = pd.read_csv(PATH_FINAL+'doctors_all.csv', index_col=0)\n",
    "nrpzs = pd.read_csv(PATH_FINAL+'nrpzs.csv', index_col=0)\n",
    "demographics = pd.read_csv(PATH_FINAL+'demographics.csv', index_col=0)\n",
    "insurances = pd.read_csv(PATH_FINAL+'insurances.csv', index_col=0)\n",
    "dentists_age_estimate = pd.read_csv(PATH_FINAL+'dentists_age_estimate.csv', index_col=0)"
   ]
  },
  {
   "cell_type": "markdown",
   "metadata": {},
   "source": [
    "## 1. Graduated students estimate "
   ]
  },
  {
   "cell_type": "code",
   "execution_count": 66,
   "metadata": {},
   "outputs": [],
   "source": [
    "students_start_count = students.reset_index().groupby(['date_start', 'university', 'degree']).count()[['index']].reset_index()\n",
    "students_start_count = students_start_count[(2022 > students_start_count.date_start) & (students_start_count.date_start > 2015)]\n",
    "total_sum = students_start_count.groupby(['date_start', 'university']).sum().reset_index()\n",
    "total_sum.columns = ['date_start', 'university', 'total']\n",
    "merged_students = pd.merge(students_start_count, total_sum)\n",
    "merged_students['mudr_ratio'] = merged_students['index']/merged_students['total']\n",
    "merged_students = merged_students[merged_students.degree =='MUDr.'][['date_start', 'university', 'mudr_ratio']]"
   ]
  },
  {
   "cell_type": "code",
   "execution_count": 72,
   "metadata": {},
   "outputs": [],
   "source": [
    "uni_codes = {\n",
    "    '11110': '1LFUK',\n",
    "    '11120': '2LFUK',\n",
    "    '11130': '3LFUK',\n",
    "    '11140': 'PLUK',\n",
    "    '11150': 'HKUK',\n",
    "    '14110': 'MUNI',\n",
    "    '15110': 'UPOL',\n",
    "    '17110': 'OVA'\n",
    "}\n",
    "\n",
    "# uspesnosti https://www.ceskovdatech.cz/graphs/vs2.php\n",
    "chance_to_graduate = {\n",
    "    '1LFUK': .599,\n",
    "    '2LFUK': .789,\n",
    "    '3LFUK': .62,\n",
    "    'PLUK': .758,\n",
    "    'HKUK': .725,\n",
    "    'MUNI': .648,\n",
    "    'UPOL': .789,\n",
    "    'OVA': .782 \n",
    "}\n",
    "\n",
    "new_students = dict()\n",
    "graduate_estimate = dict()\n",
    "\n",
    "all_tables = pd.DataFrame()\n",
    "# https://dsia.msmt.cz//vystupy.html\n",
    "for year in range(16, 22):\n",
    "    table = pd.read_html(f'https://dsia.msmt.cz//vysluch{year}.html')[0]\n",
    "    table.columns = table.iloc[0]\n",
    "    table = table[1:][['rid','název školy/fakulty', 'zapsaných']].rename(columns={'zapsaných': 'count'})\n",
    "    table = table[table['název školy/fakulty'].str.contains('ékařská')]\n",
    "    table['university'] = table['rid'].apply(lambda x: uni_codes[x])\n",
    "    table = table[['university', 'count']]\n",
    "    table['date_start'] = 2000+year\n",
    "    table['count'] = pd.to_numeric(table['count'])\n",
    "    # table['graduate_estimate'] = round(table['zapsaných'].apply(int) * table['uni'].apply(lambda x: chance_to_graduate[x]))\n",
    "    all_tables = all_tables.append(table)"
   ]
  },
  {
   "cell_type": "code",
   "execution_count": 86,
   "metadata": {},
   "outputs": [
    {
     "data": {
      "text/plain": [
       "({2022: 1619.0,\n",
       "  2023: 1659.0,\n",
       "  2024: 1621.0,\n",
       "  2025: 1873.0,\n",
       "  2026: 1690.0,\n",
       "  2027: 2241.0},\n",
       " {2021: 200.0,\n",
       "  2022: 229.0,\n",
       "  2023: 206.0,\n",
       "  2024: 194.0,\n",
       "  2025: 197.0,\n",
       "  2026: 181.0})"
      ]
     },
     "execution_count": 86,
     "metadata": {},
     "output_type": "execute_result"
    }
   ],
   "source": [
    "graduates_estimate = pd.merge(all_tables, merged_students)\n",
    "graduates_estimate['mudr'] = round(graduates_estimate['mudr_ratio']*graduates_estimate['count'])\n",
    "graduates_estimate['mddr'] = round((1-graduates_estimate['mudr_ratio'])*graduates_estimate['count'])\n",
    "graduates_estimate['mudr_graduate_estimate'] = round(graduates_estimate['mudr'].apply(int) * graduates_estimate['university'].apply(lambda x: chance_to_graduate[x]))\n",
    "graduates_estimate['mddr_graduate_estimate'] = round(graduates_estimate['mddr'].apply(int) * graduates_estimate['university'].apply(lambda x: chance_to_graduate[x]))\n",
    "\n",
    "mudr_estimates = graduates_estimate.groupby('date_start').sum()[['mudr_graduate_estimate']]\n",
    "mddr_estimates = graduates_estimate.groupby('date_start').sum()[['mddr_graduate_estimate']]\n",
    "\n",
    "mudr_dict = pd.Series(mudr_estimates.mudr_graduate_estimate.values,index=mudr_estimates.index+6).to_dict()\n",
    "mddr_dict = pd.Series(mddr_estimates.mddr_graduate_estimate.values,index=mddr_estimates.index+5).to_dict()\n",
    "mudr_dict, mddr_dict"
   ]
  },
  {
   "cell_type": "code",
   "execution_count": 58,
   "metadata": {},
   "outputs": [],
   "source": []
  },
  {
   "cell_type": "code",
   "execution_count": null,
   "metadata": {},
   "outputs": [],
   "source": [
    "graduate_estimate\n",
    "# new_students\n",
    "\n",
    "# TODO rozdeleni na zubare a nezubare podle skoly procentualne"
   ]
  },
  {
   "cell_type": "code",
   "execution_count": null,
   "metadata": {},
   "outputs": [],
   "source": [
    "students[students.graduated == True].date_end.value_counts().sort_index()\n",
    "# students[students.graduated == False].date_start.value_counts().sort_index()"
   ]
  },
  {
   "cell_type": "code",
   "execution_count": null,
   "metadata": {},
   "outputs": [],
   "source": []
  }
 ],
 "metadata": {
  "kernelspec": {
   "display_name": "Python 3.7.4 64-bit ('vzd')",
   "language": "python",
   "name": "python3"
  },
  "language_info": {
   "codemirror_mode": {
    "name": "ipython",
    "version": 3
   },
   "file_extension": ".py",
   "mimetype": "text/x-python",
   "name": "python",
   "nbconvert_exporter": "python",
   "pygments_lexer": "ipython3",
   "version": "3.7.4"
  },
  "orig_nbformat": 4,
  "vscode": {
   "interpreter": {
    "hash": "f08ea57a3b14e8972cb95441d2d329063d79c5206768d2acc286d89f92e5e608"
   }
  }
 },
 "nbformat": 4,
 "nbformat_minor": 2
}
